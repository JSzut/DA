{
 "cells": [
  {
   "cell_type": "code",
   "execution_count": 1,
   "metadata": {},
   "outputs": [],
   "source": [
    "from cmdstanpy import CmdStanModel\n",
    "import pandas as pd\n",
    "import arviz as az \n",
    "import numpy as np\n",
    "import matplotlib.pyplot as plt\n",
    "import scipy.stats as stats"
   ]
  },
  {
   "cell_type": "code",
   "execution_count": 2,
   "metadata": {},
   "outputs": [],
   "source": [
    "F = 5\n",
    "L = 4"
   ]
  },
  {
   "cell_type": "markdown",
   "metadata": {},
   "source": [
    "## Excercise 1 -  Generated Quantities Block"
   ]
  },
  {
   "cell_type": "code",
   "execution_count": null,
   "metadata": {},
   "outputs": [],
   "source": []
  },
  {
   "cell_type": "code",
   "execution_count": 3,
   "metadata": {},
   "outputs": [
    {
     "name": "stderr",
     "output_type": "stream",
     "text": [
      "INFO:cmdstanpy:compiling stan file /home/szut/DA/lab2/code_1.stan to exe file /home/szut/DA/lab2/code_1\n",
      "INFO:cmdstanpy:compiled model executable: /home/szut/DA/lab2/code_1\n",
      "WARNING:cmdstanpy:Stan compiler has produced 1 warnings:\n",
      "WARNING:cmdstanpy:\n",
      "--- Translating Stan model to C++ code ---\n",
      "bin/stanc  --o=/home/szut/DA/lab2/code_1.hpp /home/szut/DA/lab2/code_1.stan\n",
      "Warning in '/home/szut/DA/lab2/code_1.stan', line 7, column 3: Declaration of\n",
      "    arrays by placing brackets after a variable name is deprecated and will\n",
      "    be removed in Stan 2.32.0. Instead use the array keyword before the type.\n",
      "    This can be changed automatically using the auto-format flag to stanc\n",
      "\n",
      "--- Compiling, linking C++ code ---\n",
      "g++ -std=c++1y -pthread -D_REENTRANT -Wno-sign-compare -Wno-ignored-attributes      -I stan/lib/stan_math/lib/tbb_2020.3/include    -O3 -I src -I stan/src -I lib/rapidjson_1.1.0/ -I lib/CLI11-1.9.1/ -I stan/lib/stan_math/ -I stan/lib/stan_math/lib/eigen_3.3.9 -I stan/lib/stan_math/lib/boost_1.75.0 -I stan/lib/stan_math/lib/sundials_6.0.0/include -I stan/lib/stan_math/lib/sundials_6.0.0/src/sundials    -DBOOST_DISABLE_ASSERTS          -c -Wno-ignored-attributes   -x c++ -o /home/szut/DA/lab2/code_1.o /home/szut/DA/lab2/code_1.hpp\n",
      "g++ -std=c++1y -pthread -D_REENTRANT -Wno-sign-compare -Wno-ignored-attributes      -I stan/lib/stan_math/lib/tbb_2020.3/include    -O3 -I src -I stan/src -I lib/rapidjson_1.1.0/ -I lib/CLI11-1.9.1/ -I stan/lib/stan_math/ -I stan/lib/stan_math/lib/eigen_3.3.9 -I stan/lib/stan_math/lib/boost_1.75.0 -I stan/lib/stan_math/lib/sundials_6.0.0/include -I stan/lib/stan_math/lib/sundials_6.0.0/src/sundials    -DBOOST_DISABLE_ASSERTS                -Wl,-L,\"/home/szut/.cmdstan/cmdstan-2.29.1/stan/lib/stan_math/lib/tbb\" -Wl,-rpath,\"/home/szut/.cmdstan/cmdstan-2.29.1/stan/lib/stan_math/lib/tbb\"      /home/szut/DA/lab2/code_1.o src/cmdstan/main.o        -Wl,-L,\"/home/szut/.cmdstan/cmdstan-2.29.1/stan/lib/stan_math/lib/tbb\" -Wl,-rpath,\"/home/szut/.cmdstan/cmdstan-2.29.1/stan/lib/stan_math/lib/tbb\"   stan/lib/stan_math/lib/sundials_6.0.0/lib/libsundials_nvecserial.a stan/lib/stan_math/lib/sundials_6.0.0/lib/libsundials_cvodes.a stan/lib/stan_math/lib/sundials_6.0.0/lib/libsundials_idas.a stan/lib/stan_math/lib/sundials_6.0.0/lib/libsundials_kinsol.a  stan/lib/stan_math/lib/tbb/libtbb.so.2 -o /home/szut/DA/lab2/code_1\n",
      "rm -f /home/szut/DA/lab2/code_1.o\n",
      "\n"
     ]
    }
   ],
   "source": [
    "gen_quant = CmdStanModel(stan_file='code_1.stan')\n"
   ]
  },
  {
   "cell_type": "code",
   "execution_count": 4,
   "metadata": {},
   "outputs": [
    {
     "name": "stderr",
     "output_type": "stream",
     "text": [
      "INFO:cmdstanpy:CmdStan start processing\n"
     ]
    },
    {
     "data": {
      "application/vnd.jupyter.widget-view+json": {
       "model_id": "efa281661aa746d6a519e70cb0f18760",
       "version_major": 2,
       "version_minor": 0
      },
      "text/plain": [
       "chain 1 |          | 00:00 Status"
      ]
     },
     "metadata": {},
     "output_type": "display_data"
    },
    {
     "name": "stdout",
     "output_type": "stream",
     "text": [
      "                                                                                                                                                                                                                                              "
     ]
    },
    {
     "name": "stderr",
     "output_type": "stream",
     "text": [
      "INFO:cmdstanpy:CmdStan done processing.\n"
     ]
    },
    {
     "name": "stdout",
     "output_type": "stream",
     "text": [
      "\n"
     ]
    }
   ],
   "source": [
    "samples = gen_quant.sample(data={'M':F}, \n",
    "                            fixed_param=True, \n",
    "                            iter_sampling=1000, \n",
    "                            iter_warmup=0, \n",
    "                            chains = 1)"
   ]
  },
  {
   "cell_type": "code",
   "execution_count": 7,
   "metadata": {},
   "outputs": [
    {
     "data": {
      "text/plain": [
       "(array([[119.,  89.,  94.,  93.,  85.,  89.,  77.,  56.,  53.,  30.,  41.,\n",
       "          28.,  28.,  29.,  15.,  18.,  18.,  11.,   5.,   2.,   9.,   3.,\n",
       "           2.,   2.,   2.,   0.,   0.,   1.,   1.,   0.],\n",
       "        [117.,  90.,  92.,  92.,  95.,  79.,  72.,  54.,  58.,  43.,  35.,\n",
       "          32.,  22.,  23.,  24.,  21.,  14.,   9.,   4.,   4.,   6.,   8.,\n",
       "           2.,   1.,   1.,   0.,   1.,   0.,   1.,   0.],\n",
       "        [120.,  93.,  87.,  97.,  95.,  72.,  76.,  55.,  56.,  47.,  29.,\n",
       "          29.,  25.,  18.,  28.,  20.,  17.,  10.,   1.,   5.,   7.,   5.,\n",
       "           4.,   2.,   0.,   0.,   0.,   0.,   1.,   1.],\n",
       "        [117.,  98.,  87.,  98.,  92.,  70.,  72.,  65.,  53.,  31.,  45.,\n",
       "          30.,  27.,  28.,  15.,  18.,  13.,  14.,  10.,   2.,   6.,   3.,\n",
       "           4.,   0.,   0.,   0.,   0.,   1.,   1.,   0.],\n",
       "        [119.,  89.,  93.,  92.,  77.,  89.,  73.,  61.,  63.,  33.,  33.,\n",
       "          33.,  27.,  31.,  19.,  15.,  12.,  10.,   6.,   7.,   5.,   7.,\n",
       "           1.,   1.,   1.,   1.,   1.,   0.,   0.,   1.]]),\n",
       " array([  0.        ,  15.23333333,  30.46666667,  45.7       ,\n",
       "         60.93333333,  76.16666667,  91.4       , 106.63333333,\n",
       "        121.86666667, 137.1       , 152.33333333, 167.56666667,\n",
       "        182.8       , 198.03333333, 213.26666667, 228.5       ,\n",
       "        243.73333333, 258.96666667, 274.2       , 289.43333333,\n",
       "        304.66666667, 319.9       , 335.13333333, 350.36666667,\n",
       "        365.6       , 380.83333333, 396.06666667, 411.3       ,\n",
       "        426.53333333, 441.76666667, 457.        ]),\n",
       " <a list of 5 BarContainer objects>)"
      ]
     },
     "execution_count": 7,
     "metadata": {},
     "output_type": "execute_result"
    },
    {
     "data": {
      "image/png": "[encoded data removed]",
      "text/plain": [
       "<Figure size 432x288 with 1 Axes>"
      ]
     },
     "metadata": {
      "needs_background": "light"
     },
     "output_type": "display_data"
    }
   ],
   "source": [
    "y_sim = samples.stan_variable('y_sim')\n",
    "plt.hist(y_sim, bins=30)"
   ]
  },
  {
   "cell_type": "code",
   "execution_count": 15,
   "metadata": {},
   "outputs": [
    {
     "data": {
      "text/html": [
       "<div>\n",
       "<style scoped>\n",
       "    .dataframe tbody tr th:only-of-type {\n",
       "        vertical-align: middle;\n",
       "    }\n",
       "\n",
       "    .dataframe tbody tr th {\n",
       "        vertical-align: top;\n",
       "    }\n",
       "\n",
       "    .dataframe thead th {\n",
       "        text-align: right;\n",
       "    }\n",
       "</style>\n",
       "<table border=\"1\" class=\"dataframe\">\n",
       "  <thead>\n",
       "    <tr style=\"text-align: right;\">\n",
       "      <th></th>\n",
       "      <th>0</th>\n",
       "      <th>1</th>\n",
       "      <th>2</th>\n",
       "      <th>3</th>\n",
       "      <th>4</th>\n",
       "    </tr>\n",
       "  </thead>\n",
       "  <tbody>\n",
       "    <tr>\n",
       "      <th>0</th>\n",
       "      <td>56.0</td>\n",
       "      <td>63.0</td>\n",
       "      <td>46.0</td>\n",
       "      <td>57.0</td>\n",
       "      <td>59.0</td>\n",
       "    </tr>\n",
       "    <tr>\n",
       "      <th>1</th>\n",
       "      <td>136.0</td>\n",
       "      <td>148.0</td>\n",
       "      <td>148.0</td>\n",
       "      <td>143.0</td>\n",
       "      <td>159.0</td>\n",
       "    </tr>\n",
       "    <tr>\n",
       "      <th>2</th>\n",
       "      <td>29.0</td>\n",
       "      <td>39.0</td>\n",
       "      <td>23.0</td>\n",
       "      <td>36.0</td>\n",
       "      <td>24.0</td>\n",
       "    </tr>\n",
       "    <tr>\n",
       "      <th>3</th>\n",
       "      <td>63.0</td>\n",
       "      <td>71.0</td>\n",
       "      <td>73.0</td>\n",
       "      <td>79.0</td>\n",
       "      <td>64.0</td>\n",
       "    </tr>\n",
       "    <tr>\n",
       "      <th>4</th>\n",
       "      <td>30.0</td>\n",
       "      <td>28.0</td>\n",
       "      <td>23.0</td>\n",
       "      <td>26.0</td>\n",
       "      <td>26.0</td>\n",
       "    </tr>\n",
       "    <tr>\n",
       "      <th>...</th>\n",
       "      <td>...</td>\n",
       "      <td>...</td>\n",
       "      <td>...</td>\n",
       "      <td>...</td>\n",
       "      <td>...</td>\n",
       "    </tr>\n",
       "    <tr>\n",
       "      <th>995</th>\n",
       "      <td>90.0</td>\n",
       "      <td>76.0</td>\n",
       "      <td>73.0</td>\n",
       "      <td>73.0</td>\n",
       "      <td>78.0</td>\n",
       "    </tr>\n",
       "    <tr>\n",
       "      <th>996</th>\n",
       "      <td>241.0</td>\n",
       "      <td>271.0</td>\n",
       "      <td>282.0</td>\n",
       "      <td>268.0</td>\n",
       "      <td>247.0</td>\n",
       "    </tr>\n",
       "    <tr>\n",
       "      <th>997</th>\n",
       "      <td>62.0</td>\n",
       "      <td>48.0</td>\n",
       "      <td>65.0</td>\n",
       "      <td>50.0</td>\n",
       "      <td>62.0</td>\n",
       "    </tr>\n",
       "    <tr>\n",
       "      <th>998</th>\n",
       "      <td>226.0</td>\n",
       "      <td>233.0</td>\n",
       "      <td>227.0</td>\n",
       "      <td>228.0</td>\n",
       "      <td>227.0</td>\n",
       "    </tr>\n",
       "    <tr>\n",
       "      <th>999</th>\n",
       "      <td>131.0</td>\n",
       "      <td>148.0</td>\n",
       "      <td>129.0</td>\n",
       "      <td>136.0</td>\n",
       "      <td>137.0</td>\n",
       "    </tr>\n",
       "  </tbody>\n",
       "</table>\n",
       "<p>1000 rows × 5 columns</p>\n",
       "</div>"
      ],
      "text/plain": [
       "         0      1      2      3      4\n",
       "0     56.0   63.0   46.0   57.0   59.0\n",
       "1    136.0  148.0  148.0  143.0  159.0\n",
       "2     29.0   39.0   23.0   36.0   24.0\n",
       "3     63.0   71.0   73.0   79.0   64.0\n",
       "4     30.0   28.0   23.0   26.0   26.0\n",
       "..     ...    ...    ...    ...    ...\n",
       "995   90.0   76.0   73.0   73.0   78.0\n",
       "996  241.0  271.0  282.0  268.0  247.0\n",
       "997   62.0   48.0   65.0   50.0   62.0\n",
       "998  226.0  233.0  227.0  228.0  227.0\n",
       "999  131.0  148.0  129.0  136.0  137.0\n",
       "\n",
       "[1000 rows x 5 columns]"
      ]
     },
     "execution_count": 15,
     "metadata": {},
     "output_type": "execute_result"
    }
   ],
   "source": [
    "df_ysim = pd.DataFrame(data=y_sim)\n",
    "df_ysim"
   ]
  },
  {
   "cell_type": "code",
   "execution_count": 10,
   "metadata": {},
   "outputs": [
    {
     "data": {
      "text/plain": [
       "(array([111.,  87.,  82.,  99.,  84.,  69.,  77.,  58.,  58.,  41.,  39.,\n",
       "         32.,  33.,  21.,  21.,  22.,  13.,  15.,  12.,   3.,   4.,   4.,\n",
       "          8.,   1.,   2.,   2.,   0.,   0.,   0.,   2.]),\n",
       " array([4.00663000e-02, 1.43719308e+01, 2.87037952e+01, 4.30356597e+01,\n",
       "        5.73675241e+01, 7.16993886e+01, 8.60312530e+01, 1.00363117e+02,\n",
       "        1.14694982e+02, 1.29026846e+02, 1.43358711e+02, 1.57690575e+02,\n",
       "        1.72022440e+02, 1.86354304e+02, 2.00686169e+02, 2.15018033e+02,\n",
       "        2.29349898e+02, 2.43681762e+02, 2.58013627e+02, 2.72345491e+02,\n",
       "        2.86677355e+02, 3.01009220e+02, 3.15341084e+02, 3.29672949e+02,\n",
       "        3.44004813e+02, 3.58336678e+02, 3.72668542e+02, 3.87000407e+02,\n",
       "        4.01332271e+02, 4.15664136e+02, 4.29996000e+02]),\n",
       " <BarContainer object of 30 artists>)"
      ]
     },
     "execution_count": 10,
     "metadata": {},
     "output_type": "execute_result"
    },
    {
     "data": {
      "image/png": "[encoded data removed]",
      "text/plain": [
       "<Figure size 432x288 with 1 Axes>"
      ]
     },
     "metadata": {
      "needs_background": "light"
     },
     "output_type": "display_data"
    }
   ],
   "source": [
    "lambd = samples.stan_variable('lambda')\n",
    "plt.hist(lambd, bins=30)"
   ]
  },
  {
   "cell_type": "code",
   "execution_count": 16,
   "metadata": {},
   "outputs": [
    {
     "data": {
      "text/html": [
       "<div>\n",
       "<style scoped>\n",
       "    .dataframe tbody tr th:only-of-type {\n",
       "        vertical-align: middle;\n",
       "    }\n",
       "\n",
       "    .dataframe tbody tr th {\n",
       "        vertical-align: top;\n",
       "    }\n",
       "\n",
       "    .dataframe thead th {\n",
       "        text-align: right;\n",
       "    }\n",
       "</style>\n",
       "<table border=\"1\" class=\"dataframe\">\n",
       "  <thead>\n",
       "    <tr style=\"text-align: right;\">\n",
       "      <th></th>\n",
       "      <th>0</th>\n",
       "    </tr>\n",
       "  </thead>\n",
       "  <tbody>\n",
       "    <tr>\n",
       "      <th>0</th>\n",
       "      <td>54.5085</td>\n",
       "    </tr>\n",
       "    <tr>\n",
       "      <th>1</th>\n",
       "      <td>142.2660</td>\n",
       "    </tr>\n",
       "    <tr>\n",
       "      <th>2</th>\n",
       "      <td>30.2121</td>\n",
       "    </tr>\n",
       "    <tr>\n",
       "      <th>3</th>\n",
       "      <td>65.5429</td>\n",
       "    </tr>\n",
       "    <tr>\n",
       "      <th>4</th>\n",
       "      <td>28.3051</td>\n",
       "    </tr>\n",
       "    <tr>\n",
       "      <th>...</th>\n",
       "      <td>...</td>\n",
       "    </tr>\n",
       "    <tr>\n",
       "      <th>995</th>\n",
       "      <td>79.9807</td>\n",
       "    </tr>\n",
       "    <tr>\n",
       "      <th>996</th>\n",
       "      <td>259.7240</td>\n",
       "    </tr>\n",
       "    <tr>\n",
       "      <th>997</th>\n",
       "      <td>59.8436</td>\n",
       "    </tr>\n",
       "    <tr>\n",
       "      <th>998</th>\n",
       "      <td>233.5230</td>\n",
       "    </tr>\n",
       "    <tr>\n",
       "      <th>999</th>\n",
       "      <td>135.8110</td>\n",
       "    </tr>\n",
       "  </tbody>\n",
       "</table>\n",
       "<p>1000 rows × 1 columns</p>\n",
       "</div>"
      ],
      "text/plain": [
       "            0\n",
       "0     54.5085\n",
       "1    142.2660\n",
       "2     30.2121\n",
       "3     65.5429\n",
       "4     28.3051\n",
       "..        ...\n",
       "995   79.9807\n",
       "996  259.7240\n",
       "997   59.8436\n",
       "998  233.5230\n",
       "999  135.8110\n",
       "\n",
       "[1000 rows x 1 columns]"
      ]
     },
     "execution_count": 16,
     "metadata": {},
     "output_type": "execute_result"
    }
   ],
   "source": [
    "df_lambd = pd.DataFrame(data=lambd)\n",
    "df_lambd"
   ]
  },
  {
   "cell_type": "markdown",
   "metadata": {},
   "source": [
    "## Excercise 2 - Constraints on the data "
   ]
  },
  {
   "cell_type": "code",
   "execution_count": 36,
   "metadata": {},
   "outputs": [
    {
     "name": "stderr",
     "output_type": "stream",
     "text": [
      "INFO:cmdstanpy:compiling stan file /home/szut/DA/lab2/code_2.stan to exe file /home/szut/DA/lab2/code_2\n",
      "INFO:cmdstanpy:compiled model executable: /home/szut/DA/lab2/code_2\n",
      "WARNING:cmdstanpy:Stan compiler has produced 1 warnings:\n",
      "WARNING:cmdstanpy:\n",
      "--- Translating Stan model to C++ code ---\n",
      "bin/stanc  --o=/home/szut/DA/lab2/code_2.hpp /home/szut/DA/lab2/code_2.stan\n",
      "Warning in '/home/szut/DA/lab2/code_2.stan', line 3, column 4: Declaration of\n",
      "    arrays by placing brackets after a variable name is deprecated and will\n",
      "    be removed in Stan 2.32.0. Instead use the array keyword before the type.\n",
      "    This can be changed automatically using the auto-format flag to stanc\n",
      "\n",
      "--- Compiling, linking C++ code ---\n",
      "g++ -std=c++1y -pthread -D_REENTRANT -Wno-sign-compare -Wno-ignored-attributes      -I stan/lib/stan_math/lib/tbb_2020.3/include    -O3 -I src -I stan/src -I lib/rapidjson_1.1.0/ -I lib/CLI11-1.9.1/ -I stan/lib/stan_math/ -I stan/lib/stan_math/lib/eigen_3.3.9 -I stan/lib/stan_math/lib/boost_1.75.0 -I stan/lib/stan_math/lib/sundials_6.0.0/include -I stan/lib/stan_math/lib/sundials_6.0.0/src/sundials    -DBOOST_DISABLE_ASSERTS          -c -Wno-ignored-attributes   -x c++ -o /home/szut/DA/lab2/code_2.o /home/szut/DA/lab2/code_2.hpp\n",
      "g++ -std=c++1y -pthread -D_REENTRANT -Wno-sign-compare -Wno-ignored-attributes      -I stan/lib/stan_math/lib/tbb_2020.3/include    -O3 -I src -I stan/src -I lib/rapidjson_1.1.0/ -I lib/CLI11-1.9.1/ -I stan/lib/stan_math/ -I stan/lib/stan_math/lib/eigen_3.3.9 -I stan/lib/stan_math/lib/boost_1.75.0 -I stan/lib/stan_math/lib/sundials_6.0.0/include -I stan/lib/stan_math/lib/sundials_6.0.0/src/sundials    -DBOOST_DISABLE_ASSERTS                -Wl,-L,\"/home/szut/.cmdstan/cmdstan-2.29.1/stan/lib/stan_math/lib/tbb\" -Wl,-rpath,\"/home/szut/.cmdstan/cmdstan-2.29.1/stan/lib/stan_math/lib/tbb\"      /home/szut/DA/lab2/code_2.o src/cmdstan/main.o        -Wl,-L,\"/home/szut/.cmdstan/cmdstan-2.29.1/stan/lib/stan_math/lib/tbb\" -Wl,-rpath,\"/home/szut/.cmdstan/cmdstan-2.29.1/stan/lib/stan_math/lib/tbb\"   stan/lib/stan_math/lib/sundials_6.0.0/lib/libsundials_nvecserial.a stan/lib/stan_math/lib/sundials_6.0.0/lib/libsundials_cvodes.a stan/lib/stan_math/lib/sundials_6.0.0/lib/libsundials_idas.a stan/lib/stan_math/lib/sundials_6.0.0/lib/libsundials_kinsol.a  stan/lib/stan_math/lib/tbb/libtbb.so.2 -o /home/szut/DA/lab2/code_2\n",
      "rm -f /home/szut/DA/lab2/code_2.o\n",
      "\n",
      "INFO:cmdstanpy:CmdStan start processing\n"
     ]
    },
    {
     "data": {
      "application/vnd.jupyter.widget-view+json": {
       "model_id": "d6035ddea5164d97a8379ed02937456b",
       "version_major": 2,
       "version_minor": 0
      },
      "text/plain": [
       "chain 1 |          | 00:00 Status"
      ]
     },
     "metadata": {},
     "output_type": "display_data"
    },
    {
     "data": {
      "application/vnd.jupyter.widget-view+json": {
       "model_id": "2ac7427680384378a565e9e1b5e19eba",
       "version_major": 2,
       "version_minor": 0
      },
      "text/plain": [
       "chain 2 |          | 00:00 Status"
      ]
     },
     "metadata": {},
     "output_type": "display_data"
    },
    {
     "data": {
      "application/vnd.jupyter.widget-view+json": {
       "model_id": "71446099b21d48d29fc9ebd952033c1d",
       "version_major": 2,
       "version_minor": 0
      },
      "text/plain": [
       "chain 3 |          | 00:00 Status"
      ]
     },
     "metadata": {},
     "output_type": "display_data"
    },
    {
     "data": {
      "application/vnd.jupyter.widget-view+json": {
       "model_id": "d89104ff459e4a6782adc95ba85e28bc",
       "version_major": 2,
       "version_minor": 0
      },
      "text/plain": [
       "chain 4 |          | 00:00 Status"
      ]
     },
     "metadata": {},
     "output_type": "display_data"
    },
    {
     "name": "stderr",
     "output_type": "stream",
     "text": [
      "ERROR:cmdstanpy:Chain [1] error: error during processing Operation not permitted\n",
      "ERROR:cmdstanpy:Chain [2] error: error during processing Operation not permitted\n",
      "ERROR:cmdstanpy:Chain [3] error: error during processing Operation not permitted\n",
      "ERROR:cmdstanpy:Chain [4] error: error during processing Operation not permitted\n"
     ]
    },
    {
     "name": "stdout",
     "output_type": "stream",
     "text": [
      "                                                                                                                                                                                                                                                                                                                                                                                                                                                                                                                                                                                                                                                                                                                                                                                                                                                                                                                                                                                        "
     ]
    },
    {
     "name": "stderr",
     "output_type": "stream",
     "text": [
      "INFO:cmdstanpy:CmdStan done processing.\n"
     ]
    },
    {
     "name": "stdout",
     "output_type": "stream",
     "text": [
      "\n"
     ]
    },
    {
     "ename": "RuntimeError",
     "evalue": "Error during sampling:\nException: bernoulli_lpmf: n[2] is 2, but must be in the interval [0, 1] (in '/home/szut/DA/lab2/code_2.stan', line 10, column 4 to column 25)\n\tException: bernoulli_lpmf: n[2] is 2, but must be in the interval [0, 1] (in '/home/szut/DA/lab2/code_2.stan', line 10, column 4 to column 25)\n\tException: bernoulli_lpmf: n[2] is 2, but must be in the interval [0, 1] (in '/home/szut/DA/lab2/code_2.stan', line 10, column 4 to column 25)\n\tException: bernoulli_lpmf: n[2] is 2, but must be in the interval [0, 1] (in '/home/szut/DA/lab2/code_2.stan', line 10, column 4 to column 25)\n\tException: bernoulli_lpmf: n[2] is 2, but must be in the interval [0, 1] (in '/home/szut/DA/lab2/code_2.stan', line 10, column 4 to column 25)\n\tException: bernoulli_lpmf: n[2] is 2, but must be in the interval [0, 1] (in '/home/szut/DA/lab2/code_2.stan', line 10, column 4 to column 25)\n\tException: bernoulli_lpmf: n[2] is 2, but must be in the interval [0, 1] (in '/home/szut/DA/lab2/code_2.stan', line 10, column 4 to column 25)\n\tException: bernoulli_lpmf: n[2] is 2, but must be in the interval [0, 1] (in '/home/szut/DA/lab2/code_2.stan', line 10, column 4 to column 25)\n\tException: bernoulli_lpmf: n[2] is 2, but must be in the interval [0, 1] (in '/home/szut/DA/lab2/code_2.stan', line 10, column 4 to column 25)\n\tException: bernoulli_lpmf: n[2] is 2, but must be in the interval [0, 1] (in '/home/szut/DA/lab2/code_2.stan', line 10, column 4 to column 25)\n\tException: bernoulli_lpmf: n[2] is 2, but must be in the interval [0, 1] (in '/home/szut/DA/lab2/code_2.stan', line 10, column 4 to column 25)\n\tException: bernoulli_lpmf: n[2] is 2, but must be in the interval [0, 1] (in '/home/szut/DA/lab2/code_2.stan', line 10, column 4 to column 25)\n\tException: bernoulli_lpmf: n[2] is 2, but must be in the interval [0, 1] (in '/home/szut/DA/lab2/code_2.stan', line 10, column 4 to column 25)\n\tException: bernoulli_lpmf: n[2] is 2, but must be in the interval [0, 1] (in '/home/szut/DA/lab2/code_2.stan', line 10, column 4 to column 25)\n\tException: bernoulli_lpmf: n[2] is 2, but must be in the interval [0, 1] (in '/home/szut/DA/lab2/code_2.stan', line 10, column 4 to column 25)\n\tException: bernoulli_lpmf: n[2] is 2, but must be in the interval [0, 1] (in '/home/szut/DA/lab2/code_2.stan', line 10, column 4 to column 25)\n\tException: bernoulli_lpmf: n[2] is 2, but must be in the interval [0, 1] (in '/home/szut/DA/lab2/code_2.stan', line 10, column 4 to column 25)\n\tException: bernoulli_lpmf: n[2] is 2, but must be in the interval [0, 1] (in '/home/szut/DA/lab2/code_2.stan', line 10, column 4 to column 25)\n\tException: bernoulli_lpmf: n[2] is 2, but must be in the interval [0, 1] (in '/home/szut/DA/lab2/code_2.stan', line 10, column 4 to column 25)\n\tException: bernoulli_lpmf: n[2] is 2, but must be in the interval [0, 1] (in '/home/szut/DA/lab2/code_2.stan', line 10, column 4 to column 25)\n\tException: bernoulli_lpmf: n[2] is 2, but must be in the interval [0, 1] (in '/home/szut/DA/lab2/code_2.stan', line 10, column 4 to column 25)\n\tException: bernoulli_lpmf: n[2] is 2, but must be in the interval [0, 1] (in '/home/szut/DA/lab2/code_2.stan', line 10, column 4 to column 25)\n\tException: bernoulli_lpmf: n[2] is 2, but must be in the interval [0, 1] (in '/home/szut/DA/lab2/code_2.stan', line 10, column 4 to column 25)\n\tException: bernoulli_lpmf: n[2] is 2, but must be in the interval [0, 1] (in '/home/szut/DA/lab2/code_2.stan', line 10, column 4 to column 25)\n\tException: bernoulli_lpmf: n[2] is 2, but must be in the interval [0, 1] (in '/home/szut/DA/lab2/code_2.stan', line 10, column 4 to column 25)\n\tException: bernoulli_lpmf: n[2] is 2, but must be in the interval [0, 1] (in '/home/szut/DA/lab2/code_2.stan', line 10, column 4 to column 25)\n\tException: bernoulli_lpmf: n[2] is 2, but must be in the interval [0, 1] (in '/home/szut/DA/lab2/code_2.stan', line 10, column 4 to column 25)\n\tException: bernoulli_lpmf: n[2] is 2, but must be in the interval [0, 1] (in '/home/szut/DA/lab2/code_2.stan', line 10, column 4 to column 25)\n\tException: bernoulli_lpmf: n[2] is 2, but must be in the interval [0, 1] (in '/home/szut/DA/lab2/code_2.stan', line 10, column 4 to column 25)\n\tException: bernoulli_lpmf: n[2] is 2, but must be in the interval [0, 1] (in '/home/szut/DA/lab2/code_2.stan', line 10, column 4 to column 25)\n\tException: bernoulli_lpmf: n[2] is 2, but must be in the interval [0, 1] (in '/home/szut/DA/lab2/code_2.stan', line 10, column 4 to column 25)\n\tException: bernoulli_lpmf: n[2] is 2, but must be in the interval [0, 1] (in '/home/szut/DA/lab2/code_2.stan', line 10, column 4 to column 25)\n\tException: bernoulli_lpmf: n[2] is 2, but must be in the interval [0, 1] (in '/home/szut/DA/lab2/code_2.stan', line 10, column 4 to column 25)\n\tException: bernoulli_lpmf: n[2] is 2, but must be in the interval [0, 1] (in '/home/szut/DA/lab2/code_2.stan', line 10, column 4 to column 25)\n\tException: bernoulli_lpmf: n[2] is 2, but must be in the interval [0, 1] (in '/home/szut/DA/lab2/code_2.stan', line 10, column 4 to column 25)\n\tException: bernoulli_lpmf: n[2] is 2, but must be in the interval [0, 1] (in '/home/szut/DA/lab2/code_2.stan', line 10, column 4 to column 25)\n\tException: bernoulli_lpmf: n[2] is 2, but must be in the interval [0, 1] (in '/home/szut/DA/lab2/code_2.stan', line 10, column 4 to column 25)\n\tException: bernoulli_lpmf: n[2] is 2, but must be in the interval [0, 1] (in '/home/szut/DA/lab2/code_2.stan', line 10, column 4 to column 25)\n\tException: bernoulli_lpmf: n[2] is 2, but must be in the interval [0, 1] (in '/home/szut/DA/lab2/code_2.stan', line 10, column 4 to column 25)\n\tException: bernoulli_lpmf: n[2] is 2, but must be in the interval [0, 1] (in '/home/szut/DA/lab2/code_2.stan', line 10, column 4 to column 25)\n\tException: bernoulli_lpmf: n[2] is 2, but must be in the interval [0, 1] (in '/home/szut/DA/lab2/code_2.stan', line 10, column 4 to column 25)\n\tException: bernoulli_lpmf: n[2] is 2, but must be in the interval [0, 1] (in '/home/szut/DA/lab2/code_2.stan', line 10, column 4 to column 25)\n\tException: bernoulli_lpmf: n[2] is 2, but must be in the interval [0, 1] (in '/home/szut/DA/lab2/code_2.stan', line 10, column 4 to column 25)\n\tException: bernoulli_lpmf: n[2] is 2, but must be in the interval [0, 1] (in '/home/szut/DA/lab2/code_2.stan', line 10, column 4 to column 25)\n\tException: bernoulli_lpmf: n[2] is 2, but must be in the interval [0, 1] (in '/home/szut/DA/lab2/code_2.stan', line 10, column 4 to column 25)\n\tException: bernoulli_lpmf: n[2] is 2, but must be in the interval [0, 1] (in '/home/szut/DA/lab2/code_2.stan', line 10, column 4 to column 25)\n\tException: bernoulli_lpmf: n[2] is 2, but must be in the interval [0, 1] (in '/home/szut/DA/lab2/code_2.stan', line 10, column 4 to column 25)\n\tException: bernoulli_lpmf: n[2] is 2, but must be in the interval [0, 1] (in '/home/szut/DA/lab2/code_2.stan', line 10, column 4 to column 25)\n\tException: bernoulli_lpmf: n[2] is 2, but must be in the interval [0, 1] (in '/home/szut/DA/lab2/code_2.stan', line 10, column 4 to column 25)\n\tException: bernoulli_lpmf: n[2] is 2, but must be in the interval [0, 1] (in '/home/szut/DA/lab2/code_2.stan', line 10, column 4 to column 25)\n\tException: bernoulli_lpmf: n[2] is 2, but must be in the interval [0, 1] (in '/home/szut/DA/lab2/code_2.stan', line 10, column 4 to column 25)\n\tException: bernoulli_lpmf: n[2] is 2, but must be in the interval [0, 1] (in '/home/szut/DA/lab2/code_2.stan', line 10, column 4 to column 25)\n\tException: bernoulli_lpmf: n[2] is 2, but must be in the interval [0, 1] (in '/home/szut/DA/lab2/code_2.stan', line 10, column 4 to column 25)\n\tException: bernoulli_lpmf: n[2] is 2, but must be in the interval [0, 1] (in '/home/szut/DA/lab2/code_2.stan', line 10, column 4 to column 25)\n\tException: bernoulli_lpmf: n[2] is 2, but must be in the interval [0, 1] (in '/home/szut/DA/lab2/code_2.stan', line 10, column 4 to column 25)\n\tException: bernoulli_lpmf: n[2] is 2, but must be in the interval [0, 1] (in '/home/szut/DA/lab2/code_2.stan', line 10, column 4 to column 25)\n\tException: bernoulli_lpmf: n[2] is 2, but must be in the interval [0, 1] (in '/home/szut/DA/lab2/code_2.stan', line 10, column 4 to column 25)\n\tException: bernoulli_lpmf: n[2] is 2, but must be in the interval [0, 1] (in '/home/szut/DA/lab2/code_2.stan', line 10, column 4 to column 25)\n\tException: bernoulli_lpmf: n[2] is 2, but must be in the interval [0, 1] (in '/home/szut/DA/lab2/code_2.stan', line 10, column 4 to column 25)\n\tException: bernoulli_lpmf: n[2] is 2, but must be in the interval [0, 1] (in '/home/szut/DA/lab2/code_2.stan', line 10, column 4 to column 25)\n\tException: bernoulli_lpmf: n[2] is 2, but must be in the interval [0, 1] (in '/home/szut/DA/lab2/code_2.stan', line 10, column 4 to column 25)\n\tException: bernoulli_lpmf: n[2] is 2, but must be in the interval [0, 1] (in '/home/szut/DA/lab2/code_2.stan', line 10, column 4 to column 25)\n\tException: bernoulli_lpmf: n[2] is 2, but must be in the interval [0, 1] (in '/home/szut/DA/lab2/code_2.stan', line 10, column 4 to column 25)\n\tException: bernoulli_lpmf: n[2] is 2, but must be in the interval [0, 1] (in '/home/szut/DA/lab2/code_2.stan', line 10, column 4 to column 25)\n\tException: bernoulli_lpmf: n[2] is 2, but must be in the interval [0, 1] (in '/home/szut/DA/lab2/code_2.stan', line 10, column 4 to column 25)\n\tException: bernoulli_lpmf: n[2] is 2, but must be in the interval [0, 1] (in '/home/szut/DA/lab2/code_2.stan', line 10, column 4 to column 25)\n\tException: bernoulli_lpmf: n[2] is 2, but must be in the interval [0, 1] (in '/home/szut/DA/lab2/code_2.stan', line 10, column 4 to column 25)\n\tException: bernoulli_lpmf: n[2] is 2, but must be in the interval [0, 1] (in '/home/szut/DA/lab2/code_2.stan', line 10, column 4 to column 25)\n\tException: bernoulli_lpmf: n[2] is 2, but must be in the interval [0, 1] (in '/home/szut/DA/lab2/code_2.stan', line 10, column 4 to column 25)\n\tException: bernoulli_lpmf: n[2] is 2, but must be in the interval [0, 1] (in '/home/szut/DA/lab2/code_2.stan', line 10, column 4 to column 25)\n\tException: bernoulli_lpmf: n[2] is 2, but must be in the interval [0, 1] (in '/home/szut/DA/lab2/code_2.stan', line 10, column 4 to column 25)\n\tException: bernoulli_lpmf: n[2] is 2, but must be in the interval [0, 1] (in '/home/szut/DA/lab2/code_2.stan', line 10, column 4 to column 25)\n\tException: bernoulli_lpmf: n[2] is 2, but must be in the interval [0, 1] (in '/home/szut/DA/lab2/code_2.stan', line 10, column 4 to column 25)\n\tException: bernoulli_lpmf: n[2] is 2, but must be in the interval [0, 1] (in '/home/szut/DA/lab2/code_2.stan', line 10, column 4 to column 25)\n\tException: bernoulli_lpmf: n[2] is 2, but must be in the interval [0, 1] (in '/home/szut/DA/lab2/code_2.stan', line 10, column 4 to column 25)\n\tException: bernoulli_lpmf: n[2] is 2, but must be in the interval [0, 1] (in '/home/szut/DA/lab2/code_2.stan', line 10, column 4 to column 25)\n\tException: bernoulli_lpmf: n[2] is 2, but must be in the interval [0, 1] (in '/home/szut/DA/lab2/code_2.stan', line 10, column 4 to column 25)\n\tException: bernoulli_lpmf: n[2] is 2, but must be in the interval [0, 1] (in '/home/szut/DA/lab2/code_2.stan', line 10, column 4 to column 25)\n\tException: bernoulli_lpmf: n[2] is 2, but must be in the interval [0, 1] (in '/home/szut/DA/lab2/code_2.stan', line 10, column 4 to column 25)\n\tException: bernoulli_lpmf: n[2] is 2, but must be in the interval [0, 1] (in '/home/szut/DA/lab2/code_2.stan', line 10, column 4 to column 25)\n\tException: bernoulli_lpmf: n[2] is 2, but must be in the interval [0, 1] (in '/home/szut/DA/lab2/code_2.stan', line 10, column 4 to column 25)\n\tException: bernoulli_lpmf: n[2] is 2, but must be in the interval [0, 1] (in '/home/szut/DA/lab2/code_2.stan', line 10, column 4 to column 25)\n\tException: bernoulli_lpmf: n[2] is 2, but must be in the interval [0, 1] (in '/home/szut/DA/lab2/code_2.stan', line 10, column 4 to column 25)\n\tException: bernoulli_lpmf: n[2] is 2, but must be in the interval [0, 1] (in '/home/szut/DA/lab2/code_2.stan', line 10, column 4 to column 25)\n\tException: bernoulli_lpmf: n[2] is 2, but must be in the interval [0, 1] (in '/home/szut/DA/lab2/code_2.stan', line 10, column 4 to column 25)\n\tException: bernoulli_lpmf: n[2] is 2, but must be in the interval [0, 1] (in '/home/szut/DA/lab2/code_2.stan', line 10, column 4 to column 25)\n\tException: bernoulli_lpmf: n[2] is 2, but must be in the interval [0, 1] (in '/home/szut/DA/lab2/code_2.stan', line 10, column 4 to column 25)\n\tException: bernoulli_lpmf: n[2] is 2, but must be in the interval [0, 1] (in '/home/szut/DA/lab2/code_2.stan', line 10, column 4 to column 25)\n\tException: bernoulli_lpmf: n[2] is 2, but must be in the interval [0, 1] (in '/home/szut/DA/lab2/code_2.stan', line 10, column 4 to column 25)\n\tException: bernoulli_lpmf: n[2] is 2, but must be in the interval [0, 1] (in '/home/szut/DA/lab2/code_2.stan', line 10, column 4 to column 25)\n\tException: bernoulli_lpmf: n[2] is 2, but must be in the interval [0, 1] (in '/home/szut/DA/lab2/code_2.stan', line 10, column 4 to column 25)\n\tException: bernoulli_lpmf: n[2] is 2, but must be in the interval [0, 1] (in '/home/szut/DA/lab2/code_2.stan', line 10, column 4 to column 25)\n\tException: bernoulli_lpmf: n[2] is 2, but must be in the interval [0, 1] (in '/home/szut/DA/lab2/code_2.stan', line 10, column 4 to column 25)\n\tException: bernoulli_lpmf: n[2] is 2, but must be in the interval [0, 1] (in '/home/szut/DA/lab2/code_2.stan', line 10, column 4 to column 25)\n\tException: bernoulli_lpmf: n[2] is 2, but must be in the interval [0, 1] (in '/home/szut/DA/lab2/code_2.stan', line 10, column 4 to column 25)\n\tException: bernoulli_lpmf: n[2] is 2, but must be in the interval [0, 1] (in '/home/szut/DA/lab2/code_2.stan', line 10, column 4 to column 25)\n\tException: bernoulli_lpmf: n[2] is 2, but must be in the interval [0, 1] (in '/home/szut/DA/lab2/code_2.stan', line 10, column 4 to column 25)\n\tException: bernoulli_lpmf: n[2] is 2, but must be in the interval [0, 1] (in '/home/szut/DA/lab2/code_2.stan', line 10, column 4 to column 25)\n\tException: bernoulli_lpmf: n[2] is 2, but must be in the interval [0, 1] (in '/home/szut/DA/lab2/code_2.stan', line 10, column 4 to column 25)\n\tException: bernoulli_lpmf: n[2] is 2, but must be in the interval [0, 1] (in '/home/szut/DA/lab2/code_2.stan', line 10, column 4 to column 25)\nException: bernoulli_lpmf: n[2] is 2, but must be in the interval [0, 1] (in '/home/szut/DA/lab2/code_2.stan', line 10, column 4 to column 25)\n\tException: bernoulli_lpmf: n[2] is 2, but must be in the interval [0, 1] (in '/home/szut/DA/lab2/code_2.stan', line 10, column 4 to column 25)\n\tException: bernoulli_lpmf: n[2] is 2, but must be in the interval [0, 1] (in '/home/szut/DA/lab2/code_2.stan', line 10, column 4 to column 25)\n\tException: bernoulli_lpmf: n[2] is 2, but must be in the interval [0, 1] (in '/home/szut/DA/lab2/code_2.stan', line 10, column 4 to column 25)\n\tException: bernoulli_lpmf: n[2] is 2, but must be in the interval [0, 1] (in '/home/szut/DA/lab2/code_2.stan', line 10, column 4 to column 25)\n\tException: bernoulli_lpmf: n[2] is 2, but must be in the interval [0, 1] (in '/home/szut/DA/lab2/code_2.stan', line 10, column 4 to column 25)\n\tException: bernoulli_lpmf: n[2] is 2, but must be in the interval [0, 1] (in '/home/szut/DA/lab2/code_2.stan', line 10, column 4 to column 25)\n\tException: bernoulli_lpmf: n[2] is 2, but must be in the interval [0, 1] (in '/home/szut/DA/lab2/code_2.stan', line 10, column 4 to column 25)\n\tException: bernoulli_lpmf: n[2] is 2, but must be in the interval [0, 1] (in '/home/szut/DA/lab2/code_2.stan', line 10, column 4 to column 25)\n\tException: bernoulli_lpmf: n[2] is 2, but must be in the interval [0, 1] (in '/home/szut/DA/lab2/code_2.stan', line 10, column 4 to column 25)\n\tException: bernoulli_lpmf: n[2] is 2, but must be in the interval [0, 1] (in '/home/szut/DA/lab2/code_2.stan', line 10, column 4 to column 25)\n\tException: bernoulli_lpmf: n[2] is 2, but must be in the interval [0, 1] (in '/home/szut/DA/lab2/code_2.stan', line 10, column 4 to column 25)\n\tException: bernoulli_lpmf: n[2] is 2, but must be in the interval [0, 1] (in '/home/szut/DA/lab2/code_2.stan', line 10, column 4 to column 25)\n\tException: bernoulli_lpmf: n[2] is 2, but must be in the interval [0, 1] (in '/home/szut/DA/lab2/code_2.stan', line 10, column 4 to column 25)\n\tException: bernoulli_lpmf: n[2] is 2, but must be in the interval [0, 1] (in '/home/szut/DA/lab2/code_2.stan', line 10, column 4 to column 25)\n\tException: bernoulli_lpmf: n[2] is 2, but must be in the interval [0, 1] (in '/home/szut/DA/lab2/code_2.stan', line 10, column 4 to column 25)\n\tException: bernoulli_lpmf: n[2] is 2, but must be in the interval [0, 1] (in '/home/szut/DA/lab2/code_2.stan', line 10, column 4 to column 25)\n\tException: bernoulli_lpmf: n[2] is 2, but must be in the interval [0, 1] (in '/home/szut/DA/lab2/code_2.stan', line 10, column 4 to column 25)\n\tException: bernoulli_lpmf: n[2] is 2, but must be in the interval [0, 1] (in '/home/szut/DA/lab2/code_2.stan', line 10, column 4 to column 25)\n\tException: bernoulli_lpmf: n[2] is 2, but must be in the interval [0, 1] (in '/home/szut/DA/lab2/code_2.stan', line 10, column 4 to column 25)\n\tException: bernoulli_lpmf: n[2] is 2, but must be in the interval [0, 1] (in '/home/szut/DA/lab2/code_2.stan', line 10, column 4 to column 25)\n\tException: bernoulli_lpmf: n[2] is 2, but must be in the interval [0, 1] (in '/home/szut/DA/lab2/code_2.stan', line 10, column 4 to column 25)\n\tException: bernoulli_lpmf: n[2] is 2, but must be in the interval [0, 1] (in '/home/szut/DA/lab2/code_2.stan', line 10, column 4 to column 25)\n\tException: bernoulli_lpmf: n[2] is 2, but must be in the interval [0, 1] (in '/home/szut/DA/lab2/code_2.stan', line 10, column 4 to column 25)\n\tException: bernoulli_lpmf: n[2] is 2, but must be in the interval [0, 1] (in '/home/szut/DA/lab2/code_2.stan', line 10, column 4 to column 25)\n\tException: bernoulli_lpmf: n[2] is 2, but must be in the interval [0, 1] (in '/home/szut/DA/lab2/code_2.stan', line 10, column 4 to column 25)\n\tException: bernoulli_lpmf: n[2] is 2, but must be in the interval [0, 1] (in '/home/szut/DA/lab2/code_2.stan', line 10, column 4 to column 25)\n\tException: bernoulli_lpmf: n[2] is 2, but must be in the interval [0, 1] (in '/home/szut/DA/lab2/code_2.stan', line 10, column 4 to column 25)\n\tException: bernoulli_lpmf: n[2] is 2, but must be in the interval [0, 1] (in '/home/szut/DA/lab2/code_2.stan', line 10, column 4 to column 25)\n\tException: bernoulli_lpmf: n[2] is 2, but must be in the interval [0, 1] (in '/home/szut/DA/lab2/code_2.stan', line 10, column 4 to column 25)\n\tException: bernoulli_lpmf: n[2] is 2, but must be in the interval [0, 1] (in '/home/szut/DA/lab2/code_2.stan', line 10, column 4 to column 25)\n\tException: bernoulli_lpmf: n[2] is 2, but must be in the interval [0, 1] (in '/home/szut/DA/lab2/code_2.stan', line 10, column 4 to column 25)\n\tException: bernoulli_lpmf: n[2] is 2, but must be in the interval [0, 1] (in '/home/szut/DA/lab2/code_2.stan', line 10, column 4 to column 25)\n\tException: bernoulli_lpmf: n[2] is 2, but must be in the interval [0, 1] (in '/home/szut/DA/lab2/code_2.stan', line 10, column 4 to column 25)\n\tException: bernoulli_lpmf: n[2] is 2, but must be in the interval [0, 1] (in '/home/szut/DA/lab2/code_2.stan', line 10, column 4 to column 25)\n\tException: bernoulli_lpmf: n[2] is 2, but must be in the interval [0, 1] (in '/home/szut/DA/lab2/code_2.stan', line 10, column 4 to column 25)\n\tException: bernoulli_lpmf: n[2] is 2, but must be in the interval [0, 1] (in '/home/szut/DA/lab2/code_2.stan', line 10, column 4 to column 25)\n\tException: bernoulli_lpmf: n[2] is 2, but must be in the interval [0, 1] (in '/home/szut/DA/lab2/code_2.stan', line 10, column 4 to column 25)\n\tException: bernoulli_lpmf: n[2] is 2, but must be in the interval [0, 1] (in '/home/szut/DA/lab2/code_2.stan', line 10, column 4 to column 25)\n\tException: bernoulli_lpmf: n[2] is 2, but must be in the interval [0, 1] (in '/home/szut/DA/lab2/code_2.stan', line 10, column 4 to column 25)\n\tException: bernoulli_lpmf: n[2] is 2, but must be in the interval [0, 1] (in '/home/szut/DA/lab2/code_2.stan', line 10, column 4 to column 25)\n\tException: bernoulli_lpmf: n[2] is 2, but must be in the interval [0, 1] (in '/home/szut/DA/lab2/code_2.stan', line 10, column 4 to column 25)\n\tException: bernoulli_lpmf: n[2] is 2, but must be in the interval [0, 1] (in '/home/szut/DA/lab2/code_2.stan', line 10, column 4 to column 25)\n\tException: bernoulli_lpmf: n[2] is 2, but must be in the interval [0, 1] (in '/home/szut/DA/lab2/code_2.stan', line 10, column 4 to column 25)\n\tException: bernoulli_lpmf: n[2] is 2, but must be in the interval [0, 1] (in '/home/szut/DA/lab2/code_2.stan', line 10, column 4 to column 25)\n\tException: bernoulli_lpmf: n[2] is 2, but must be in the interval [0, 1] (in '/home/szut/DA/lab2/code_2.stan', line 10, column 4 to column 25)\n\tException: bernoulli_lpmf: n[2] is 2, but must be in the interval [0, 1] (in '/home/szut/DA/lab2/code_2.stan', line 10, column 4 to column 25)\n\tException: bernoulli_lpmf: n[2] is 2, but must be in the interval [0, 1] (in '/home/szut/DA/lab2/code_2.stan', line 10, column 4 to column 25)\n\tException: bernoulli_lpmf: n[2] is 2, but must be in the interval [0, 1] (in '/home/szut/DA/lab2/code_2.stan', line 10, column 4 to column 25)\n\tException: bernoulli_lpmf: n[2] is 2, but must be in the interval [0, 1] (in '/home/szut/DA/lab2/code_2.stan', line 10, column 4 to column 25)\n\tException: bernoulli_lpmf: n[2] is 2, but must be in the interval [0, 1] (in '/home/szut/DA/lab2/code_2.stan', line 10, column 4 to column 25)\n\tException: bernoulli_lpmf: n[2] is 2, but must be in the interval [0, 1] (in '/home/szut/DA/lab2/code_2.stan', line 10, column 4 to column 25)\n\tException: bernoulli_lpmf: n[2] is 2, but must be in the interval [0, 1] (in '/home/szut/DA/lab2/code_2.stan', line 10, column 4 to column 25)\n\tException: bernoulli_lpmf: n[2] is 2, but must be in the interval [0, 1] (in '/home/szut/DA/lab2/code_2.stan', line 10, column 4 to column 25)\n\tException: bernoulli_lpmf: n[2] is 2, but must be in the interval [0, 1] (in '/home/szut/DA/lab2/code_2.stan', line 10, column 4 to column 25)\n\tException: bernoulli_lpmf: n[2] is 2, but must be in the interval [0, 1] (in '/home/szut/DA/lab2/code_2.stan', line 10, column 4 to column 25)\n\tException: bernoulli_lpmf: n[2] is 2, but must be in the interval [0, 1] (in '/home/szut/DA/lab2/code_2.stan', line 10, column 4 to column 25)\n\tException: bernoulli_lpmf: n[2] is 2, but must be in the interval [0, 1] (in '/home/szut/DA/lab2/code_2.stan', line 10, column 4 to column 25)\n\tException: bernoulli_lpmf: n[2] is 2, but must be in the interval [0, 1] (in '/home/szut/DA/lab2/code_2.stan', line 10, column 4 to column 25)\n\tException: bernoulli_lpmf: n[2] is 2, but must be in the interval [0, 1] (in '/home/szut/DA/lab2/code_2.stan', line 10, column 4 to column 25)\n\tException: bernoulli_lpmf: n[2] is 2, but must be in the interval [0, 1] (in '/home/szut/DA/lab2/code_2.stan', line 10, column 4 to column 25)\n\tException: bernoulli_lpmf: n[2] is 2, but must be in the interval [0, 1] (in '/home/szut/DA/lab2/code_2.stan', line 10, column 4 to column 25)\n\tException: bernoulli_lpmf: n[2] is 2, but must be in the interval [0, 1] (in '/home/szut/DA/lab2/code_2.stan', line 10, column 4 to column 25)\n\tException: bernoulli_lpmf: n[2] is 2, but must be in the interval [0, 1] (in '/home/szut/DA/lab2/code_2.stan', line 10, column 4 to column 25)\n\tException: bernoulli_lpmf: n[2] is 2, but must be in the interval [0, 1] (in '/home/szut/DA/lab2/code_2.stan', line 10, column 4 to column 25)\n\tException: bernoulli_lpmf: n[2] is 2, but must be in the interval [0, 1] (in '/home/szut/DA/lab2/code_2.stan', line 10, column 4 to column 25)\n\tException: bernoulli_lpmf: n[2] is 2, but must be in the interval [0, 1] (in '/home/szut/DA/lab2/code_2.stan', line 10, column 4 to column 25)\n\tException: bernoulli_lpmf: n[2] is 2, but must be in the interval [0, 1] (in '/home/szut/DA/lab2/code_2.stan', line 10, column 4 to column 25)\n\tException: bernoulli_lpmf: n[2] is 2, but must be in the interval [0, 1] (in '/home/szut/DA/lab2/code_2.stan', line 10, column 4 to column 25)\n\tException: bernoulli_lpmf: n[2] is 2, but must be in the interval [0, 1] (in '/home/szut/DA/lab2/code_2.stan', line 10, column 4 to column 25)\n\tException: bernoulli_lpmf: n[2] is 2, but must be in the interval [0, 1] (in '/home/szut/DA/lab2/code_2.stan', line 10, column 4 to column 25)\n\tException: bernoulli_lpmf: n[2] is 2, but must be in the interval [0, 1] (in '/home/szut/DA/lab2/code_2.stan', line 10, column 4 to column 25)\n\tException: bernoulli_lpmf: n[2] is 2, but must be in the interval [0, 1] (in '/home/szut/DA/lab2/code_2.stan', line 10, column 4 to column 25)\n\tException: bernoulli_lpmf: n[2] is 2, but must be in the interval [0, 1] (in '/home/szut/DA/lab2/code_2.stan', line 10, column 4 to column 25)\n\tException: bernoulli_lpmf: n[2] is 2, but must be in the interval [0, 1] (in '/home/szut/DA/lab2/code_2.stan', line 10, column 4 to column 25)\n\tException: bernoulli_lpmf: n[2] is 2, but must be in the interval [0, 1] (in '/home/szut/DA/lab2/code_2.stan', line 10, column 4 to column 25)\n\tException: bernoulli_lpmf: n[2] is 2, but must be in the interval [0, 1] (in '/home/szut/DA/lab2/code_2.stan', line 10, column 4 to column 25)\n\tException: bernoulli_lpmf: n[2] is 2, but must be in the interval [0, 1] (in '/home/szut/DA/lab2/code_2.stan', line 10, column 4 to column 25)\n\tException: bernoulli_lpmf: n[2] is 2, but must be in the interval [0, 1] (in '/home/szut/DA/lab2/code_2.stan', line 10, column 4 to column 25)\n\tException: bernoulli_lpmf: n[2] is 2, but must be in the interval [0, 1] (in '/home/szut/DA/lab2/code_2.stan', line 10, column 4 to column 25)\n\tException: bernoulli_lpmf: n[2] is 2, but must be in the interval [0, 1] (in '/home/szut/DA/lab2/code_2.stan', line 10, column 4 to column 25)\n\tException: bernoulli_lpmf: n[2] is 2, but must be in the interval [0, 1] (in '/home/szut/DA/lab2/code_2.stan', line 10, column 4 to column 25)\n\tException: bernoulli_lpmf: n[2] is 2, but must be in the interval [0, 1] (in '/home/szut/DA/lab2/code_2.stan', line 10, column 4 to column 25)\n\tException: bernoulli_lpmf: n[2] is 2, but must be in the interval [0, 1] (in '/home/szut/DA/lab2/code_2.stan', line 10, column 4 to column 25)\n\tException: bernoulli_lpmf: n[2] is 2, but must be in the interval [0, 1] (in '/home/szut/DA/lab2/code_2.stan', line 10, column 4 to column 25)\n\tException: bernoulli_lpmf: n[2] is 2, but must be in the interval [0, 1] (in '/home/szut/DA/lab2/code_2.stan', line 10, column 4 to column 25)\n\tException: bernoulli_lpmf: n[2] is 2, but must be in the interval [0, 1] (in '/home/szut/DA/lab2/code_2.stan', line 10, column 4 to column 25)\n\tException: bernoulli_lpmf: n[2] is 2, but must be in the interval [0, 1] (in '/home/szut/DA/lab2/code_2.stan', line 10, column 4 to column 25)\n\tException: bernoulli_lpmf: n[2] is 2, but must be in the interval [0, 1] (in '/home/szut/DA/lab2/code_2.stan', line 10, column 4 to column 25)\n\tException: bernoulli_lpmf: n[2] is 2, but must be in the interval [0, 1] (in '/home/szut/DA/lab2/code_2.stan', line 10, column 4 to column 25)\n\tException: bernoulli_lpmf: n[2] is 2, but must be in the interval [0, 1] (in '/home/szut/DA/lab2/code_2.stan', line 10, column 4 to column 25)\n\tException: bernoulli_lpmf: n[2] is 2, but must be in the interval [0, 1] (in '/home/szut/DA/lab2/code_2.stan', line 10, column 4 to column 25)\n\tException: bernoulli_lpmf: n[2] is 2, but must be in the interval [0, 1] (in '/home/szut/DA/lab2/code_2.stan', line 10, column 4 to column 25)\n\tException: bernoulli_lpmf: n[2] is 2, but must be in the interval [0, 1] (in '/home/szut/DA/lab2/code_2.stan', line 10, column 4 to column 25)\n\tException: bernoulli_lpmf: n[2] is 2, but must be in the interval [0, 1] (in '/home/szut/DA/lab2/code_2.stan', line 10, column 4 to column 25)\n\tException: bernoulli_lpmf: n[2] is 2, but must be in the interval [0, 1] (in '/home/szut/DA/lab2/code_2.stan', line 10, column 4 to column 25)\n\tException: bernoulli_lpmf: n[2] is 2, but must be in the interval [0, 1] (in '/home/szut/DA/lab2/code_2.stan', line 10, column 4 to column 25)\n\tException: bernoulli_lpmf: n[2] is 2, but must be in the interval [0, 1] (in '/home/szut/DA/lab2/code_2.stan', line 10, column 4 to column 25)\n\tException: bernoulli_lpmf: n[2] is 2, but must be in the interval [0, 1] (in '/home/szut/DA/lab2/code_2.stan', line 10, column 4 to column 25)\n\tException: bernoulli_lpmf: n[2] is 2, but must be in the interval [0, 1] (in '/home/szut/DA/lab2/code_2.stan', line 10, column 4 to column 25)\nException: bernoulli_lpmf: n[2] is 2, but must be in the interval [0, 1] (in '/home/szut/DA/lab2/code_2.stan', line 10, column 4 to column 25)\n\tException: bernoulli_lpmf: n[2] is 2, but must be in the interval [0, 1] (in '/home/szut/DA/lab2/code_2.stan', line 10, column 4 to column 25)\n\tException: bernoulli_lpmf: n[2] is 2, but must be in the interval [0, 1] (in '/home/szut/DA/lab2/code_2.stan', line 10, column 4 to column 25)\n\tException: bernoulli_lpmf: n[2] is 2, but must be in the interval [0, 1] (in '/home/szut/DA/lab2/code_2.stan', line 10, column 4 to column 25)\n\tException: bernoulli_lpmf: n[2] is 2, but must be in the interval [0, 1] (in '/home/szut/DA/lab2/code_2.stan', line 10, column 4 to column 25)\n\tException: bernoulli_lpmf: n[2] is 2, but must be in the interval [0, 1] (in '/home/szut/DA/lab2/code_2.stan', line 10, column 4 to column 25)\n\tException: bernoulli_lpmf: n[2] is 2, but must be in the interval [0, 1] (in '/home/szut/DA/lab2/code_2.stan', line 10, column 4 to column 25)\n\tException: bernoulli_lpmf: n[2] is 2, but must be in the interval [0, 1] (in '/home/szut/DA/lab2/code_2.stan', line 10, column 4 to column 25)\n\tException: bernoulli_lpmf: n[2] is 2, but must be in the interval [0, 1] (in '/home/szut/DA/lab2/code_2.stan', line 10, column 4 to column 25)\n\tException: bernoulli_lpmf: n[2] is 2, but must be in the interval [0, 1] (in '/home/szut/DA/lab2/code_2.stan', line 10, column 4 to column 25)\n\tException: bernoulli_lpmf: n[2] is 2, but must be in the interval [0, 1] (in '/home/szut/DA/lab2/code_2.stan', line 10, column 4 to column 25)\n\tException: bernoulli_lpmf: n[2] is 2, but must be in the interval [0, 1] (in '/home/szut/DA/lab2/code_2.stan', line 10, column 4 to column 25)\n\tException: bernoulli_lpmf: n[2] is 2, but must be in the interval [0, 1] (in '/home/szut/DA/lab2/code_2.stan', line 10, column 4 to column 25)\n\tException: bernoulli_lpmf: n[2] is 2, but must be in the interval [0, 1] (in '/home/szut/DA/lab2/code_2.stan', line 10, column 4 to column 25)\n\tException: bernoulli_lpmf: n[2] is 2, but must be in the interval [0, 1] (in '/home/szut/DA/lab2/code_2.stan', line 10, column 4 to column 25)\n\tException: bernoulli_lpmf: n[2] is 2, but must be in the interval [0, 1] (in '/home/szut/DA/lab2/code_2.stan', line 10, column 4 to column 25)\n\tException: bernoulli_lpmf: n[2] is 2, but must be in the interval [0, 1] (in '/home/szut/DA/lab2/code_2.stan', line 10, column 4 to column 25)\n\tException: bernoulli_lpmf: n[2] is 2, but must be in the interval [0, 1] (in '/home/szut/DA/lab2/code_2.stan', line 10, column 4 to column 25)\n\tException: bernoulli_lpmf: n[2] is 2, but must be in the interval [0, 1] (in '/home/szut/DA/lab2/code_2.stan', line 10, column 4 to column 25)\n\tException: bernoulli_lpmf: n[2] is 2, but must be in the interval [0, 1] (in '/home/szut/DA/lab2/code_2.stan', line 10, column 4 to column 25)\n\tException: bernoulli_lpmf: n[2] is 2, but must be in the interval [0, 1] (in '/home/szut/DA/lab2/code_2.stan', line 10, column 4 to column 25)\n\tException: bernoulli_lpmf: n[2] is 2, but must be in the interval [0, 1] (in '/home/szut/DA/lab2/code_2.stan', line 10, column 4 to column 25)\n\tException: bernoulli_lpmf: n[2] is 2, but must be in the interval [0, 1] (in '/home/szut/DA/lab2/code_2.stan', line 10, column 4 to column 25)\n\tException: bernoulli_lpmf: n[2] is 2, but must be in the interval [0, 1] (in '/home/szut/DA/lab2/code_2.stan', line 10, column 4 to column 25)\n\tException: bernoulli_lpmf: n[2] is 2, but must be in the interval [0, 1] (in '/home/szut/DA/lab2/code_2.stan', line 10, column 4 to column 25)\n\tException: bernoulli_lpmf: n[2] is 2, but must be in the interval [0, 1] (in '/home/szut/DA/lab2/code_2.stan', line 10, column 4 to column 25)\n\tException: bernoulli_lpmf: n[2] is 2, but must be in the interval [0, 1] (in '/home/szut/DA/lab2/code_2.stan', line 10, column 4 to column 25)\n\tException: bernoulli_lpmf: n[2] is 2, but must be in the interval [0, 1] (in '/home/szut/DA/lab2/code_2.stan', line 10, column 4 to column 25)\n\tException: bernoulli_lpmf: n[2] is 2, but must be in the interval [0, 1] (in '/home/szut/DA/lab2/code_2.stan', line 10, column 4 to column 25)\n\tException: bernoulli_lpmf: n[2] is 2, but must be in the interval [0, 1] (in '/home/szut/DA/lab2/code_2.stan', line 10, column 4 to column 25)\n\tException: bernoulli_lpmf: n[2] is 2, but must be in the interval [0, 1] (in '/home/szut/DA/lab2/code_2.stan', line 10, column 4 to column 25)\n\tException: bernoulli_lpmf: n[2] is 2, but must be in the interval [0, 1] (in '/home/szut/DA/lab2/code_2.stan', line 10, column 4 to column 25)\n\tException: bernoulli_lpmf: n[2] is 2, but must be in the interval [0, 1] (in '/home/szut/DA/lab2/code_2.stan', line 10, column 4 to column 25)\n\tException: bernoulli_lpmf: n[2] is 2, but must be in the interval [0, 1] (in '/home/szut/DA/lab2/code_2.stan', line 10, column 4 to column 25)\n\tException: bernoulli_lpmf: n[2] is 2, but must be in the interval [0, 1] (in '/home/szut/DA/lab2/code_2.stan', line 10, column 4 to column 25)\n\tException: bernoulli_lpmf: n[2] is 2, but must be in the interval [0, 1] (in '/home/szut/DA/lab2/code_2.stan', line 10, column 4 to column 25)\n\tException: bernoulli_lpmf: n[2] is 2, but must be in the interval [0, 1] (in '/home/szut/DA/lab2/code_2.stan', line 10, column 4 to column 25)\n\tException: bernoulli_lpmf: n[2] is 2, but must be in the interval [0, 1] (in '/home/szut/DA/lab2/code_2.stan', line 10, column 4 to column 25)\n\tException: bernoulli_lpmf: n[2] is 2, but must be in the interval [0, 1] (in '/home/szut/DA/lab2/code_2.stan', line 10, column 4 to column 25)\n\tException: bernoulli_lpmf: n[2] is 2, but must be in the interval [0, 1] (in '/home/szut/DA/lab2/code_2.stan', line 10, column 4 to column 25)\n\tException: bernoulli_lpmf: n[2] is 2, but must be in the interval [0, 1] (in '/home/szut/DA/lab2/code_2.stan', line 10, column 4 to column 25)\n\tException: bernoulli_lpmf: n[2] is 2, but must be in the interval [0, 1] (in '/home/szut/DA/lab2/code_2.stan', line 10, column 4 to column 25)\n\tException: bernoulli_lpmf: n[2] is 2, but must be in the interval [0, 1] (in '/home/szut/DA/lab2/code_2.stan', line 10, column 4 to column 25)\n\tException: bernoulli_lpmf: n[2] is 2, but must be in the interval [0, 1] (in '/home/szut/DA/lab2/code_2.stan', line 10, column 4 to column 25)\n\tException: bernoulli_lpmf: n[2] is 2, but must be in the interval [0, 1] (in '/home/szut/DA/lab2/code_2.stan', line 10, column 4 to column 25)\n\tException: bernoulli_lpmf: n[2] is 2, but must be in the interval [0, 1] (in '/home/szut/DA/lab2/code_2.stan', line 10, column 4 to column 25)\n\tException: bernoulli_lpmf: n[2] is 2, but must be in the interval [0, 1] (in '/home/szut/DA/lab2/code_2.stan', line 10, column 4 to column 25)\n\tException: bernoulli_lpmf: n[2] is 2, but must be in the interval [0, 1] (in '/home/szut/DA/lab2/code_2.stan', line 10, column 4 to column 25)\n\tException: bernoulli_lpmf: n[2] is 2, but must be in the interval [0, 1] (in '/home/szut/DA/lab2/code_2.stan', line 10, column 4 to column 25)\n\tException: bernoulli_lpmf: n[2] is 2, but must be in the interval [0, 1] (in '/home/szut/DA/lab2/code_2.stan', line 10, column 4 to column 25)\n\tException: bernoulli_lpmf: n[2] is 2, but must be in the interval [0, 1] (in '/home/szut/DA/lab2/code_2.stan', line 10, column 4 to column 25)\n\tException: bernoulli_lpmf: n[2] is 2, but must be in the interval [0, 1] (in '/home/szut/DA/lab2/code_2.stan', line 10, column 4 to column 25)\n\tException: bernoulli_lpmf: n[2] is 2, but must be in the interval [0, 1] (in '/home/szut/DA/lab2/code_2.stan', line 10, column 4 to column 25)\n\tException: bernoulli_lpmf: n[2] is 2, but must be in the interval [0, 1] (in '/home/szut/DA/lab2/code_2.stan', line 10, column 4 to column 25)\n\tException: bernoulli_lpmf: n[2] is 2, but must be in the interval [0, 1] (in '/home/szut/DA/lab2/code_2.stan', line 10, column 4 to column 25)\n\tException: bernoulli_lpmf: n[2] is 2, but must be in the interval [0, 1] (in '/home/szut/DA/lab2/code_2.stan', line 10, column 4 to column 25)\n\tException: bernoulli_lpmf: n[2] is 2, but must be in the interval [0, 1] (in '/home/szut/DA/lab2/code_2.stan', line 10, column 4 to column 25)\n\tException: bernoulli_lpmf: n[2] is 2, but must be in the interval [0, 1] (in '/home/szut/DA/lab2/code_2.stan', line 10, column 4 to column 25)\n\tException: bernoulli_lpmf: n[2] is 2, but must be in the interval [0, 1] (in '/home/szut/DA/lab2/code_2.stan', line 10, column 4 to column 25)\n\tException: bernoulli_lpmf: n[2] is 2, but must be in the interval [0, 1] (in '/home/szut/DA/lab2/code_2.stan', line 10, column 4 to column 25)\n\tException: bernoulli_lpmf: n[2] is 2, but must be in the interval [0, 1] (in '/home/szut/DA/lab2/code_2.stan', line 10, column 4 to column 25)\n\tException: bernoulli_lpmf: n[2] is 2, but must be in the interval [0, 1] (in '/home/szut/DA/lab2/code_2.stan', line 10, column 4 to column 25)\n\tException: bernoulli_lpmf: n[2] is 2, but must be in the interval [0, 1] (in '/home/szut/DA/lab2/code_2.stan', line 10, column 4 to column 25)\n\tException: bernoulli_lpmf: n[2] is 2, but must be in the interval [0, 1] (in '/home/szut/DA/lab2/code_2.stan', line 10, column 4 to column 25)\n\tException: bernoulli_lpmf: n[2] is 2, but must be in the interval [0, 1] (in '/home/szut/DA/lab2/code_2.stan', line 10, column 4 to column 25)\n\tException: bernoulli_lpmf: n[2] is 2, but must be in the interval [0, 1] (in '/home/szut/DA/lab2/code_2.stan', line 10, column 4 to column 25)\n\tException: bernoulli_lpmf: n[2] is 2, but must be in the interval [0, 1] (in '/home/szut/DA/lab2/code_2.stan', line 10, column 4 to column 25)\n\tException: bernoulli_lpmf: n[2] is 2, but must be in the interval [0, 1] (in '/home/szut/DA/lab2/code_2.stan', line 10, column 4 to column 25)\n\tException: bernoulli_lpmf: n[2] is 2, but must be in the interval [0, 1] (in '/home/szut/DA/lab2/code_2.stan', line 10, column 4 to column 25)\n\tException: bernoulli_lpmf: n[2] is 2, but must be in the interval [0, 1] (in '/home/szut/DA/lab2/code_2.stan', line 10, column 4 to column 25)\n\tException: bernoulli_lpmf: n[2] is 2, but must be in the interval [0, 1] (in '/home/szut/DA/lab2/code_2.stan', line 10, column 4 to column 25)\n\tException: bernoulli_lpmf: n[2] is 2, but must be in the interval [0, 1] (in '/home/szut/DA/lab2/code_2.stan', line 10, column 4 to column 25)\n\tException: bernoulli_lpmf: n[2] is 2, but must be in the interval [0, 1] (in '/home/szut/DA/lab2/code_2.stan', line 10, column 4 to column 25)\n\tException: bernoulli_lpmf: n[2] is 2, but must be in the interval [0, 1] (in '/home/szut/DA/lab2/code_2.stan', line 10, column 4 to column 25)\n\tException: bernoulli_lpmf: n[2] is 2, but must be in the interval [0, 1] (in '/home/szut/DA/lab2/code_2.stan', line 10, column 4 to column 25)\n\tException: bernoulli_lpmf: n[2] is 2, but must be in the interval [0, 1] (in '/home/szut/DA/lab2/code_2.stan', line 10, column 4 to column 25)\n\tException: bernoulli_lpmf: n[2] is 2, but must be in the interval [0, 1] (in '/home/szut/DA/lab2/code_2.stan', line 10, column 4 to column 25)\n\tException: bernoulli_lpmf: n[2] is 2, but must be in the interval [0, 1] (in '/home/szut/DA/lab2/code_2.stan', line 10, column 4 to column 25)\n\tException: bernoulli_lpmf: n[2] is 2, but must be in the interval [0, 1] (in '/home/szut/DA/lab2/code_2.stan', line 10, column 4 to column 25)\n\tException: bernoulli_lpmf: n[2] is 2, but must be in the interval [0, 1] (in '/home/szut/DA/lab2/code_2.stan', line 10, column 4 to column 25)\n\tException: bernoulli_lpmf: n[2] is 2, but must be in the interval [0, 1] (in '/home/szut/DA/lab2/code_2.stan', line 10, column 4 to column 25)\n\tException: bernoulli_lpmf: n[2] is 2, but must be in the interval [0, 1] (in '/home/szut/DA/lab2/code_2.stan', line 10, column 4 to column 25)\n\tException: bernoulli_lpmf: n[2] is 2, but must be in the interval [0, 1] (in '/home/szut/DA/lab2/code_2.stan', line 10, column 4 to column 25)\n\tException: bernoulli_lpmf: n[2] is 2, but must be in the interval [0, 1] (in '/home/szut/DA/lab2/code_2.stan', line 10, column 4 to column 25)\n\tException: bernoulli_lpmf: n[2] is 2, but must be in the interval [0, 1] (in '/home/szut/DA/lab2/code_2.stan', line 10, column 4 to column 25)\n\tException: bernoulli_lpmf: n[2] is 2, but must be in the interval [0, 1] (in '/home/szut/DA/lab2/code_2.stan', line 10, column 4 to column 25)\n\tException: bernoulli_lpmf: n[2] is 2, but must be in the interval [0, 1] (in '/home/szut/DA/lab2/code_2.stan', line 10, column 4 to column 25)\n\tException: bernoulli_lpmf: n[2] is 2, but must be in the interval [0, 1] (in '/home/szut/DA/lab2/code_2.stan', line 10, column 4 to column 25)\n\tException: bernoulli_lpmf: n[2] is 2, but must be in the interval [0, 1] (in '/home/szut/DA/lab2/code_2.stan', line 10, column 4 to column 25)\n\tException: bernoulli_lpmf: n[2] is 2, but must be in the interval [0, 1] (in '/home/szut/DA/lab2/code_2.stan', line 10, column 4 to column 25)\n\tException: bernoulli_lpmf: n[2] is 2, but must be in the interval [0, 1] (in '/home/szut/DA/lab2/code_2.stan', line 10, column 4 to column 25)\n\tException: bernoulli_lpmf: n[2] is 2, but must be in the interval [0, 1] (in '/home/szut/DA/lab2/code_2.stan', line 10, column 4 to column 25)\n\tException: bernoulli_lpmf: n[2] is 2, but must be in the interval [0, 1] (in '/home/szut/DA/lab2/code_2.stan', line 10, column 4 to column 25)\n\tException: bernoulli_lpmf: n[2] is 2, but must be in the interval [0, 1] (in '/home/szut/DA/lab2/code_2.stan', line 10, column 4 to column 25)\n\tException: bernoulli_lpmf: n[2] is 2, but must be in the interval [0, 1] (in '/home/szut/DA/lab2/code_2.stan', line 10, column 4 to column 25)\n\tException: bernoulli_lpmf: n[2] is 2, but must be in the interval [0, 1] (in '/home/szut/DA/lab2/code_2.stan', line 10, column 4 to column 25)\n\tException: bernoulli_lpmf: n[2] is 2, but must be in the interval [0, 1] (in '/home/szut/DA/lab2/code_2.stan', line 10, column 4 to column 25)\n\tException: bernoulli_lpmf: n[2] is 2, but must be in the interval [0, 1] (in '/home/szut/DA/lab2/code_2.stan', line 10, column 4 to column 25)\n\tException: bernoulli_lpmf: n[2] is 2, but must be in the interval [0, 1] (in '/home/szut/DA/lab2/code_2.stan', line 10, column 4 to column 25)\n\tException: bernoulli_lpmf: n[2] is 2, but must be in the interval [0, 1] (in '/home/szut/DA/lab2/code_2.stan', line 10, column 4 to column 25)\nException: bernoulli_lpmf: n[2] is 2, but must be in the interval [0, 1] (in '/home/szut/DA/lab2/code_2.stan', line 10, column 4 to column 25)\n\tException: bernoulli_lpmf: n[2] is 2, but must be in the interval [0, 1] (in '/home/szut/DA/lab2/code_2.stan', line 10, column 4 to column 25)\n\tException: bernoulli_lpmf: n[2] is 2, but must be in the interval [0, 1] (in '/home/szut/DA/lab2/code_2.stan', line 10, column 4 to column 25)\n\tException: bernoulli_lpmf: n[2] is 2, but must be in the interval [0, 1] (in '/home/szut/DA/lab2/code_2.stan', line 10, column 4 to column 25)\n\tException: bernoulli_lpmf: n[2] is 2, but must be in the interval [0, 1] (in '/home/szut/DA/lab2/code_2.stan', line 10, column 4 to column 25)\n\tException: bernoulli_lpmf: n[2] is 2, but must be in the interval [0, 1] (in '/home/szut/DA/lab2/code_2.stan', line 10, column 4 to column 25)\n\tException: bernoulli_lpmf: n[2] is 2, but must be in the interval [0, 1] (in '/home/szut/DA/lab2/code_2.stan', line 10, column 4 to column 25)\n\tException: bernoulli_lpmf: n[2] is 2, but must be in the interval [0, 1] (in '/home/szut/DA/lab2/code_2.stan', line 10, column 4 to column 25)\n\tException: bernoulli_lpmf: n[2] is 2, but must be in the interval [0, 1] (in '/home/szut/DA/lab2/code_2.stan', line 10, column 4 to column 25)\n\tException: bernoulli_lpmf: n[2] is 2, but must be in the interval [0, 1] (in '/home/szut/DA/lab2/code_2.stan', line 10, column 4 to column 25)\n\tException: bernoulli_lpmf: n[2] is 2, but must be in the interval [0, 1] (in '/home/szut/DA/lab2/code_2.stan', line 10, column 4 to column 25)\n\tException: bernoulli_lpmf: n[2] is 2, but must be in the interval [0, 1] (in '/home/szut/DA/lab2/code_2.stan', line 10, column 4 to column 25)\n\tException: bernoulli_lpmf: n[2] is 2, but must be in the interval [0, 1] (in '/home/szut/DA/lab2/code_2.stan', line 10, column 4 to column 25)\n\tException: bernoulli_lpmf: n[2] is 2, but must be in the interval [0, 1] (in '/home/szut/DA/lab2/code_2.stan', line 10, column 4 to column 25)\n\tException: bernoulli_lpmf: n[2] is 2, but must be in the interval [0, 1] (in '/home/szut/DA/lab2/code_2.stan', line 10, column 4 to column 25)\n\tException: bernoulli_lpmf: n[2] is 2, but must be in the interval [0, 1] (in '/home/szut/DA/lab2/code_2.stan', line 10, column 4 to column 25)\n\tException: bernoulli_lpmf: n[2] is 2, but must be in the interval [0, 1] (in '/home/szut/DA/lab2/code_2.stan', line 10, column 4 to column 25)\n\tException: bernoulli_lpmf: n[2] is 2, but must be in the interval [0, 1] (in '/home/szut/DA/lab2/code_2.stan', line 10, column 4 to column 25)\n\tException: bernoulli_lpmf: n[2] is 2, but must be in the interval [0, 1] (in '/home/szut/DA/lab2/code_2.stan', line 10, column 4 to column 25)\n\tException: bernoulli_lpmf: n[2] is 2, but must be in the interval [0, 1] (in '/home/szut/DA/lab2/code_2.stan', line 10, column 4 to column 25)\n\tException: bernoulli_lpmf: n[2] is 2, but must be in the interval [0, 1] (in '/home/szut/DA/lab2/code_2.stan', line 10, column 4 to column 25)\n\tException: bernoulli_lpmf: n[2] is 2, but must be in the interval [0, 1] (in '/home/szut/DA/lab2/code_2.stan', line 10, column 4 to column 25)\n\tException: bernoulli_lpmf: n[2] is 2, but must be in the interval [0, 1] (in '/home/szut/DA/lab2/code_2.stan', line 10, column 4 to column 25)\n\tException: bernoulli_lpmf: n[2] is 2, but must be in the interval [0, 1] (in '/home/szut/DA/lab2/code_2.stan', line 10, column 4 to column 25)\n\tException: bernoulli_lpmf: n[2] is 2, but must be in the interval [0, 1] (in '/home/szut/DA/lab2/code_2.stan', line 10, column 4 to column 25)\n\tException: bernoulli_lpmf: n[2] is 2, but must be in the interval [0, 1] (in '/home/szut/DA/lab2/code_2.stan', line 10, column 4 to column 25)\n\tException: bernoulli_lpmf: n[2] is 2, but must be in the interval [0, 1] (in '/home/szut/DA/lab2/code_2.stan', line 10, column 4 to column 25)\n\tException: bernoulli_lpmf: n[2] is 2, but must be in the interval [0, 1] (in '/home/szut/DA/lab2/code_2.stan', line 10, column 4 to column 25)\n\tException: bernoulli_lpmf: n[2] is 2, but must be in the interval [0, 1] (in '/home/szut/DA/lab2/code_2.stan', line 10, column 4 to column 25)\n\tException: bernoulli_lpmf: n[2] is 2, but must be in the interval [0, 1] (in '/home/szut/DA/lab2/code_2.stan', line 10, column 4 to column 25)\n\tException: bernoulli_lpmf: n[2] is 2, but must be in the interval [0, 1] (in '/home/szut/DA/lab2/code_2.stan', line 10, column 4 to column 25)\n\tException: bernoulli_lpmf: n[2] is 2, but must be in the interval [0, 1] (in '/home/szut/DA/lab2/code_2.stan', line 10, column 4 to column 25)\n\tException: bernoulli_lpmf: n[2] is 2, but must be in the interval [0, 1] (in '/home/szut/DA/lab2/code_2.stan', line 10, column 4 to column 25)\n\tException: bernoulli_lpmf: n[2] is 2, but must be in the interval [0, 1] (in '/home/szut/DA/lab2/code_2.stan', line 10, column 4 to column 25)\n\tException: bernoulli_lpmf: n[2] is 2, but must be in the interval [0, 1] (in '/home/szut/DA/lab2/code_2.stan', line 10, column 4 to column 25)\n\tException: bernoulli_lpmf: n[2] is 2, but must be in the interval [0, 1] (in '/home/szut/DA/lab2/code_2.stan', line 10, column 4 to column 25)\n\tException: bernoulli_lpmf: n[2] is 2, but must be in the interval [0, 1] (in '/home/szut/DA/lab2/code_2.stan', line 10, column 4 to column 25)\n\tException: bernoulli_lpmf: n[2] is 2, but must be in the interval [0, 1] (in '/home/szut/DA/lab2/code_2.stan', line 10, column 4 to column 25)\n\tException: bernoulli_lpmf: n[2] is 2, but must be in the interval [0, 1] (in '/home/szut/DA/lab2/code_2.stan', line 10, column 4 to column 25)\n\tException: bernoulli_lpmf: n[2] is 2, but must be in the interval [0, 1] (in '/home/szut/DA/lab2/code_2.stan', line 10, column 4 to column 25)\n\tException: bernoulli_lpmf: n[2] is 2, but must be in the interval [0, 1] (in '/home/szut/DA/lab2/code_2.stan', line 10, column 4 to column 25)\n\tException: bernoulli_lpmf: n[2] is 2, but must be in the interval [0, 1] (in '/home/szut/DA/lab2/code_2.stan', line 10, column 4 to column 25)\n\tException: bernoulli_lpmf: n[2] is 2, but must be in the interval [0, 1] (in '/home/szut/DA/lab2/code_2.stan', line 10, column 4 to column 25)\n\tException: bernoulli_lpmf: n[2] is 2, but must be in the interval [0, 1] (in '/home/szut/DA/lab2/code_2.stan', line 10, column 4 to column 25)\n\tException: bernoulli_lpmf: n[2] is 2, but must be in the interval [0, 1] (in '/home/szut/DA/lab2/code_2.stan', line 10, column 4 to column 25)\n\tException: bernoulli_lpmf: n[2] is 2, but must be in the interval [0, 1] (in '/home/szut/DA/lab2/code_2.stan', line 10, column 4 to column 25)\n\tException: bernoulli_lpmf: n[2] is 2, but must be in the interval [0, 1] (in '/home/szut/DA/lab2/code_2.stan', line 10, column 4 to column 25)\n\tException: bernoulli_lpmf: n[2] is 2, but must be in the interval [0, 1] (in '/home/szut/DA/lab2/code_2.stan', line 10, column 4 to column 25)\n\tException: bernoulli_lpmf: n[2] is 2, but must be in the interval [0, 1] (in '/home/szut/DA/lab2/code_2.stan', line 10, column 4 to column 25)\n\tException: bernoulli_lpmf: n[2] is 2, but must be in the interval [0, 1] (in '/home/szut/DA/lab2/code_2.stan', line 10, column 4 to column 25)\n\tException: bernoulli_lpmf: n[2] is 2, but must be in the interval [0, 1] (in '/home/szut/DA/lab2/code_2.stan', line 10, column 4 to column 25)\n\tException: bernoulli_lpmf: n[2] is 2, but must be in the interval [0, 1] (in '/home/szut/DA/lab2/code_2.stan', line 10, column 4 to column 25)\n\tException: bernoulli_lpmf: n[2] is 2, but must be in the interval [0, 1] (in '/home/szut/DA/lab2/code_2.stan', line 10, column 4 to column 25)\n\tException: bernoulli_lpmf: n[2] is 2, but must be in the interval [0, 1] (in '/home/szut/DA/lab2/code_2.stan', line 10, column 4 to column 25)\n\tException: bernoulli_lpmf: n[2] is 2, but must be in the interval [0, 1] (in '/home/szut/DA/lab2/code_2.stan', line 10, column 4 to column 25)\n\tException: bernoulli_lpmf: n[2] is 2, but must be in the interval [0, 1] (in '/home/szut/DA/lab2/code_2.stan', line 10, column 4 to column 25)\n\tException: bernoulli_lpmf: n[2] is 2, but must be in the interval [0, 1] (in '/home/szut/DA/lab2/code_2.stan', line 10, column 4 to column 25)\n\tException: bernoulli_lpmf: n[2] is 2, but must be in the interval [0, 1] (in '/home/szut/DA/lab2/code_2.stan', line 10, column 4 to column 25)\n\tException: bernoulli_lpmf: n[2] is 2, but must be in the interval [0, 1] (in '/home/szut/DA/lab2/code_2.stan', line 10, column 4 to column 25)\n\tException: bernoulli_lpmf: n[2] is 2, but must be in the interval [0, 1] (in '/home/szut/DA/lab2/code_2.stan', line 10, column 4 to column 25)\n\tException: bernoulli_lpmf: n[2] is 2, but must be in the interval [0, 1] (in '/home/szut/DA/lab2/code_2.stan', line 10, column 4 to column 25)\n\tException: bernoulli_lpmf: n[2] is 2, but must be in the interval [0, 1] (in '/home/szut/DA/lab2/code_2.stan', line 10, column 4 to column 25)\n\tException: bernoulli_lpmf: n[2] is 2, but must be in the interval [0, 1] (in '/home/szut/DA/lab2/code_2.stan', line 10, column 4 to column 25)\n\tException: bernoulli_lpmf: n[2] is 2, but must be in the interval [0, 1] (in '/home/szut/DA/lab2/code_2.stan', line 10, column 4 to column 25)\n\tException: bernoulli_lpmf: n[2] is 2, but must be in the interval [0, 1] (in '/home/szut/DA/lab2/code_2.stan', line 10, column 4 to column 25)\n\tException: bernoulli_lpmf: n[2] is 2, but must be in the interval [0, 1] (in '/home/szut/DA/lab2/code_2.stan', line 10, column 4 to column 25)\n\tException: bernoulli_lpmf: n[2] is 2, but must be in the interval [0, 1] (in '/home/szut/DA/lab2/code_2.stan', line 10, column 4 to column 25)\n\tException: bernoulli_lpmf: n[2] is 2, but must be in the interval [0, 1] (in '/home/szut/DA/lab2/code_2.stan', line 10, column 4 to column 25)\n\tException: bernoulli_lpmf: n[2] is 2, but must be in the interval [0, 1] (in '/home/szut/DA/lab2/code_2.stan', line 10, column 4 to column 25)\n\tException: bernoulli_lpmf: n[2] is 2, but must be in the interval [0, 1] (in '/home/szut/DA/lab2/code_2.stan', line 10, column 4 to column 25)\n\tException: bernoulli_lpmf: n[2] is 2, but must be in the interval [0, 1] (in '/home/szut/DA/lab2/code_2.stan', line 10, column 4 to column 25)\n\tException: bernoulli_lpmf: n[2] is 2, but must be in the interval [0, 1] (in '/home/szut/DA/lab2/code_2.stan', line 10, column 4 to column 25)\n\tException: bernoulli_lpmf: n[2] is 2, but must be in the interval [0, 1] (in '/home/szut/DA/lab2/code_2.stan', line 10, column 4 to column 25)\n\tException: bernoulli_lpmf: n[2] is 2, but must be in the interval [0, 1] (in '/home/szut/DA/lab2/code_2.stan', line 10, column 4 to column 25)\n\tException: bernoulli_lpmf: n[2] is 2, but must be in the interval [0, 1] (in '/home/szut/DA/lab2/code_2.stan', line 10, column 4 to column 25)\n\tException: bernoulli_lpmf: n[2] is 2, but must be in the interval [0, 1] (in '/home/szut/DA/lab2/code_2.stan', line 10, column 4 to column 25)\n\tException: bernoulli_lpmf: n[2] is 2, but must be in the interval [0, 1] (in '/home/szut/DA/lab2/code_2.stan', line 10, column 4 to column 25)\n\tException: bernoulli_lpmf: n[2] is 2, but must be in the interval [0, 1] (in '/home/szut/DA/lab2/code_2.stan', line 10, column 4 to column 25)\n\tException: bernoulli_lpmf: n[2] is 2, but must be in the interval [0, 1] (in '/home/szut/DA/lab2/code_2.stan', line 10, column 4 to column 25)\n\tException: bernoulli_lpmf: n[2] is 2, but must be in the interval [0, 1] (in '/home/szut/DA/lab2/code_2.stan', line 10, column 4 to column 25)\n\tException: bernoulli_lpmf: n[2] is 2, but must be in the interval [0, 1] (in '/home/szut/DA/lab2/code_2.stan', line 10, column 4 to column 25)\n\tException: bernoulli_lpmf: n[2] is 2, but must be in the interval [0, 1] (in '/home/szut/DA/lab2/code_2.stan', line 10, column 4 to column 25)\n\tException: bernoulli_lpmf: n[2] is 2, but must be in the interval [0, 1] (in '/home/szut/DA/lab2/code_2.stan', line 10, column 4 to column 25)\n\tException: bernoulli_lpmf: n[2] is 2, but must be in the interval [0, 1] (in '/home/szut/DA/lab2/code_2.stan', line 10, column 4 to column 25)\n\tException: bernoulli_lpmf: n[2] is 2, but must be in the interval [0, 1] (in '/home/szut/DA/lab2/code_2.stan', line 10, column 4 to column 25)\n\tException: bernoulli_lpmf: n[2] is 2, but must be in the interval [0, 1] (in '/home/szut/DA/lab2/code_2.stan', line 10, column 4 to column 25)\n\tException: bernoulli_lpmf: n[2] is 2, but must be in the interval [0, 1] (in '/home/szut/DA/lab2/code_2.stan', line 10, column 4 to column 25)\n\tException: bernoulli_lpmf: n[2] is 2, but must be in the interval [0, 1] (in '/home/szut/DA/lab2/code_2.stan', line 10, column 4 to column 25)\n\tException: bernoulli_lpmf: n[2] is 2, but must be in the interval [0, 1] (in '/home/szut/DA/lab2/code_2.stan', line 10, column 4 to column 25)\n\tException: bernoulli_lpmf: n[2] is 2, but must be in the interval [0, 1] (in '/home/szut/DA/lab2/code_2.stan', line 10, column 4 to column 25)\n\tException: bernoulli_lpmf: n[2] is 2, but must be in the interval [0, 1] (in '/home/szut/DA/lab2/code_2.stan', line 10, column 4 to column 25)\n\tException: bernoulli_lpmf: n[2] is 2, but must be in the interval [0, 1] (in '/home/szut/DA/lab2/code_2.stan', line 10, column 4 to column 25)\n\tException: bernoulli_lpmf: n[2] is 2, but must be in the interval [0, 1] (in '/home/szut/DA/lab2/code_2.stan', line 10, column 4 to column 25)\n\tException: bernoulli_lpmf: n[2] is 2, but must be in the interval [0, 1] (in '/home/szut/DA/lab2/code_2.stan', line 10, column 4 to column 25)\n\tException: bernoulli_lpmf: n[2] is 2, but must be in the interval [0, 1] (in '/home/szut/DA/lab2/code_2.stan', line 10, column 4 to column 25)\n\tException: bernoulli_lpmf: n[2] is 2, but must be in the interval [0, 1] (in '/home/szut/DA/lab2/code_2.stan', line 10, column 4 to column 25)\n\tException: bernoulli_lpmf: n[2] is 2, but must be in the interval [0, 1] (in '/home/szut/DA/lab2/code_2.stan', line 10, column 4 to column 25)\n\tException: bernoulli_lpmf: n[2] is 2, but must be in the interval [0, 1] (in '/home/szut/DA/lab2/code_2.stan', line 10, column 4 to column 25)\n\tException: bernoulli_lpmf: n[2] is 2, but must be in the interval [0, 1] (in '/home/szut/DA/lab2/code_2.stan', line 10, column 4 to column 25)\n\tException: bernoulli_lpmf: n[2] is 2, but must be in the interval [0, 1] (in '/home/szut/DA/lab2/code_2.stan', line 10, column 4 to column 25)Command and output files:\nRunSet: chains=4, chain_ids=[1, 2, 3, 4], num_processes=4\n cmd (chain 1):\n\t['/home/szut/DA/lab2/code_2', 'id=1', 'random', 'seed=48271', 'data', 'file=/tmp/tmp7f7h530y/eh84sh4s.json', 'output', 'file=/tmp/tmp7f7h530y/code_2-20220309115457_1.csv', 'method=sample', 'algorithm=hmc', 'adapt', 'engaged=1']\n retcodes=[1, 1, 1, 1]\n per-chain output files (showing chain 1 only):\n csv_file:\n\t/tmp/tmp7f7h530y/code_2-20220309115457_1.csv\n console_msgs (if any):\n\t/tmp/tmp7f7h530y/code_2-20220309115457_0-stdout.txt",
     "output_type": "error",
     "traceback": [
      "\u001b[0;31m---------------------------------------------------------------------------\u001b[0m",
      "\u001b[0;31mRuntimeError\u001b[0m                              Traceback (most recent call last)",
      "\u001b[0;32m<ipython-input-36-ec4689e33596>\u001b[0m in \u001b[0;36m<module>\u001b[0;34m\u001b[0m\n\u001b[1;32m      1\u001b[0m \u001b[0mbern1\u001b[0m \u001b[0;34m=\u001b[0m \u001b[0mCmdStanModel\u001b[0m\u001b[0;34m(\u001b[0m\u001b[0mstan_file\u001b[0m\u001b[0;34m=\u001b[0m\u001b[0;34m'code_2.stan'\u001b[0m\u001b[0;34m)\u001b[0m\u001b[0;34m\u001b[0m\u001b[0;34m\u001b[0m\u001b[0m\n\u001b[0;32m----> 2\u001b[0;31m \u001b[0msamp_bern1\u001b[0m \u001b[0;34m=\u001b[0m \u001b[0mbern1\u001b[0m\u001b[0;34m.\u001b[0m\u001b[0msample\u001b[0m\u001b[0;34m(\u001b[0m\u001b[0mdata\u001b[0m\u001b[0;34m=\u001b[0m\u001b[0;34m{\u001b[0m\u001b[0;34m'N'\u001b[0m\u001b[0;34m:\u001b[0m\u001b[0;36m2\u001b[0m\u001b[0;34m,\u001b[0m \u001b[0;34m'y'\u001b[0m\u001b[0;34m:\u001b[0m\u001b[0;34m[\u001b[0m\u001b[0;36m0\u001b[0m\u001b[0;34m,\u001b[0m\u001b[0;36m2\u001b[0m\u001b[0;34m]\u001b[0m\u001b[0;34m}\u001b[0m\u001b[0;34m)\u001b[0m\u001b[0;34m\u001b[0m\u001b[0;34m\u001b[0m\u001b[0m\n\u001b[0m",
      "\u001b[0;32m~/anaconda3/lib/python3.8/site-packages/cmdstanpy/model.py\u001b[0m in \u001b[0;36msample\u001b[0;34m(self, data, chains, parallel_chains, threads_per_chain, seed, chain_ids, inits, iter_warmup, iter_sampling, save_warmup, thin, max_treedepth, metric, step_size, adapt_engaged, adapt_delta, adapt_init_phase, adapt_metric_window, adapt_step_size, fixed_param, output_dir, sig_figs, save_latent_dynamics, save_profile, show_progress, show_console, refresh, time_fmt, force_one_process_per_chain)\u001b[0m\n\u001b[1;32m   1087\u001b[0m                     \u001b[0mmsg\u001b[0m\u001b[0;34m,\u001b[0m \u001b[0mrunset\u001b[0m\u001b[0;34m.\u001b[0m\u001b[0m__repr__\u001b[0m\u001b[0;34m(\u001b[0m\u001b[0;34m)\u001b[0m\u001b[0;34m\u001b[0m\u001b[0;34m\u001b[0m\u001b[0m\n\u001b[1;32m   1088\u001b[0m                 )\n\u001b[0;32m-> 1089\u001b[0;31m                 \u001b[0;32mraise\u001b[0m \u001b[0mRuntimeError\u001b[0m\u001b[0;34m(\u001b[0m\u001b[0mmsg\u001b[0m\u001b[0;34m)\u001b[0m\u001b[0;34m\u001b[0m\u001b[0;34m\u001b[0m\u001b[0m\n\u001b[0m\u001b[1;32m   1090\u001b[0m \u001b[0;34m\u001b[0m\u001b[0m\n\u001b[1;32m   1091\u001b[0m             \u001b[0mmcmc\u001b[0m \u001b[0;34m=\u001b[0m \u001b[0mCmdStanMCMC\u001b[0m\u001b[0;34m(\u001b[0m\u001b[0mrunset\u001b[0m\u001b[0;34m)\u001b[0m\u001b[0;34m\u001b[0m\u001b[0;34m\u001b[0m\u001b[0m\n",
      "\u001b[0;31mRuntimeError\u001b[0m: Error during sampling:\nException: bernoulli_lpmf: n[2] is 2, but must be in the interval [0, 1] (in '/home/szut/DA/lab2/code_2.stan', line 10, column 4 to column 25)\n\tException: bernoulli_lpmf: n[2] is 2, but must be in the interval [0, 1] (in '/home/szut/DA/lab2/code_2.stan', line 10, column 4 to column 25)\n\tException: bernoulli_lpmf: n[2] is 2, but must be in the interval [0, 1] (in '/home/szut/DA/lab2/code_2.stan', line 10, column 4 to column 25)\n\tException: bernoulli_lpmf: n[2] is 2, but must be in the interval [0, 1] (in '/home/szut/DA/lab2/code_2.stan', line 10, column 4 to column 25)\n\tException: bernoulli_lpmf: n[2] is 2, but must be in the interval [0, 1] (in '/home/szut/DA/lab2/code_2.stan', line 10, column 4 to column 25)\n\tException: bernoulli_lpmf: n[2] is 2, but must be in the interval [0, 1] (in '/home/szut/DA/lab2/code_2.stan', line 10, column 4 to column 25)\n\tException: bernoulli_lpmf: n[2] is 2, but must be in the interval [0, 1] (in '/home/szut/DA/lab2/code_2.stan', line 10, column 4 to column 25)\n\tException: bernoulli_lpmf: n[2] is 2, but must be in the interval [0, 1] (in '/home/szut/DA/lab2/code_2.stan', line 10, column 4 to column 25)\n\tException: bernoulli_lpmf: n[2] is 2, but must be in the interval [0, 1] (in '/home/szut/DA/lab2/code_2.stan', line 10, column 4 to column 25)\n\tException: bernoulli_lpmf: n[2] is 2, but must be in the interval [0, 1] (in '/home/szut/DA/lab2/code_2.stan', line 10, column 4 to column 25)\n\tException: bernoulli_lpmf: n[2] is 2, but must be in the interval [0, 1] (in '/home/szut/DA/lab2/code_2.stan', line 10, column 4 to column 25)\n\tException: bernoulli_lpmf: n[2] is 2, but must be in the interval [0, 1] (in '/home/szut/DA/lab2/code_2.stan', line 10, column 4 to column 25)\n\tException: bernoulli_lpmf: n[2] is 2, but must be in the interval [0, 1] (in '/home/szut/DA/lab2/code_2.stan', line 10, column 4 to column 25)\n\tException: bernoulli_lpmf: n[2] is 2, but must be in the interval [0, 1] (in '/home/szut/DA/lab2/code_2.stan', line 10, column 4 to column 25)\n\tException: bernoulli_lpmf: n[2] is 2, but must be in the interval [0, 1] (in '/home/szut/DA/lab2/code_2.stan', line 10, column 4 to column 25)\n\tException: bernoulli_lpmf: n[2] is 2, but must be in the interval [0, 1] (in '/home/szut/DA/lab2/code_2.stan', line 10, column 4 to column 25)\n\tException: bernoulli_lpmf: n[2] is 2, but must be in the interval [0, 1] (in '/home/szut/DA/lab2/code_2.stan', line 10, column 4 to column 25)\n\tException: bernoulli_lpmf: n[2] is 2, but must be in the interval [0, 1] (in '/home/szut/DA/lab2/code_2.stan', line 10, column 4 to column 25)\n\tException: bernoulli_lpmf: n[2] is 2, but must be in the interval [0, 1] (in '/home/szut/DA/lab2/code_2.stan', line 10, column 4 to column 25)\n\tException: bernoulli_lpmf: n[2] is 2, but must be in the interval [0, 1] (in '/home/szut/DA/lab2/code_2.stan', line 10, column 4 to column 25)\n\tException: bernoulli_lpmf: n[2] is 2, but must be in the interval [0, 1] (in '/home/szut/DA/lab2/code_2.stan', line 10, column 4 to column 25)\n\tException: bernoulli_lpmf: n[2] is 2, but must be in the interval [0, 1] (in '/home/szut/DA/lab2/code_2.stan', line 10, column 4 to column 25)\n\tException: bernoulli_lpmf: n[2] is 2, but must be in the interval [0, 1] (in '/home/szut/DA/lab2/code_2.stan', line 10, column 4 to column 25)\n\tException: bernoulli_lpmf: n[2] is 2, but must be in the interval [0, 1] (in '/home/szut/DA/lab2/code_2.stan', line 10, column 4 to column 25)\n\tException: bernoulli_lpmf: n[2] is 2, but must be in the interval [0, 1] (in '/home/szut/DA/lab2/code_2.stan', line 10, column 4 to column 25)\n\tException: bernoulli_lpmf: n[2] is 2, but must be in the interval [0, 1] (in '/home/szut/DA/lab2/code_2.stan', line 10, column 4 to column 25)\n\tException: bernoulli_lpmf: n[2] is 2, but must be in the interval [0, 1] (in '/home/szut/DA/lab2/code_2.stan', line 10, column 4 to column 25)\n\tException: bernoulli_lpmf: n[2] is 2, but must be in the interval [0, 1] (in '/home/szut/DA/lab2/code_2.stan', line 10, column 4 to column 25)\n\tException: bernoulli_lpmf: n[2] is 2, but must be in the interval [0, 1] (in '/home/szut/DA/lab2/code_2.stan', line 10, column 4 to column 25)\n\tException: bernoulli_lpmf: n[2] is 2, but must be in the interval [0, 1] (in '/home/szut/DA/lab2/code_2.stan', line 10, column 4 to column 25)\n\tException: bernoulli_lpmf: n[2] is 2, but must be in the interval [0, 1] (in '/home/szut/DA/lab2/code_2.stan', line 10, column 4 to column 25)\n\tException: bernoulli_lpmf: n[2] is 2, but must be in the interval [0, 1] (in '/home/szut/DA/lab2/code_2.stan', line 10, column 4 to column 25)\n\tException: bernoulli_lpmf: n[2] is 2, but must be in the interval [0, 1] (in '/home/szut/DA/lab2/code_2.stan', line 10, column 4 to column 25)\n\tException: bernoulli_lpmf: n[2] is 2, but must be in the interval [0, 1] (in '/home/szut/DA/lab2/code_2.stan', line 10, column 4 to column 25)\n\tException: bernoulli_lpmf: n[2] is 2, but must be in the interval [0, 1] (in '/home/szut/DA/lab2/code_2.stan', line 10, column 4 to column 25)\n\tException: bernoulli_lpmf: n[2] is 2, but must be in the interval [0, 1] (in '/home/szut/DA/lab2/code_2.stan', line 10, column 4 to column 25)\n\tException: bernoulli_lpmf: n[2] is 2, but must be in the interval [0, 1] (in '/home/szut/DA/lab2/code_2.stan', line 10, column 4 to column 25)\n\tException: bernoulli_lpmf: n[2] is 2, but must be in the interval [0, 1] (in '/home/szut/DA/lab2/code_2.stan', line 10, column 4 to column 25)\n\tException: bernoulli_lpmf: n[2] is 2, but must be in the interval [0, 1] (in '/home/szut/DA/lab2/code_2.stan', line 10, column 4 to column 25)\n\tException: bernoulli_lpmf: n[2] is 2, but must be in the interval [0, 1] (in '/home/szut/DA/lab2/code_2.stan', line 10, column 4 to column 25)\n\tException: bernoulli_lpmf: n[2] is 2, but must be in the interval [0, 1] (in '/home/szut/DA/lab2/code_2.stan', line 10, column 4 to column 25)\n\tException: bernoulli_lpmf: n[2] is 2, but must be in the interval [0, 1] (in '/home/szut/DA/lab2/code_2.stan', line 10, column 4 to column 25)\n\tException: bernoulli_lpmf: n[2] is 2, but must be in the interval [0, 1] (in '/home/szut/DA/lab2/code_2.stan', line 10, column 4 to column 25)\n\tException: bernoulli_lpmf: n[2] is 2, but must be in the interval [0, 1] (in '/home/szut/DA/lab2/code_2.stan', line 10, column 4 to column 25)\n\tException: bernoulli_lpmf: n[2] is 2, but must be in the interval [0, 1] (in '/home/szut/DA/lab2/code_2.stan', line 10, column 4 to column 25)\n\tException: bernoulli_lpmf: n[2] is 2, but must be in the interval [0, 1] (in '/home/szut/DA/lab2/code_2.stan', line 10, column 4 to column 25)\n\tException: bernoulli_lpmf: n[2] is 2, but must be in the interval [0, 1] (in '/home/szut/DA/lab2/code_2.stan', line 10, column 4 to column 25)\n\tException: bernoulli_lpmf: n[2] is 2, but must be in the interval [0, 1] (in '/home/szut/DA/lab2/code_2.stan', line 10, column 4 to column 25)\n\tException: bernoulli_lpmf: n[2] is 2, but must be in the interval [0, 1] (in '/home/szut/DA/lab2/code_2.stan', line 10, column 4 to column 25)\n\tException: bernoulli_lpmf: n[2] is 2, but must be in the interval [0, 1] (in '/home/szut/DA/lab2/code_2.stan', line 10, column 4 to column 25)\n\tException: bernoulli_lpmf: n[2] is 2, but must be in the interval [0, 1] (in '/home/szut/DA/lab2/code_2.stan', line 10, column 4 to column 25)\n\tException: bernoulli_lpmf: n[2] is 2, but must be in the interval [0, 1] (in '/home/szut/DA/lab2/code_2.stan', line 10, column 4 to column 25)\n\tException: bernoulli_lpmf: n[2] is 2, but must be in the interval [0, 1] (in '/home/szut/DA/lab2/code_2.stan', line 10, column 4 to column 25)\n\tException: bernoulli_lpmf: n[2] is 2, but must be in the interval [0, 1] (in '/home/szut/DA/lab2/code_2.stan', line 10, column 4 to column 25)\n\tException: bernoulli_lpmf: n[2] is 2, but must be in the interval [0, 1] (in '/home/szut/DA/lab2/code_2.stan', line 10, column 4 to column 25)\n\tException: bernoulli_lpmf: n[2] is 2, but must be in the interval [0, 1] (in '/home/szut/DA/lab2/code_2.stan', line 10, column 4 to column 25)\n\tException: bernoulli_lpmf: n[2] is 2, but must be in the interval [0, 1] (in '/home/szut/DA/lab2/code_2.stan', line 10, column 4 to column 25)\n\tException: bernoulli_lpmf: n[2] is 2, but must be in the interval [0, 1] (in '/home/szut/DA/lab2/code_2.stan', line 10, column 4 to column 25)\n\tException: bernoulli_lpmf: n[2] is 2, but must be in the interval [0, 1] (in '/home/szut/DA/lab2/code_2.stan', line 10, column 4 to column 25)\n\tException: bernoulli_lpmf: n[2] is 2, but must be in the interval [0, 1] (in '/home/szut/DA/lab2/code_2.stan', line 10, column 4 to column 25)\n\tException: bernoulli_lpmf: n[2] is 2, but must be in the interval [0, 1] (in '/home/szut/DA/lab2/code_2.stan', line 10, column 4 to column 25)\n\tException: bernoulli_lpmf: n[2] is 2, but must be in the interval [0, 1] (in '/home/szut/DA/lab2/code_2.stan', line 10, column 4 to column 25)\n\tException: bernoulli_lpmf: n[2] is 2, but must be in the interval [0, 1] (in '/home/szut/DA/lab2/code_2.stan', line 10, column 4 to column 25)\n\tException: bernoulli_lpmf: n[2] is 2, but must be in the interval [0, 1] (in '/home/szut/DA/lab2/code_2.stan', line 10, column 4 to column 25)\n\tException: bernoulli_lpmf: n[2] is 2, but must be in the interval [0, 1] (in '/home/szut/DA/lab2/code_2.stan', line 10, column 4 to column 25)\n\tException: bernoulli_lpmf: n[2] is 2, but must be in the interval [0, 1] (in '/home/szut/DA/lab2/code_2.stan', line 10, column 4 to column 25)\n\tException: bernoulli_lpmf: n[2] is 2, but must be in the interval [0, 1] (in '/home/szut/DA/lab2/code_2.stan', line 10, column 4 to column 25)\n\tException: bernoulli_lpmf: n[2] is 2, but must be in the interval [0, 1] (in '/home/szut/DA/lab2/code_2.stan', line 10, column 4 to column 25)\n\tException: bernoulli_lpmf: n[2] is 2, but must be in the interval [0, 1] (in '/home/szut/DA/lab2/code_2.stan', line 10, column 4 to column 25)\n\tException: bernoulli_lpmf: n[2] is 2, but must be in the interval [0, 1] (in '/home/szut/DA/lab2/code_2.stan', line 10, column 4 to column 25)\n\tException: bernoulli_lpmf: n[2] is 2, but must be in the interval [0, 1] (in '/home/szut/DA/lab2/code_2.stan', line 10, column 4 to column 25)\n\tException: bernoulli_lpmf: n[2] is 2, but must be in the interval [0, 1] (in '/home/szut/DA/lab2/code_2.stan', line 10, column 4 to column 25)\n\tException: bernoulli_lpmf: n[2] is 2, but must be in the interval [0, 1] (in '/home/szut/DA/lab2/code_2.stan', line 10, column 4 to column 25)\n\tException: bernoulli_lpmf: n[2] is 2, but must be in the interval [0, 1] (in '/home/szut/DA/lab2/code_2.stan', line 10, column 4 to column 25)\n\tException: bernoulli_lpmf: n[2] is 2, but must be in the interval [0, 1] (in '/home/szut/DA/lab2/code_2.stan', line 10, column 4 to column 25)\n\tException: bernoulli_lpmf: n[2] is 2, but must be in the interval [0, 1] (in '/home/szut/DA/lab2/code_2.stan', line 10, column 4 to column 25)\n\tException: bernoulli_lpmf: n[2] is 2, but must be in the interval [0, 1] (in '/home/szut/DA/lab2/code_2.stan', line 10, column 4 to column 25)\n\tException: bernoulli_lpmf: n[2] is 2, but must be in the interval [0, 1] (in '/home/szut/DA/lab2/code_2.stan', line 10, column 4 to column 25)\n\tException: bernoulli_lpmf: n[2] is 2, but must be in the interval [0, 1] (in '/home/szut/DA/lab2/code_2.stan', line 10, column 4 to column 25)\n\tException: bernoulli_lpmf: n[2] is 2, but must be in the interval [0, 1] (in '/home/szut/DA/lab2/code_2.stan', line 10, column 4 to column 25)\n\tException: bernoulli_lpmf: n[2] is 2, but must be in the interval [0, 1] (in '/home/szut/DA/lab2/code_2.stan', line 10, column 4 to column 25)\n\tException: bernoulli_lpmf: n[2] is 2, but must be in the interval [0, 1] (in '/home/szut/DA/lab2/code_2.stan', line 10, column 4 to column 25)\n\tException: bernoulli_lpmf: n[2] is 2, but must be in the interval [0, 1] (in '/home/szut/DA/lab2/code_2.stan', line 10, column 4 to column 25)\n\tException: bernoulli_lpmf: n[2] is 2, but must be in the interval [0, 1] (in '/home/szut/DA/lab2/code_2.stan', line 10, column 4 to column 25)\n\tException: bernoulli_lpmf: n[2] is 2, but must be in the interval [0, 1] (in '/home/szut/DA/lab2/code_2.stan', line 10, column 4 to column 25)\n\tException: bernoulli_lpmf: n[2] is 2, but must be in the interval [0, 1] (in '/home/szut/DA/lab2/code_2.stan', line 10, column 4 to column 25)\n\tException: bernoulli_lpmf: n[2] is 2, but must be in the interval [0, 1] (in '/home/szut/DA/lab2/code_2.stan', line 10, column 4 to column 25)\n\tException: bernoulli_lpmf: n[2] is 2, but must be in the interval [0, 1] (in '/home/szut/DA/lab2/code_2.stan', line 10, column 4 to column 25)\n\tException: bernoulli_lpmf: n[2] is 2, but must be in the interval [0, 1] (in '/home/szut/DA/lab2/code_2.stan', line 10, column 4 to column 25)\n\tException: bernoulli_lpmf: n[2] is 2, but must be in the interval [0, 1] (in '/home/szut/DA/lab2/code_2.stan', line 10, column 4 to column 25)\n\tException: bernoulli_lpmf: n[2] is 2, but must be in the interval [0, 1] (in '/home/szut/DA/lab2/code_2.stan', line 10, column 4 to column 25)\n\tException: bernoulli_lpmf: n[2] is 2, but must be in the interval [0, 1] (in '/home/szut/DA/lab2/code_2.stan', line 10, column 4 to column 25)\n\tException: bernoulli_lpmf: n[2] is 2, but must be in the interval [0, 1] (in '/home/szut/DA/lab2/code_2.stan', line 10, column 4 to column 25)\n\tException: bernoulli_lpmf: n[2] is 2, but must be in the interval [0, 1] (in '/home/szut/DA/lab2/code_2.stan', line 10, column 4 to column 25)\n\tException: bernoulli_lpmf: n[2] is 2, but must be in the interval [0, 1] (in '/home/szut/DA/lab2/code_2.stan', line 10, column 4 to column 25)\n\tException: bernoulli_lpmf: n[2] is 2, but must be in the interval [0, 1] (in '/home/szut/DA/lab2/code_2.stan', line 10, column 4 to column 25)\n\tException: bernoulli_lpmf: n[2] is 2, but must be in the interval [0, 1] (in '/home/szut/DA/lab2/code_2.stan', line 10, column 4 to column 25)\n\tException: bernoulli_lpmf: n[2] is 2, but must be in the interval [0, 1] (in '/home/szut/DA/lab2/code_2.stan', line 10, column 4 to column 25)\n\tException: bernoulli_lpmf: n[2] is 2, but must be in the interval [0, 1] (in '/home/szut/DA/lab2/code_2.stan', line 10, column 4 to column 25)\n\tException: bernoulli_lpmf: n[2] is 2, but must be in the interval [0, 1] (in '/home/szut/DA/lab2/code_2.stan', line 10, column 4 to column 25)\nException: bernoulli_lpmf: n[2] is 2, but must be in the interval [0, 1] (in '/home/szut/DA/lab2/code_2.stan', line 10, column 4 to column 25)\n\tException: bernoulli_lpmf: n[2] is 2, but must be in the interval [0, 1] (in '/home/szut/DA/lab2/code_2.stan', line 10, column 4 to column 25)\n\tException: bernoulli_lpmf: n[2] is 2, but must be in the interval [0, 1] (in '/home/szut/DA/lab2/code_2.stan', line 10, column 4 to column 25)\n\tException: bernoulli_lpmf: n[2] is 2, but must be in the interval [0, 1] (in '/home/szut/DA/lab2/code_2.stan', line 10, column 4 to column 25)\n\tException: bernoulli_lpmf: n[2] is 2, but must be in the interval [0, 1] (in '/home/szut/DA/lab2/code_2.stan', line 10, column 4 to column 25)\n\tException: bernoulli_lpmf: n[2] is 2, but must be in the interval [0, 1] (in '/home/szut/DA/lab2/code_2.stan', line 10, column 4 to column 25)\n\tException: bernoulli_lpmf: n[2] is 2, but must be in the interval [0, 1] (in '/home/szut/DA/lab2/code_2.stan', line 10, column 4 to column 25)\n\tException: bernoulli_lpmf: n[2] is 2, but must be in the interval [0, 1] (in '/home/szut/DA/lab2/code_2.stan', line 10, column 4 to column 25)\n\tException: bernoulli_lpmf: n[2] is 2, but must be in the interval [0, 1] (in '/home/szut/DA/lab2/code_2.stan', line 10, column 4 to column 25)\n\tException: bernoulli_lpmf: n[2] is 2, but must be in the interval [0, 1] (in '/home/szut/DA/lab2/code_2.stan', line 10, column 4 to column 25)\n\tException: bernoulli_lpmf: n[2] is 2, but must be in the interval [0, 1] (in '/home/szut/DA/lab2/code_2.stan', line 10, column 4 to column 25)\n\tException: bernoulli_lpmf: n[2] is 2, but must be in the interval [0, 1] (in '/home/szut/DA/lab2/code_2.stan', line 10, column 4 to column 25)\n\tException: bernoulli_lpmf: n[2] is 2, but must be in the interval [0, 1] (in '/home/szut/DA/lab2/code_2.stan', line 10, column 4 to column 25)\n\tException: bernoulli_lpmf: n[2] is 2, but must be in the interval [0, 1] (in '/home/szut/DA/lab2/code_2.stan', line 10, column 4 to column 25)\n\tException: bernoulli_lpmf: n[2] is 2, but must be in the interval [0, 1] (in '/home/szut/DA/lab2/code_2.stan', line 10, column 4 to column 25)\n\tException: bernoulli_lpmf: n[2] is 2, but must be in the interval [0, 1] (in '/home/szut/DA/lab2/code_2.stan', line 10, column 4 to column 25)\n\tException: bernoulli_lpmf: n[2] is 2, but must be in the interval [0, 1] (in '/home/szut/DA/lab2/code_2.stan', line 10, column 4 to column 25)\n\tException: bernoulli_lpmf: n[2] is 2, but must be in the interval [0, 1] (in '/home/szut/DA/lab2/code_2.stan', line 10, column 4 to column 25)\n\tException: bernoulli_lpmf: n[2] is 2, but must be in the interval [0, 1] (in '/home/szut/DA/lab2/code_2.stan', line 10, column 4 to column 25)\n\tException: bernoulli_lpmf: n[2] is 2, but must be in the interval [0, 1] (in '/home/szut/DA/lab2/code_2.stan', line 10, column 4 to column 25)\n\tException: bernoulli_lpmf: n[2] is 2, but must be in the interval [0, 1] (in '/home/szut/DA/lab2/code_2.stan', line 10, column 4 to column 25)\n\tException: bernoulli_lpmf: n[2] is 2, but must be in the interval [0, 1] (in '/home/szut/DA/lab2/code_2.stan', line 10, column 4 to column 25)\n\tException: bernoulli_lpmf: n[2] is 2, but must be in the interval [0, 1] (in '/home/szut/DA/lab2/code_2.stan', line 10, column 4 to column 25)\n\tException: bernoulli_lpmf: n[2] is 2, but must be in the interval [0, 1] (in '/home/szut/DA/lab2/code_2.stan', line 10, column 4 to column 25)\n\tException: bernoulli_lpmf: n[2] is 2, but must be in the interval [0, 1] (in '/home/szut/DA/lab2/code_2.stan', line 10, column 4 to column 25)\n\tException: bernoulli_lpmf: n[2] is 2, but must be in the interval [0, 1] (in '/home/szut/DA/lab2/code_2.stan', line 10, column 4 to column 25)\n\tException: bernoulli_lpmf: n[2] is 2, but must be in the interval [0, 1] (in '/home/szut/DA/lab2/code_2.stan', line 10, column 4 to column 25)\n\tException: bernoulli_lpmf: n[2] is 2, but must be in the interval [0, 1] (in '/home/szut/DA/lab2/code_2.stan', line 10, column 4 to column 25)\n\tException: bernoulli_lpmf: n[2] is 2, but must be in the interval [0, 1] (in '/home/szut/DA/lab2/code_2.stan', line 10, column 4 to column 25)\n\tException: bernoulli_lpmf: n[2] is 2, but must be in the interval [0, 1] (in '/home/szut/DA/lab2/code_2.stan', line 10, column 4 to column 25)\n\tException: bernoulli_lpmf: n[2] is 2, but must be in the interval [0, 1] (in '/home/szut/DA/lab2/code_2.stan', line 10, column 4 to column 25)\n\tException: bernoulli_lpmf: n[2] is 2, but must be in the interval [0, 1] (in '/home/szut/DA/lab2/code_2.stan', line 10, column 4 to column 25)\n\tException: bernoulli_lpmf: n[2] is 2, but must be in the interval [0, 1] (in '/home/szut/DA/lab2/code_2.stan', line 10, column 4 to column 25)\n\tException: bernoulli_lpmf: n[2] is 2, but must be in the interval [0, 1] (in '/home/szut/DA/lab2/code_2.stan', line 10, column 4 to column 25)\n\tException: bernoulli_lpmf: n[2] is 2, but must be in the interval [0, 1] (in '/home/szut/DA/lab2/code_2.stan', line 10, column 4 to column 25)\n\tException: bernoulli_lpmf: n[2] is 2, but must be in the interval [0, 1] (in '/home/szut/DA/lab2/code_2.stan', line 10, column 4 to column 25)\n\tException: bernoulli_lpmf: n[2] is 2, but must be in the interval [0, 1] (in '/home/szut/DA/lab2/code_2.stan', line 10, column 4 to column 25)\n\tException: bernoulli_lpmf: n[2] is 2, but must be in the interval [0, 1] (in '/home/szut/DA/lab2/code_2.stan', line 10, column 4 to column 25)\n\tException: bernoulli_lpmf: n[2] is 2, but must be in the interval [0, 1] (in '/home/szut/DA/lab2/code_2.stan', line 10, column 4 to column 25)\n\tException: bernoulli_lpmf: n[2] is 2, but must be in the interval [0, 1] (in '/home/szut/DA/lab2/code_2.stan', line 10, column 4 to column 25)\n\tException: bernoulli_lpmf: n[2] is 2, but must be in the interval [0, 1] (in '/home/szut/DA/lab2/code_2.stan', line 10, column 4 to column 25)\n\tException: bernoulli_lpmf: n[2] is 2, but must be in the interval [0, 1] (in '/home/szut/DA/lab2/code_2.stan', line 10, column 4 to column 25)\n\tException: bernoulli_lpmf: n[2] is 2, but must be in the interval [0, 1] (in '/home/szut/DA/lab2/code_2.stan', line 10, column 4 to column 25)\n\tException: bernoulli_lpmf: n[2] is 2, but must be in the interval [0, 1] (in '/home/szut/DA/lab2/code_2.stan', line 10, column 4 to column 25)\n\tException: bernoulli_lpmf: n[2] is 2, but must be in the interval [0, 1] (in '/home/szut/DA/lab2/code_2.stan', line 10, column 4 to column 25)\n\tException: bernoulli_lpmf: n[2] is 2, but must be in the interval [0, 1] (in '/home/szut/DA/lab2/code_2.stan', line 10, column 4 to column 25)\n\tException: bernoulli_lpmf: n[2] is 2, but must be in the interval [0, 1] (in '/home/szut/DA/lab2/code_2.stan', line 10, column 4 to column 25)\n\tException: bernoulli_lpmf: n[2] is 2, but must be in the interval [0, 1] (in '/home/szut/DA/lab2/code_2.stan', line 10, column 4 to column 25)\n\tException: bernoulli_lpmf: n[2] is 2, but must be in the interval [0, 1] (in '/home/szut/DA/lab2/code_2.stan', line 10, column 4 to column 25)\n\tException: bernoulli_lpmf: n[2] is 2, but must be in the interval [0, 1] (in '/home/szut/DA/lab2/code_2.stan', line 10, column 4 to column 25)\n\tException: bernoulli_lpmf: n[2] is 2, but must be in the interval [0, 1] (in '/home/szut/DA/lab2/code_2.stan', line 10, column 4 to column 25)\n\tException: bernoulli_lpmf: n[2] is 2, but must be in the interval [0, 1] (in '/home/szut/DA/lab2/code_2.stan', line 10, column 4 to column 25)\n\tException: bernoulli_lpmf: n[2] is 2, but must be in the interval [0, 1] (in '/home/szut/DA/lab2/code_2.stan', line 10, column 4 to column 25)\n\tException: bernoulli_lpmf: n[2] is 2, but must be in the interval [0, 1] (in '/home/szut/DA/lab2/code_2.stan', line 10, column 4 to column 25)\n\tException: bernoulli_lpmf: n[2] is 2, but must be in the interval [0, 1] (in '/home/szut/DA/lab2/code_2.stan', line 10, column 4 to column 25)\n\tException: bernoulli_lpmf: n[2] is 2, but must be in the interval [0, 1] (in '/home/szut/DA/lab2/code_2.stan', line 10, column 4 to column 25)\n\tException: bernoulli_lpmf: n[2] is 2, but must be in the interval [0, 1] (in '/home/szut/DA/lab2/code_2.stan', line 10, column 4 to column 25)\n\tException: bernoulli_lpmf: n[2] is 2, but must be in the interval [0, 1] (in '/home/szut/DA/lab2/code_2.stan', line 10, column 4 to column 25)\n\tException: bernoulli_lpmf: n[2] is 2, but must be in the interval [0, 1] (in '/home/szut/DA/lab2/code_2.stan', line 10, column 4 to column 25)\n\tException: bernoulli_lpmf: n[2] is 2, but must be in the interval [0, 1] (in '/home/szut/DA/lab2/code_2.stan', line 10, column 4 to column 25)\n\tException: bernoulli_lpmf: n[2] is 2, but must be in the interval [0, 1] (in '/home/szut/DA/lab2/code_2.stan', line 10, column 4 to column 25)\n\tException: bernoulli_lpmf: n[2] is 2, but must be in the interval [0, 1] (in '/home/szut/DA/lab2/code_2.stan', line 10, column 4 to column 25)\n\tException: bernoulli_lpmf: n[2] is 2, but must be in the interval [0, 1] (in '/home/szut/DA/lab2/code_2.stan', line 10, column 4 to column 25)\n\tException: bernoulli_lpmf: n[2] is 2, but must be in the interval [0, 1] (in '/home/szut/DA/lab2/code_2.stan', line 10, column 4 to column 25)\n\tException: bernoulli_lpmf: n[2] is 2, but must be in the interval [0, 1] (in '/home/szut/DA/lab2/code_2.stan', line 10, column 4 to column 25)\n\tException: bernoulli_lpmf: n[2] is 2, but must be in the interval [0, 1] (in '/home/szut/DA/lab2/code_2.stan', line 10, column 4 to column 25)\n\tException: bernoulli_lpmf: n[2] is 2, but must be in the interval [0, 1] (in '/home/szut/DA/lab2/code_2.stan', line 10, column 4 to column 25)\n\tException: bernoulli_lpmf: n[2] is 2, but must be in the interval [0, 1] (in '/home/szut/DA/lab2/code_2.stan', line 10, column 4 to column 25)\n\tException: bernoulli_lpmf: n[2] is 2, but must be in the interval [0, 1] (in '/home/szut/DA/lab2/code_2.stan', line 10, column 4 to column 25)\n\tException: bernoulli_lpmf: n[2] is 2, but must be in the interval [0, 1] (in '/home/szut/DA/lab2/code_2.stan', line 10, column 4 to column 25)\n\tException: bernoulli_lpmf: n[2] is 2, but must be in the interval [0, 1] (in '/home/szut/DA/lab2/code_2.stan', line 10, column 4 to column 25)\n\tException: bernoulli_lpmf: n[2] is 2, but must be in the interval [0, 1] (in '/home/szut/DA/lab2/code_2.stan', line 10, column 4 to column 25)\n\tException: bernoulli_lpmf: n[2] is 2, but must be in the interval [0, 1] (in '/home/szut/DA/lab2/code_2.stan', line 10, column 4 to column 25)\n\tException: bernoulli_lpmf: n[2] is 2, but must be in the interval [0, 1] (in '/home/szut/DA/lab2/code_2.stan', line 10, column 4 to column 25)\n\tException: bernoulli_lpmf: n[2] is 2, but must be in the interval [0, 1] (in '/home/szut/DA/lab2/code_2.stan', line 10, column 4 to column 25)\n\tException: bernoulli_lpmf: n[2] is 2, but must be in the interval [0, 1] (in '/home/szut/DA/lab2/code_2.stan', line 10, column 4 to column 25)\n\tException: bernoulli_lpmf: n[2] is 2, but must be in the interval [0, 1] (in '/home/szut/DA/lab2/code_2.stan', line 10, column 4 to column 25)\n\tException: bernoulli_lpmf: n[2] is 2, but must be in the interval [0, 1] (in '/home/szut/DA/lab2/code_2.stan', line 10, column 4 to column 25)\n\tException: bernoulli_lpmf: n[2] is 2, but must be in the interval [0, 1] (in '/home/szut/DA/lab2/code_2.stan', line 10, column 4 to column 25)\n\tException: bernoulli_lpmf: n[2] is 2, but must be in the interval [0, 1] (in '/home/szut/DA/lab2/code_2.stan', line 10, column 4 to column 25)\n\tException: bernoulli_lpmf: n[2] is 2, but must be in the interval [0, 1] (in '/home/szut/DA/lab2/code_2.stan', line 10, column 4 to column 25)\n\tException: bernoulli_lpmf: n[2] is 2, but must be in the interval [0, 1] (in '/home/szut/DA/lab2/code_2.stan', line 10, column 4 to column 25)\n\tException: bernoulli_lpmf: n[2] is 2, but must be in the interval [0, 1] (in '/home/szut/DA/lab2/code_2.stan', line 10, column 4 to column 25)\n\tException: bernoulli_lpmf: n[2] is 2, but must be in the interval [0, 1] (in '/home/szut/DA/lab2/code_2.stan', line 10, column 4 to column 25)\n\tException: bernoulli_lpmf: n[2] is 2, but must be in the interval [0, 1] (in '/home/szut/DA/lab2/code_2.stan', line 10, column 4 to column 25)\n\tException: bernoulli_lpmf: n[2] is 2, but must be in the interval [0, 1] (in '/home/szut/DA/lab2/code_2.stan', line 10, column 4 to column 25)\n\tException: bernoulli_lpmf: n[2] is 2, but must be in the interval [0, 1] (in '/home/szut/DA/lab2/code_2.stan', line 10, column 4 to column 25)\n\tException: bernoulli_lpmf: n[2] is 2, but must be in the interval [0, 1] (in '/home/szut/DA/lab2/code_2.stan', line 10, column 4 to column 25)\n\tException: bernoulli_lpmf: n[2] is 2, but must be in the interval [0, 1] (in '/home/szut/DA/lab2/code_2.stan', line 10, column 4 to column 25)\n\tException: bernoulli_lpmf: n[2] is 2, but must be in the interval [0, 1] (in '/home/szut/DA/lab2/code_2.stan', line 10, column 4 to column 25)\n\tException: bernoulli_lpmf: n[2] is 2, but must be in the interval [0, 1] (in '/home/szut/DA/lab2/code_2.stan', line 10, column 4 to column 25)\n\tException: bernoulli_lpmf: n[2] is 2, but must be in the interval [0, 1] (in '/home/szut/DA/lab2/code_2.stan', line 10, column 4 to column 25)\n\tException: bernoulli_lpmf: n[2] is 2, but must be in the interval [0, 1] (in '/home/szut/DA/lab2/code_2.stan', line 10, column 4 to column 25)\n\tException: bernoulli_lpmf: n[2] is 2, but must be in the interval [0, 1] (in '/home/szut/DA/lab2/code_2.stan', line 10, column 4 to column 25)\n\tException: bernoulli_lpmf: n[2] is 2, but must be in the interval [0, 1] (in '/home/szut/DA/lab2/code_2.stan', line 10, column 4 to column 25)\n\tException: bernoulli_lpmf: n[2] is 2, but must be in the interval [0, 1] (in '/home/szut/DA/lab2/code_2.stan', line 10, column 4 to column 25)\n\tException: bernoulli_lpmf: n[2] is 2, but must be in the interval [0, 1] (in '/home/szut/DA/lab2/code_2.stan', line 10, column 4 to column 25)\n\tException: bernoulli_lpmf: n[2] is 2, but must be in the interval [0, 1] (in '/home/szut/DA/lab2/code_2.stan', line 10, column 4 to column 25)\n\tException: bernoulli_lpmf: n[2] is 2, but must be in the interval [0, 1] (in '/home/szut/DA/lab2/code_2.stan', line 10, column 4 to column 25)\n\tException: bernoulli_lpmf: n[2] is 2, but must be in the interval [0, 1] (in '/home/szut/DA/lab2/code_2.stan', line 10, column 4 to column 25)\nException: bernoulli_lpmf: n[2] is 2, but must be in the interval [0, 1] (in '/home/szut/DA/lab2/code_2.stan', line 10, column 4 to column 25)\n\tException: bernoulli_lpmf: n[2] is 2, but must be in the interval [0, 1] (in '/home/szut/DA/lab2/code_2.stan', line 10, column 4 to column 25)\n\tException: bernoulli_lpmf: n[2] is 2, but must be in the interval [0, 1] (in '/home/szut/DA/lab2/code_2.stan', line 10, column 4 to column 25)\n\tException: bernoulli_lpmf: n[2] is 2, but must be in the interval [0, 1] (in '/home/szut/DA/lab2/code_2.stan', line 10, column 4 to column 25)\n\tException: bernoulli_lpmf: n[2] is 2, but must be in the interval [0, 1] (in '/home/szut/DA/lab2/code_2.stan', line 10, column 4 to column 25)\n\tException: bernoulli_lpmf: n[2] is 2, but must be in the interval [0, 1] (in '/home/szut/DA/lab2/code_2.stan', line 10, column 4 to column 25)\n\tException: bernoulli_lpmf: n[2] is 2, but must be in the interval [0, 1] (in '/home/szut/DA/lab2/code_2.stan', line 10, column 4 to column 25)\n\tException: bernoulli_lpmf: n[2] is 2, but must be in the interval [0, 1] (in '/home/szut/DA/lab2/code_2.stan', line 10, column 4 to column 25)\n\tException: bernoulli_lpmf: n[2] is 2, but must be in the interval [0, 1] (in '/home/szut/DA/lab2/code_2.stan', line 10, column 4 to column 25)\n\tException: bernoulli_lpmf: n[2] is 2, but must be in the interval [0, 1] (in '/home/szut/DA/lab2/code_2.stan', line 10, column 4 to column 25)\n\tException: bernoulli_lpmf: n[2] is 2, but must be in the interval [0, 1] (in '/home/szut/DA/lab2/code_2.stan', line 10, column 4 to column 25)\n\tException: bernoulli_lpmf: n[2] is 2, but must be in the interval [0, 1] (in '/home/szut/DA/lab2/code_2.stan', line 10, column 4 to column 25)\n\tException: bernoulli_lpmf: n[2] is 2, but must be in the interval [0, 1] (in '/home/szut/DA/lab2/code_2.stan', line 10, column 4 to column 25)\n\tException: bernoulli_lpmf: n[2] is 2, but must be in the interval [0, 1] (in '/home/szut/DA/lab2/code_2.stan', line 10, column 4 to column 25)\n\tException: bernoulli_lpmf: n[2] is 2, but must be in the interval [0, 1] (in '/home/szut/DA/lab2/code_2.stan', line 10, column 4 to column 25)\n\tException: bernoulli_lpmf: n[2] is 2, but must be in the interval [0, 1] (in '/home/szut/DA/lab2/code_2.stan', line 10, column 4 to column 25)\n\tException: bernoulli_lpmf: n[2] is 2, but must be in the interval [0, 1] (in '/home/szut/DA/lab2/code_2.stan', line 10, column 4 to column 25)\n\tException: bernoulli_lpmf: n[2] is 2, but must be in the interval [0, 1] (in '/home/szut/DA/lab2/code_2.stan', line 10, column 4 to column 25)\n\tException: bernoulli_lpmf: n[2] is 2, but must be in the interval [0, 1] (in '/home/szut/DA/lab2/code_2.stan', line 10, column 4 to column 25)\n\tException: bernoulli_lpmf: n[2] is 2, but must be in the interval [0, 1] (in '/home/szut/DA/lab2/code_2.stan', line 10, column 4 to column 25)\n\tException: bernoulli_lpmf: n[2] is 2, but must be in the interval [0, 1] (in '/home/szut/DA/lab2/code_2.stan', line 10, column 4 to column 25)\n\tException: bernoulli_lpmf: n[2] is 2, but must be in the interval [0, 1] (in '/home/szut/DA/lab2/code_2.stan', line 10, column 4 to column 25)\n\tException: bernoulli_lpmf: n[2] is 2, but must be in the interval [0, 1] (in '/home/szut/DA/lab2/code_2.stan', line 10, column 4 to column 25)\n\tException: bernoulli_lpmf: n[2] is 2, but must be in the interval [0, 1] (in '/home/szut/DA/lab2/code_2.stan', line 10, column 4 to column 25)\n\tException: bernoulli_lpmf: n[2] is 2, but must be in the interval [0, 1] (in '/home/szut/DA/lab2/code_2.stan', line 10, column 4 to column 25)\n\tException: bernoulli_lpmf: n[2] is 2, but must be in the interval [0, 1] (in '/home/szut/DA/lab2/code_2.stan', line 10, column 4 to column 25)\n\tException: bernoulli_lpmf: n[2] is 2, but must be in the interval [0, 1] (in '/home/szut/DA/lab2/code_2.stan', line 10, column 4 to column 25)\n\tException: bernoulli_lpmf: n[2] is 2, but must be in the interval [0, 1] (in '/home/szut/DA/lab2/code_2.stan', line 10, column 4 to column 25)\n\tException: bernoulli_lpmf: n[2] is 2, but must be in the interval [0, 1] (in '/home/szut/DA/lab2/code_2.stan', line 10, column 4 to column 25)\n\tException: bernoulli_lpmf: n[2] is 2, but must be in the interval [0, 1] (in '/home/szut/DA/lab2/code_2.stan', line 10, column 4 to column 25)\n\tException: bernoulli_lpmf: n[2] is 2, but must be in the interval [0, 1] (in '/home/szut/DA/lab2/code_2.stan', line 10, column 4 to column 25)\n\tException: bernoulli_lpmf: n[2] is 2, but must be in the interval [0, 1] (in '/home/szut/DA/lab2/code_2.stan', line 10, column 4 to column 25)\n\tException: bernoulli_lpmf: n[2] is 2, but must be in the interval [0, 1] (in '/home/szut/DA/lab2/code_2.stan', line 10, column 4 to column 25)\n\tException: bernoulli_lpmf: n[2] is 2, but must be in the interval [0, 1] (in '/home/szut/DA/lab2/code_2.stan', line 10, column 4 to column 25)\n\tException: bernoulli_lpmf: n[2] is 2, but must be in the interval [0, 1] (in '/home/szut/DA/lab2/code_2.stan', line 10, column 4 to column 25)\n\tException: bernoulli_lpmf: n[2] is 2, but must be in the interval [0, 1] (in '/home/szut/DA/lab2/code_2.stan', line 10, column 4 to column 25)\n\tException: bernoulli_lpmf: n[2] is 2, but must be in the interval [0, 1] (in '/home/szut/DA/lab2/code_2.stan', line 10, column 4 to column 25)\n\tException: bernoulli_lpmf: n[2] is 2, but must be in the interval [0, 1] (in '/home/szut/DA/lab2/code_2.stan', line 10, column 4 to column 25)\n\tException: bernoulli_lpmf: n[2] is 2, but must be in the interval [0, 1] (in '/home/szut/DA/lab2/code_2.stan', line 10, column 4 to column 25)\n\tException: bernoulli_lpmf: n[2] is 2, but must be in the interval [0, 1] (in '/home/szut/DA/lab2/code_2.stan', line 10, column 4 to column 25)\n\tException: bernoulli_lpmf: n[2] is 2, but must be in the interval [0, 1] (in '/home/szut/DA/lab2/code_2.stan', line 10, column 4 to column 25)\n\tException: bernoulli_lpmf: n[2] is 2, but must be in the interval [0, 1] (in '/home/szut/DA/lab2/code_2.stan', line 10, column 4 to column 25)\n\tException: bernoulli_lpmf: n[2] is 2, but must be in the interval [0, 1] (in '/home/szut/DA/lab2/code_2.stan', line 10, column 4 to column 25)\n\tException: bernoulli_lpmf: n[2] is 2, but must be in the interval [0, 1] (in '/home/szut/DA/lab2/code_2.stan', line 10, column 4 to column 25)\n\tException: bernoulli_lpmf: n[2] is 2, but must be in the interval [0, 1] (in '/home/szut/DA/lab2/code_2.stan', line 10, column 4 to column 25)\n\tException: bernoulli_lpmf: n[2] is 2, but must be in the interval [0, 1] (in '/home/szut/DA/lab2/code_2.stan', line 10, column 4 to column 25)\n\tException: bernoulli_lpmf: n[2] is 2, but must be in the interval [0, 1] (in '/home/szut/DA/lab2/code_2.stan', line 10, column 4 to column 25)\n\tException: bernoulli_lpmf: n[2] is 2, but must be in the interval [0, 1] (in '/home/szut/DA/lab2/code_2.stan', line 10, column 4 to column 25)\n\tException: bernoulli_lpmf: n[2] is 2, but must be in the interval [0, 1] (in '/home/szut/DA/lab2/code_2.stan', line 10, column 4 to column 25)\n\tException: bernoulli_lpmf: n[2] is 2, but must be in the interval [0, 1] (in '/home/szut/DA/lab2/code_2.stan', line 10, column 4 to column 25)\n\tException: bernoulli_lpmf: n[2] is 2, but must be in the interval [0, 1] (in '/home/szut/DA/lab2/code_2.stan', line 10, column 4 to column 25)\n\tException: bernoulli_lpmf: n[2] is 2, but must be in the interval [0, 1] (in '/home/szut/DA/lab2/code_2.stan', line 10, column 4 to column 25)\n\tException: bernoulli_lpmf: n[2] is 2, but must be in the interval [0, 1] (in '/home/szut/DA/lab2/code_2.stan', line 10, column 4 to column 25)\n\tException: bernoulli_lpmf: n[2] is 2, but must be in the interval [0, 1] (in '/home/szut/DA/lab2/code_2.stan', line 10, column 4 to column 25)\n\tException: bernoulli_lpmf: n[2] is 2, but must be in the interval [0, 1] (in '/home/szut/DA/lab2/code_2.stan', line 10, column 4 to column 25)\n\tException: bernoulli_lpmf: n[2] is 2, but must be in the interval [0, 1] (in '/home/szut/DA/lab2/code_2.stan', line 10, column 4 to column 25)\n\tException: bernoulli_lpmf: n[2] is 2, but must be in the interval [0, 1] (in '/home/szut/DA/lab2/code_2.stan', line 10, column 4 to column 25)\n\tException: bernoulli_lpmf: n[2] is 2, but must be in the interval [0, 1] (in '/home/szut/DA/lab2/code_2.stan', line 10, column 4 to column 25)\n\tException: bernoulli_lpmf: n[2] is 2, but must be in the interval [0, 1] (in '/home/szut/DA/lab2/code_2.stan', line 10, column 4 to column 25)\n\tException: bernoulli_lpmf: n[2] is 2, but must be in the interval [0, 1] (in '/home/szut/DA/lab2/code_2.stan', line 10, column 4 to column 25)\n\tException: bernoulli_lpmf: n[2] is 2, but must be in the interval [0, 1] (in '/home/szut/DA/lab2/code_2.stan', line 10, column 4 to column 25)\n\tException: bernoulli_lpmf: n[2] is 2, but must be in the interval [0, 1] (in '/home/szut/DA/lab2/code_2.stan', line 10, column 4 to column 25)\n\tException: bernoulli_lpmf: n[2] is 2, but must be in the interval [0, 1] (in '/home/szut/DA/lab2/code_2.stan', line 10, column 4 to column 25)\n\tException: bernoulli_lpmf: n[2] is 2, but must be in the interval [0, 1] (in '/home/szut/DA/lab2/code_2.stan', line 10, column 4 to column 25)\n\tException: bernoulli_lpmf: n[2] is 2, but must be in the interval [0, 1] (in '/home/szut/DA/lab2/code_2.stan', line 10, column 4 to column 25)\n\tException: bernoulli_lpmf: n[2] is 2, but must be in the interval [0, 1] (in '/home/szut/DA/lab2/code_2.stan', line 10, column 4 to column 25)\n\tException: bernoulli_lpmf: n[2] is 2, but must be in the interval [0, 1] (in '/home/szut/DA/lab2/code_2.stan', line 10, column 4 to column 25)\n\tException: bernoulli_lpmf: n[2] is 2, but must be in the interval [0, 1] (in '/home/szut/DA/lab2/code_2.stan', line 10, column 4 to column 25)\n\tException: bernoulli_lpmf: n[2] is 2, but must be in the interval [0, 1] (in '/home/szut/DA/lab2/code_2.stan', line 10, column 4 to column 25)\n\tException: bernoulli_lpmf: n[2] is 2, but must be in the interval [0, 1] (in '/home/szut/DA/lab2/code_2.stan', line 10, column 4 to column 25)\n\tException: bernoulli_lpmf: n[2] is 2, but must be in the interval [0, 1] (in '/home/szut/DA/lab2/code_2.stan', line 10, column 4 to column 25)\n\tException: bernoulli_lpmf: n[2] is 2, but must be in the interval [0, 1] (in '/home/szut/DA/lab2/code_2.stan', line 10, column 4 to column 25)\n\tException: bernoulli_lpmf: n[2] is 2, but must be in the interval [0, 1] (in '/home/szut/DA/lab2/code_2.stan', line 10, column 4 to column 25)\n\tException: bernoulli_lpmf: n[2] is 2, but must be in the interval [0, 1] (in '/home/szut/DA/lab2/code_2.stan', line 10, column 4 to column 25)\n\tException: bernoulli_lpmf: n[2] is 2, but must be in the interval [0, 1] (in '/home/szut/DA/lab2/code_2.stan', line 10, column 4 to column 25)\n\tException: bernoulli_lpmf: n[2] is 2, but must be in the interval [0, 1] (in '/home/szut/DA/lab2/code_2.stan', line 10, column 4 to column 25)\n\tException: bernoulli_lpmf: n[2] is 2, but must be in the interval [0, 1] (in '/home/szut/DA/lab2/code_2.stan', line 10, column 4 to column 25)\n\tException: bernoulli_lpmf: n[2] is 2, but must be in the interval [0, 1] (in '/home/szut/DA/lab2/code_2.stan', line 10, column 4 to column 25)\n\tException: bernoulli_lpmf: n[2] is 2, but must be in the interval [0, 1] (in '/home/szut/DA/lab2/code_2.stan', line 10, column 4 to column 25)\n\tException: bernoulli_lpmf: n[2] is 2, but must be in the interval [0, 1] (in '/home/szut/DA/lab2/code_2.stan', line 10, column 4 to column 25)\n\tException: bernoulli_lpmf: n[2] is 2, but must be in the interval [0, 1] (in '/home/szut/DA/lab2/code_2.stan', line 10, column 4 to column 25)\n\tException: bernoulli_lpmf: n[2] is 2, but must be in the interval [0, 1] (in '/home/szut/DA/lab2/code_2.stan', line 10, column 4 to column 25)\n\tException: bernoulli_lpmf: n[2] is 2, but must be in the interval [0, 1] (in '/home/szut/DA/lab2/code_2.stan', line 10, column 4 to column 25)\n\tException: bernoulli_lpmf: n[2] is 2, but must be in the interval [0, 1] (in '/home/szut/DA/lab2/code_2.stan', line 10, column 4 to column 25)\n\tException: bernoulli_lpmf: n[2] is 2, but must be in the interval [0, 1] (in '/home/szut/DA/lab2/code_2.stan', line 10, column 4 to column 25)\n\tException: bernoulli_lpmf: n[2] is 2, but must be in the interval [0, 1] (in '/home/szut/DA/lab2/code_2.stan', line 10, column 4 to column 25)\n\tException: bernoulli_lpmf: n[2] is 2, but must be in the interval [0, 1] (in '/home/szut/DA/lab2/code_2.stan', line 10, column 4 to column 25)\n\tException: bernoulli_lpmf: n[2] is 2, but must be in the interval [0, 1] (in '/home/szut/DA/lab2/code_2.stan', line 10, column 4 to column 25)\n\tException: bernoulli_lpmf: n[2] is 2, but must be in the interval [0, 1] (in '/home/szut/DA/lab2/code_2.stan', line 10, column 4 to column 25)\n\tException: bernoulli_lpmf: n[2] is 2, but must be in the interval [0, 1] (in '/home/szut/DA/lab2/code_2.stan', line 10, column 4 to column 25)\n\tException: bernoulli_lpmf: n[2] is 2, but must be in the interval [0, 1] (in '/home/szut/DA/lab2/code_2.stan', line 10, column 4 to column 25)\n\tException: bernoulli_lpmf: n[2] is 2, but must be in the interval [0, 1] (in '/home/szut/DA/lab2/code_2.stan', line 10, column 4 to column 25)\n\tException: bernoulli_lpmf: n[2] is 2, but must be in the interval [0, 1] (in '/home/szut/DA/lab2/code_2.stan', line 10, column 4 to column 25)\n\tException: bernoulli_lpmf: n[2] is 2, but must be in the interval [0, 1] (in '/home/szut/DA/lab2/code_2.stan', line 10, column 4 to column 25)\n\tException: bernoulli_lpmf: n[2] is 2, but must be in the interval [0, 1] (in '/home/szut/DA/lab2/code_2.stan', line 10, column 4 to column 25)\n\tException: bernoulli_lpmf: n[2] is 2, but must be in the interval [0, 1] (in '/home/szut/DA/lab2/code_2.stan', line 10, column 4 to column 25)\n\tException: bernoulli_lpmf: n[2] is 2, but must be in the interval [0, 1] (in '/home/szut/DA/lab2/code_2.stan', line 10, column 4 to column 25)\n\tException: bernoulli_lpmf: n[2] is 2, but must be in the interval [0, 1] (in '/home/szut/DA/lab2/code_2.stan', line 10, column 4 to column 25)\n\tException: bernoulli_lpmf: n[2] is 2, but must be in the interval [0, 1] (in '/home/szut/DA/lab2/code_2.stan', line 10, column 4 to column 25)\n\tException: bernoulli_lpmf: n[2] is 2, but must be in the interval [0, 1] (in '/home/szut/DA/lab2/code_2.stan', line 10, column 4 to column 25)\nException: bernoulli_lpmf: n[2] is 2, but must be in the interval [0, 1] (in '/home/szut/DA/lab2/code_2.stan', line 10, column 4 to column 25)\n\tException: bernoulli_lpmf: n[2] is 2, but must be in the interval [0, 1] (in '/home/szut/DA/lab2/code_2.stan', line 10, column 4 to column 25)\n\tException: bernoulli_lpmf: n[2] is 2, but must be in the interval [0, 1] (in '/home/szut/DA/lab2/code_2.stan', line 10, column 4 to column 25)\n\tException: bernoulli_lpmf: n[2] is 2, but must be in the interval [0, 1] (in '/home/szut/DA/lab2/code_2.stan', line 10, column 4 to column 25)\n\tException: bernoulli_lpmf: n[2] is 2, but must be in the interval [0, 1] (in '/home/szut/DA/lab2/code_2.stan', line 10, column 4 to column 25)\n\tException: bernoulli_lpmf: n[2] is 2, but must be in the interval [0, 1] (in '/home/szut/DA/lab2/code_2.stan', line 10, column 4 to column 25)\n\tException: bernoulli_lpmf: n[2] is 2, but must be in the interval [0, 1] (in '/home/szut/DA/lab2/code_2.stan', line 10, column 4 to column 25)\n\tException: bernoulli_lpmf: n[2] is 2, but must be in the interval [0, 1] (in '/home/szut/DA/lab2/code_2.stan', line 10, column 4 to column 25)\n\tException: bernoulli_lpmf: n[2] is 2, but must be in the interval [0, 1] (in '/home/szut/DA/lab2/code_2.stan', line 10, column 4 to column 25)\n\tException: bernoulli_lpmf: n[2] is 2, but must be in the interval [0, 1] (in '/home/szut/DA/lab2/code_2.stan', line 10, column 4 to column 25)\n\tException: bernoulli_lpmf: n[2] is 2, but must be in the interval [0, 1] (in '/home/szut/DA/lab2/code_2.stan', line 10, column 4 to column 25)\n\tException: bernoulli_lpmf: n[2] is 2, but must be in the interval [0, 1] (in '/home/szut/DA/lab2/code_2.stan', line 10, column 4 to column 25)\n\tException: bernoulli_lpmf: n[2] is 2, but must be in the interval [0, 1] (in '/home/szut/DA/lab2/code_2.stan', line 10, column 4 to column 25)\n\tException: bernoulli_lpmf: n[2] is 2, but must be in the interval [0, 1] (in '/home/szut/DA/lab2/code_2.stan', line 10, column 4 to column 25)\n\tException: bernoulli_lpmf: n[2] is 2, but must be in the interval [0, 1] (in '/home/szut/DA/lab2/code_2.stan', line 10, column 4 to column 25)\n\tException: bernoulli_lpmf: n[2] is 2, but must be in the interval [0, 1] (in '/home/szut/DA/lab2/code_2.stan', line 10, column 4 to column 25)\n\tException: bernoulli_lpmf: n[2] is 2, but must be in the interval [0, 1] (in '/home/szut/DA/lab2/code_2.stan', line 10, column 4 to column 25)\n\tException: bernoulli_lpmf: n[2] is 2, but must be in the interval [0, 1] (in '/home/szut/DA/lab2/code_2.stan', line 10, column 4 to column 25)\n\tException: bernoulli_lpmf: n[2] is 2, but must be in the interval [0, 1] (in '/home/szut/DA/lab2/code_2.stan', line 10, column 4 to column 25)\n\tException: bernoulli_lpmf: n[2] is 2, but must be in the interval [0, 1] (in '/home/szut/DA/lab2/code_2.stan', line 10, column 4 to column 25)\n\tException: bernoulli_lpmf: n[2] is 2, but must be in the interval [0, 1] (in '/home/szut/DA/lab2/code_2.stan', line 10, column 4 to column 25)\n\tException: bernoulli_lpmf: n[2] is 2, but must be in the interval [0, 1] (in '/home/szut/DA/lab2/code_2.stan', line 10, column 4 to column 25)\n\tException: bernoulli_lpmf: n[2] is 2, but must be in the interval [0, 1] (in '/home/szut/DA/lab2/code_2.stan', line 10, column 4 to column 25)\n\tException: bernoulli_lpmf: n[2] is 2, but must be in the interval [0, 1] (in '/home/szut/DA/lab2/code_2.stan', line 10, column 4 to column 25)\n\tException: bernoulli_lpmf: n[2] is 2, but must be in the interval [0, 1] (in '/home/szut/DA/lab2/code_2.stan', line 10, column 4 to column 25)\n\tException: bernoulli_lpmf: n[2] is 2, but must be in the interval [0, 1] (in '/home/szut/DA/lab2/code_2.stan', line 10, column 4 to column 25)\n\tException: bernoulli_lpmf: n[2] is 2, but must be in the interval [0, 1] (in '/home/szut/DA/lab2/code_2.stan', line 10, column 4 to column 25)\n\tException: bernoulli_lpmf: n[2] is 2, but must be in the interval [0, 1] (in '/home/szut/DA/lab2/code_2.stan', line 10, column 4 to column 25)\n\tException: bernoulli_lpmf: n[2] is 2, but must be in the interval [0, 1] (in '/home/szut/DA/lab2/code_2.stan', line 10, column 4 to column 25)\n\tException: bernoulli_lpmf: n[2] is 2, but must be in the interval [0, 1] (in '/home/szut/DA/lab2/code_2.stan', line 10, column 4 to column 25)\n\tException: bernoulli_lpmf: n[2] is 2, but must be in the interval [0, 1] (in '/home/szut/DA/lab2/code_2.stan', line 10, column 4 to column 25)\n\tException: bernoulli_lpmf: n[2] is 2, but must be in the interval [0, 1] (in '/home/szut/DA/lab2/code_2.stan', line 10, column 4 to column 25)\n\tException: bernoulli_lpmf: n[2] is 2, but must be in the interval [0, 1] (in '/home/szut/DA/lab2/code_2.stan', line 10, column 4 to column 25)\n\tException: bernoulli_lpmf: n[2] is 2, but must be in the interval [0, 1] (in '/home/szut/DA/lab2/code_2.stan', line 10, column 4 to column 25)\n\tException: bernoulli_lpmf: n[2] is 2, but must be in the interval [0, 1] (in '/home/szut/DA/lab2/code_2.stan', line 10, column 4 to column 25)\n\tException: bernoulli_lpmf: n[2] is 2, but must be in the interval [0, 1] (in '/home/szut/DA/lab2/code_2.stan', line 10, column 4 to column 25)\n\tException: bernoulli_lpmf: n[2] is 2, but must be in the interval [0, 1] (in '/home/szut/DA/lab2/code_2.stan', line 10, column 4 to column 25)\n\tException: bernoulli_lpmf: n[2] is 2, but must be in the interval [0, 1] (in '/home/szut/DA/lab2/code_2.stan', line 10, column 4 to column 25)\n\tException: bernoulli_lpmf: n[2] is 2, but must be in the interval [0, 1] (in '/home/szut/DA/lab2/code_2.stan', line 10, column 4 to column 25)\n\tException: bernoulli_lpmf: n[2] is 2, but must be in the interval [0, 1] (in '/home/szut/DA/lab2/code_2.stan', line 10, column 4 to column 25)\n\tException: bernoulli_lpmf: n[2] is 2, but must be in the interval [0, 1] (in '/home/szut/DA/lab2/code_2.stan', line 10, column 4 to column 25)\n\tException: bernoulli_lpmf: n[2] is 2, but must be in the interval [0, 1] (in '/home/szut/DA/lab2/code_2.stan', line 10, column 4 to column 25)\n\tException: bernoulli_lpmf: n[2] is 2, but must be in the interval [0, 1] (in '/home/szut/DA/lab2/code_2.stan', line 10, column 4 to column 25)\n\tException: bernoulli_lpmf: n[2] is 2, but must be in the interval [0, 1] (in '/home/szut/DA/lab2/code_2.stan', line 10, column 4 to column 25)\n\tException: bernoulli_lpmf: n[2] is 2, but must be in the interval [0, 1] (in '/home/szut/DA/lab2/code_2.stan', line 10, column 4 to column 25)\n\tException: bernoulli_lpmf: n[2] is 2, but must be in the interval [0, 1] (in '/home/szut/DA/lab2/code_2.stan', line 10, column 4 to column 25)\n\tException: bernoulli_lpmf: n[2] is 2, but must be in the interval [0, 1] (in '/home/szut/DA/lab2/code_2.stan', line 10, column 4 to column 25)\n\tException: bernoulli_lpmf: n[2] is 2, but must be in the interval [0, 1] (in '/home/szut/DA/lab2/code_2.stan', line 10, column 4 to column 25)\n\tException: bernoulli_lpmf: n[2] is 2, but must be in the interval [0, 1] (in '/home/szut/DA/lab2/code_2.stan', line 10, column 4 to column 25)\n\tException: bernoulli_lpmf: n[2] is 2, but must be in the interval [0, 1] (in '/home/szut/DA/lab2/code_2.stan', line 10, column 4 to column 25)\n\tException: bernoulli_lpmf: n[2] is 2, but must be in the interval [0, 1] (in '/home/szut/DA/lab2/code_2.stan', line 10, column 4 to column 25)\n\tException: bernoulli_lpmf: n[2] is 2, but must be in the interval [0, 1] (in '/home/szut/DA/lab2/code_2.stan', line 10, column 4 to column 25)\n\tException: bernoulli_lpmf: n[2] is 2, but must be in the interval [0, 1] (in '/home/szut/DA/lab2/code_2.stan', line 10, column 4 to column 25)\n\tException: bernoulli_lpmf: n[2] is 2, but must be in the interval [0, 1] (in '/home/szut/DA/lab2/code_2.stan', line 10, column 4 to column 25)\n\tException: bernoulli_lpmf: n[2] is 2, but must be in the interval [0, 1] (in '/home/szut/DA/lab2/code_2.stan', line 10, column 4 to column 25)\n\tException: bernoulli_lpmf: n[2] is 2, but must be in the interval [0, 1] (in '/home/szut/DA/lab2/code_2.stan', line 10, column 4 to column 25)\n\tException: bernoulli_lpmf: n[2] is 2, but must be in the interval [0, 1] (in '/home/szut/DA/lab2/code_2.stan', line 10, column 4 to column 25)\n\tException: bernoulli_lpmf: n[2] is 2, but must be in the interval [0, 1] (in '/home/szut/DA/lab2/code_2.stan', line 10, column 4 to column 25)\n\tException: bernoulli_lpmf: n[2] is 2, but must be in the interval [0, 1] (in '/home/szut/DA/lab2/code_2.stan', line 10, column 4 to column 25)\n\tException: bernoulli_lpmf: n[2] is 2, but must be in the interval [0, 1] (in '/home/szut/DA/lab2/code_2.stan', line 10, column 4 to column 25)\n\tException: bernoulli_lpmf: n[2] is 2, but must be in the interval [0, 1] (in '/home/szut/DA/lab2/code_2.stan', line 10, column 4 to column 25)\n\tException: bernoulli_lpmf: n[2] is 2, but must be in the interval [0, 1] (in '/home/szut/DA/lab2/code_2.stan', line 10, column 4 to column 25)\n\tException: bernoulli_lpmf: n[2] is 2, but must be in the interval [0, 1] (in '/home/szut/DA/lab2/code_2.stan', line 10, column 4 to column 25)\n\tException: bernoulli_lpmf: n[2] is 2, but must be in the interval [0, 1] (in '/home/szut/DA/lab2/code_2.stan', line 10, column 4 to column 25)\n\tException: bernoulli_lpmf: n[2] is 2, but must be in the interval [0, 1] (in '/home/szut/DA/lab2/code_2.stan', line 10, column 4 to column 25)\n\tException: bernoulli_lpmf: n[2] is 2, but must be in the interval [0, 1] (in '/home/szut/DA/lab2/code_2.stan', line 10, column 4 to column 25)\n\tException: bernoulli_lpmf: n[2] is 2, but must be in the interval [0, 1] (in '/home/szut/DA/lab2/code_2.stan', line 10, column 4 to column 25)\n\tException: bernoulli_lpmf: n[2] is 2, but must be in the interval [0, 1] (in '/home/szut/DA/lab2/code_2.stan', line 10, column 4 to column 25)\n\tException: bernoulli_lpmf: n[2] is 2, but must be in the interval [0, 1] (in '/home/szut/DA/lab2/code_2.stan', line 10, column 4 to column 25)\n\tException: bernoulli_lpmf: n[2] is 2, but must be in the interval [0, 1] (in '/home/szut/DA/lab2/code_2.stan', line 10, column 4 to column 25)\n\tException: bernoulli_lpmf: n[2] is 2, but must be in the interval [0, 1] (in '/home/szut/DA/lab2/code_2.stan', line 10, column 4 to column 25)\n\tException: bernoulli_lpmf: n[2] is 2, but must be in the interval [0, 1] (in '/home/szut/DA/lab2/code_2.stan', line 10, column 4 to column 25)\n\tException: bernoulli_lpmf: n[2] is 2, but must be in the interval [0, 1] (in '/home/szut/DA/lab2/code_2.stan', line 10, column 4 to column 25)\n\tException: bernoulli_lpmf: n[2] is 2, but must be in the interval [0, 1] (in '/home/szut/DA/lab2/code_2.stan', line 10, column 4 to column 25)\n\tException: bernoulli_lpmf: n[2] is 2, but must be in the interval [0, 1] (in '/home/szut/DA/lab2/code_2.stan', line 10, column 4 to column 25)\n\tException: bernoulli_lpmf: n[2] is 2, but must be in the interval [0, 1] (in '/home/szut/DA/lab2/code_2.stan', line 10, column 4 to column 25)\n\tException: bernoulli_lpmf: n[2] is 2, but must be in the interval [0, 1] (in '/home/szut/DA/lab2/code_2.stan', line 10, column 4 to column 25)\n\tException: bernoulli_lpmf: n[2] is 2, but must be in the interval [0, 1] (in '/home/szut/DA/lab2/code_2.stan', line 10, column 4 to column 25)\n\tException: bernoulli_lpmf: n[2] is 2, but must be in the interval [0, 1] (in '/home/szut/DA/lab2/code_2.stan', line 10, column 4 to column 25)\n\tException: bernoulli_lpmf: n[2] is 2, but must be in the interval [0, 1] (in '/home/szut/DA/lab2/code_2.stan', line 10, column 4 to column 25)\n\tException: bernoulli_lpmf: n[2] is 2, but must be in the interval [0, 1] (in '/home/szut/DA/lab2/code_2.stan', line 10, column 4 to column 25)\n\tException: bernoulli_lpmf: n[2] is 2, but must be in the interval [0, 1] (in '/home/szut/DA/lab2/code_2.stan', line 10, column 4 to column 25)\n\tException: bernoulli_lpmf: n[2] is 2, but must be in the interval [0, 1] (in '/home/szut/DA/lab2/code_2.stan', line 10, column 4 to column 25)\n\tException: bernoulli_lpmf: n[2] is 2, but must be in the interval [0, 1] (in '/home/szut/DA/lab2/code_2.stan', line 10, column 4 to column 25)\n\tException: bernoulli_lpmf: n[2] is 2, but must be in the interval [0, 1] (in '/home/szut/DA/lab2/code_2.stan', line 10, column 4 to column 25)\n\tException: bernoulli_lpmf: n[2] is 2, but must be in the interval [0, 1] (in '/home/szut/DA/lab2/code_2.stan', line 10, column 4 to column 25)\n\tException: bernoulli_lpmf: n[2] is 2, but must be in the interval [0, 1] (in '/home/szut/DA/lab2/code_2.stan', line 10, column 4 to column 25)\n\tException: bernoulli_lpmf: n[2] is 2, but must be in the interval [0, 1] (in '/home/szut/DA/lab2/code_2.stan', line 10, column 4 to column 25)\n\tException: bernoulli_lpmf: n[2] is 2, but must be in the interval [0, 1] (in '/home/szut/DA/lab2/code_2.stan', line 10, column 4 to column 25)\n\tException: bernoulli_lpmf: n[2] is 2, but must be in the interval [0, 1] (in '/home/szut/DA/lab2/code_2.stan', line 10, column 4 to column 25)\n\tException: bernoulli_lpmf: n[2] is 2, but must be in the interval [0, 1] (in '/home/szut/DA/lab2/code_2.stan', line 10, column 4 to column 25)\n\tException: bernoulli_lpmf: n[2] is 2, but must be in the interval [0, 1] (in '/home/szut/DA/lab2/code_2.stan', line 10, column 4 to column 25)\n\tException: bernoulli_lpmf: n[2] is 2, but must be in the interval [0, 1] (in '/home/szut/DA/lab2/code_2.stan', line 10, column 4 to column 25)\n\tException: bernoulli_lpmf: n[2] is 2, but must be in the interval [0, 1] (in '/home/szut/DA/lab2/code_2.stan', line 10, column 4 to column 25)\n\tException: bernoulli_lpmf: n[2] is 2, but must be in the interval [0, 1] (in '/home/szut/DA/lab2/code_2.stan', line 10, column 4 to column 25)\n\tException: bernoulli_lpmf: n[2] is 2, but must be in the interval [0, 1] (in '/home/szut/DA/lab2/code_2.stan', line 10, column 4 to column 25)\n\tException: bernoulli_lpmf: n[2] is 2, but must be in the interval [0, 1] (in '/home/szut/DA/lab2/code_2.stan', line 10, column 4 to column 25)\n\tException: bernoulli_lpmf: n[2] is 2, but must be in the interval [0, 1] (in '/home/szut/DA/lab2/code_2.stan', line 10, column 4 to column 25)\n\tException: bernoulli_lpmf: n[2] is 2, but must be in the interval [0, 1] (in '/home/szut/DA/lab2/code_2.stan', line 10, column 4 to column 25)\n\tException: bernoulli_lpmf: n[2] is 2, but must be in the interval [0, 1] (in '/home/szut/DA/lab2/code_2.stan', line 10, column 4 to column 25)Command and output files:\nRunSet: chains=4, chain_ids=[1, 2, 3, 4], num_processes=4\n cmd (chain 1):\n\t['/home/szut/DA/lab2/code_2', 'id=1', 'random', 'seed=48271', 'data', 'file=/tmp/tmp7f7h530y/eh84sh4s.json', 'output', 'file=/tmp/tmp7f7h530y/code_2-20220309115457_1.csv', 'method=sample', 'algorithm=hmc', 'adapt', 'engaged=1']\n retcodes=[1, 1, 1, 1]\n per-chain output files (showing chain 1 only):\n csv_file:\n\t/tmp/tmp7f7h530y/code_2-20220309115457_1.csv\n console_msgs (if any):\n\t/tmp/tmp7f7h530y/code_2-20220309115457_0-stdout.txt"
     ]
    }
   ],
   "source": [
    "bern1 = CmdStanModel(stan_file='code_2.stan')\n",
    "samp_bern1 = bern1.sample(data={'N':2, 'y':[0,2]})"
   ]
  },
  {
   "cell_type": "code",
   "execution_count": 37,
   "metadata": {
    "scrolled": true
   },
   "outputs": [
    {
     "name": "stderr",
     "output_type": "stream",
     "text": [
      "INFO:cmdstanpy:found newer exe file, not recompiling\n",
      "INFO:cmdstanpy:CmdStan start processing\n"
     ]
    },
    {
     "data": {
      "application/vnd.jupyter.widget-view+json": {
       "model_id": "d91f819711e240e48da4223fa230f08f",
       "version_major": 2,
       "version_minor": 0
      },
      "text/plain": [
       "chain 1 |          | 00:00 Status"
      ]
     },
     "metadata": {},
     "output_type": "display_data"
    },
    {
     "data": {
      "application/vnd.jupyter.widget-view+json": {
       "model_id": "eba60808641f4db2bc5e84fbbe120d80",
       "version_major": 2,
       "version_minor": 0
      },
      "text/plain": [
       "chain 2 |          | 00:00 Status"
      ]
     },
     "metadata": {},
     "output_type": "display_data"
    },
    {
     "data": {
      "application/vnd.jupyter.widget-view+json": {
       "model_id": "5b404ab899e64437bffff09ab533efa2",
       "version_major": 2,
       "version_minor": 0
      },
      "text/plain": [
       "chain 3 |          | 00:00 Status"
      ]
     },
     "metadata": {},
     "output_type": "display_data"
    },
    {
     "data": {
      "application/vnd.jupyter.widget-view+json": {
       "model_id": "4ea6c32152ef4622886880bdebc84827",
       "version_major": 2,
       "version_minor": 0
      },
      "text/plain": [
       "chain 4 |          | 00:00 Status"
      ]
     },
     "metadata": {},
     "output_type": "display_data"
    },
    {
     "name": "stderr",
     "output_type": "stream",
     "text": [
      "ERROR:cmdstanpy:Chain [3] error: error during processing Operation not permitted\n",
      "ERROR:cmdstanpy:Chain [1] error: error during processing Operation not permitted\n",
      "ERROR:cmdstanpy:Chain [2] error: error during processing Operation not permitted\n",
      "ERROR:cmdstanpy:Chain [4] error: error during processing Operation not permitted\n"
     ]
    },
    {
     "name": "stdout",
     "output_type": "stream",
     "text": [
      "                                                                                                                                                                                                                                                                                                                                                                                                                                                                                                                                                                                                                                                                                                                                                                                                                                                                                                                                                                                        "
     ]
    },
    {
     "name": "stderr",
     "output_type": "stream",
     "text": [
      "INFO:cmdstanpy:CmdStan done processing.\n"
     ]
    },
    {
     "name": "stdout",
     "output_type": "stream",
     "text": [
      "\n"
     ]
    },
    {
     "ename": "RuntimeError",
     "evalue": "Error during sampling:\nException: code_3_model_namespace::code_3_model: y[2] is 2, but must be less than or equal to 1.000000 (in '/home/szut/DA/lab2/code_3.stan', line 3, column 4 to column 31)\nException: code_3_model_namespace::code_3_model: y[2] is 2, but must be less than or equal to 1.000000 (in '/home/szut/DA/lab2/code_3.stan', line 3, column 4 to column 31)\nException: code_3_model_namespace::code_3_model: y[2] is 2, but must be less than or equal to 1.000000 (in '/home/szut/DA/lab2/code_3.stan', line 3, column 4 to column 31)\nException: code_3_model_namespace::code_3_model: y[2] is 2, but must be less than or equal to 1.000000 (in '/home/szut/DA/lab2/code_3.stan', line 3, column 4 to column 31)Command and output files:\nRunSet: chains=4, chain_ids=[1, 2, 3, 4], num_processes=4\n cmd (chain 1):\n\t['/home/szut/DA/lab2/code_3', 'id=1', 'random', 'seed=73596', 'data', 'file=/tmp/tmp7f7h530y/3_or5_kb.json', 'output', 'file=/tmp/tmp7f7h530y/code_3-20220309115503_1.csv', 'method=sample', 'algorithm=hmc', 'adapt', 'engaged=1']\n retcodes=[1, 1, 1, 1]\n per-chain output files (showing chain 1 only):\n csv_file:\n\t/tmp/tmp7f7h530y/code_3-20220309115503_1.csv\n console_msgs (if any):\n\t/tmp/tmp7f7h530y/code_3-20220309115503_0-stdout.txt",
     "output_type": "error",
     "traceback": [
      "\u001b[0;31m---------------------------------------------------------------------------\u001b[0m",
      "\u001b[0;31mRuntimeError\u001b[0m                              Traceback (most recent call last)",
      "\u001b[0;32m<ipython-input-37-da8a2541d9d2>\u001b[0m in \u001b[0;36m<module>\u001b[0;34m\u001b[0m\n\u001b[1;32m      1\u001b[0m \u001b[0mbern2\u001b[0m \u001b[0;34m=\u001b[0m \u001b[0mCmdStanModel\u001b[0m\u001b[0;34m(\u001b[0m\u001b[0mstan_file\u001b[0m\u001b[0;34m=\u001b[0m\u001b[0;34m'code_3.stan'\u001b[0m\u001b[0;34m)\u001b[0m\u001b[0;34m\u001b[0m\u001b[0;34m\u001b[0m\u001b[0m\n\u001b[0;32m----> 2\u001b[0;31m \u001b[0msamp_bern2\u001b[0m \u001b[0;34m=\u001b[0m \u001b[0mbern2\u001b[0m\u001b[0;34m.\u001b[0m\u001b[0msample\u001b[0m\u001b[0;34m(\u001b[0m\u001b[0mdata\u001b[0m\u001b[0;34m=\u001b[0m\u001b[0;34m{\u001b[0m\u001b[0;34m'N'\u001b[0m\u001b[0;34m:\u001b[0m\u001b[0;36m2\u001b[0m\u001b[0;34m,\u001b[0m \u001b[0;34m'y'\u001b[0m\u001b[0;34m:\u001b[0m\u001b[0;34m[\u001b[0m\u001b[0;36m0\u001b[0m\u001b[0;34m,\u001b[0m\u001b[0;36m2\u001b[0m\u001b[0;34m]\u001b[0m\u001b[0;34m}\u001b[0m\u001b[0;34m)\u001b[0m\u001b[0;34m\u001b[0m\u001b[0;34m\u001b[0m\u001b[0m\n\u001b[0m",
      "\u001b[0;32m~/anaconda3/lib/python3.8/site-packages/cmdstanpy/model.py\u001b[0m in \u001b[0;36msample\u001b[0;34m(self, data, chains, parallel_chains, threads_per_chain, seed, chain_ids, inits, iter_warmup, iter_sampling, save_warmup, thin, max_treedepth, metric, step_size, adapt_engaged, adapt_delta, adapt_init_phase, adapt_metric_window, adapt_step_size, fixed_param, output_dir, sig_figs, save_latent_dynamics, save_profile, show_progress, show_console, refresh, time_fmt, force_one_process_per_chain)\u001b[0m\n\u001b[1;32m   1087\u001b[0m                     \u001b[0mmsg\u001b[0m\u001b[0;34m,\u001b[0m \u001b[0mrunset\u001b[0m\u001b[0;34m.\u001b[0m\u001b[0m__repr__\u001b[0m\u001b[0;34m(\u001b[0m\u001b[0;34m)\u001b[0m\u001b[0;34m\u001b[0m\u001b[0;34m\u001b[0m\u001b[0m\n\u001b[1;32m   1088\u001b[0m                 )\n\u001b[0;32m-> 1089\u001b[0;31m                 \u001b[0;32mraise\u001b[0m \u001b[0mRuntimeError\u001b[0m\u001b[0;34m(\u001b[0m\u001b[0mmsg\u001b[0m\u001b[0;34m)\u001b[0m\u001b[0;34m\u001b[0m\u001b[0;34m\u001b[0m\u001b[0m\n\u001b[0m\u001b[1;32m   1090\u001b[0m \u001b[0;34m\u001b[0m\u001b[0m\n\u001b[1;32m   1091\u001b[0m             \u001b[0mmcmc\u001b[0m \u001b[0;34m=\u001b[0m \u001b[0mCmdStanMCMC\u001b[0m\u001b[0;34m(\u001b[0m\u001b[0mrunset\u001b[0m\u001b[0;34m)\u001b[0m\u001b[0;34m\u001b[0m\u001b[0;34m\u001b[0m\u001b[0m\n",
      "\u001b[0;31mRuntimeError\u001b[0m: Error during sampling:\nException: code_3_model_namespace::code_3_model: y[2] is 2, but must be less than or equal to 1.000000 (in '/home/szut/DA/lab2/code_3.stan', line 3, column 4 to column 31)\nException: code_3_model_namespace::code_3_model: y[2] is 2, but must be less than or equal to 1.000000 (in '/home/szut/DA/lab2/code_3.stan', line 3, column 4 to column 31)\nException: code_3_model_namespace::code_3_model: y[2] is 2, but must be less than or equal to 1.000000 (in '/home/szut/DA/lab2/code_3.stan', line 3, column 4 to column 31)\nException: code_3_model_namespace::code_3_model: y[2] is 2, but must be less than or equal to 1.000000 (in '/home/szut/DA/lab2/code_3.stan', line 3, column 4 to column 31)Command and output files:\nRunSet: chains=4, chain_ids=[1, 2, 3, 4], num_processes=4\n cmd (chain 1):\n\t['/home/szut/DA/lab2/code_3', 'id=1', 'random', 'seed=73596', 'data', 'file=/tmp/tmp7f7h530y/3_or5_kb.json', 'output', 'file=/tmp/tmp7f7h530y/code_3-20220309115503_1.csv', 'method=sample', 'algorithm=hmc', 'adapt', 'engaged=1']\n retcodes=[1, 1, 1, 1]\n per-chain output files (showing chain 1 only):\n csv_file:\n\t/tmp/tmp7f7h530y/code_3-20220309115503_1.csv\n console_msgs (if any):\n\t/tmp/tmp7f7h530y/code_3-20220309115503_0-stdout.txt"
     ]
    }
   ],
   "source": [
    "bern2 = CmdStanModel(stan_file='code_3.stan')\n",
    "samp_bern2 = bern2.sample(data={'N':2, 'y':[0,2]})"
   ]
  },
  {
   "cell_type": "markdown",
   "metadata": {},
   "source": [
    "## Excercise 3 - Constraints on parameters"
   ]
  },
  {
   "cell_type": "markdown",
   "metadata": {},
   "source": [
    "### Unconstrained parameters"
   ]
  },
  {
   "cell_type": "code",
   "execution_count": 52,
   "metadata": {},
   "outputs": [
    {
     "name": "stderr",
     "output_type": "stream",
     "text": [
      "INFO:cmdstanpy:found newer exe file, not recompiling\n",
      "INFO:cmdstanpy:CmdStan start processing\n"
     ]
    },
    {
     "data": {
      "application/vnd.jupyter.widget-view+json": {
       "model_id": "0ecb22f3d6804aecbf2bb6906cb7acb1",
       "version_major": 2,
       "version_minor": 0
      },
      "text/plain": [
       "chain 1 |          | 00:00 Status"
      ]
     },
     "metadata": {},
     "output_type": "display_data"
    },
    {
     "data": {
      "application/vnd.jupyter.widget-view+json": {
       "model_id": "7327a9033e634a448acb2a77ad150e05",
       "version_major": 2,
       "version_minor": 0
      },
      "text/plain": [
       "chain 2 |          | 00:00 Status"
      ]
     },
     "metadata": {},
     "output_type": "display_data"
    },
    {
     "data": {
      "application/vnd.jupyter.widget-view+json": {
       "model_id": "5f34e468b96147f99cdec0feca36989a",
       "version_major": 2,
       "version_minor": 0
      },
      "text/plain": [
       "chain 3 |          | 00:00 Status"
      ]
     },
     "metadata": {},
     "output_type": "display_data"
    },
    {
     "data": {
      "application/vnd.jupyter.widget-view+json": {
       "model_id": "7e02990d209f4b97a4634ab9fb855ddb",
       "version_major": 2,
       "version_minor": 0
      },
      "text/plain": [
       "chain 4 |          | 00:00 Status"
      ]
     },
     "metadata": {},
     "output_type": "display_data"
    },
    {
     "name": "stdout",
     "output_type": "stream",
     "text": [
      "                                                                                                                                                                                                                                                                                                                                                                                                                                                                                                                                                                                                                                                                                                                                                                                                                                                                                                                                                                                        "
     ]
    },
    {
     "name": "stderr",
     "output_type": "stream",
     "text": [
      "INFO:cmdstanpy:CmdStan done processing.\n"
     ]
    },
    {
     "name": "stdout",
     "output_type": "stream",
     "text": [
      "\n"
     ]
    },
    {
     "data": {
      "text/plain": [
       "\"Processing csv files: /home/szut/DA/lab2/samples/code_4-20220309120238_1.csv, /home/szut/DA/lab2/samples/code_4-20220309120238_2.csv, /home/szut/DA/lab2/samples/code_4-20220309120238_3.csv, /home/szut/DA/lab2/samples/code_4-20220309120238_4.csv\\n\\nChecking sampler transitions treedepth.\\nTreedepth satisfactory for all transitions.\\n\\nChecking sampler transitions for divergences.\\n9400 of 24000 (39.17%) transitions ended with a divergence.\\nThese divergent transitions indicate that HMC is not fully able to explore the posterior distribution.\\nTry increasing adapt delta closer to 1.\\nIf this doesn't remove all divergences, try to reparameterize the model.\\n\\nChecking E-BFMI - sampler transitions HMC potential energy.\\nE-BFMI satisfactory.\\n\\nEffective sample size satisfactory.\\n\\nSplit R-hat values satisfactory all parameters.\\n\\nProcessing complete.\\n\""
      ]
     },
     "execution_count": 52,
     "metadata": {},
     "output_type": "execute_result"
    }
   ],
   "source": [
    "model_gm1 = CmdStanModel(stan_file='code_4.stan')\n",
    "out_gamma1 = model_gm1.sample(output_dir='samples',iter_sampling=6000,iter_warmup=1000, seed=4838282)\n",
    "out_gamma1.diagnose()\n"
   ]
  },
  {
   "cell_type": "code",
   "execution_count": 53,
   "metadata": {},
   "outputs": [
    {
     "data": {
      "image/png": "[encoded data removed]",
      "text/plain": [
       "<Figure size 432x288 with 1 Axes>"
      ]
     },
     "metadata": {
      "needs_background": "light"
     },
     "output_type": "display_data"
    },
    {
     "data": {
      "text/plain": [
       "(array([529., 799., 816., 830., 829., 845., 867., 780., 762., 768., 693.,\n",
       "        799., 691., 705., 640., 627., 583., 544., 584., 518., 472., 459.,\n",
       "        438., 398., 399., 391., 387., 333., 362., 304., 314., 275., 281.,\n",
       "        265., 255., 230., 219., 227., 197., 211., 178., 189., 149., 128.,\n",
       "        152., 141., 136., 104., 107., 101., 106., 111.,  91., 108.,  99.,\n",
       "         88.,  84.,  77.,  72.,  73.,  52.,  66.,  58.,  45.,  51.,  54.,\n",
       "         42.,  38.,  42.,  32.,  22.,  36.,  33.,  26.,  30.,  28.,  19.,\n",
       "         23.,  22.,  16.,  16.,  20.,  14.,  13.,  18.,  11.,  18.,  17.,\n",
       "         10.,   9.,  11.,   6.,   6.,  10.,   7.,  12.,   2.,   8.,   9.,\n",
       "         10.,   7.,   4.,   7.,   0.,   5.,   6.,   9.,   6.,   9.,   1.,\n",
       "          6.,   1.,   3.,   5.,   2.,   0.,   4.,   5.,   3.,   5.,   1.,\n",
       "          0.,   1.,   1.,   1.,   0.,   0.,   2.,   0.,   2.,   4.,   1.,\n",
       "          0.,   0.,   1.,   1.,   0.,   2.,   1.,   2.,   0.,   1.,   0.,\n",
       "          0.,   0.,   0.,   0.,   0.,   1.,   1.,   1.,   1.,   0.,   0.,\n",
       "          0.,   1.,   0.,   1.,   2.,   1.]),\n",
       " array([4.86911000e-03, 5.17201156e-02, 9.85711211e-02, 1.45422127e-01,\n",
       "        1.92273132e-01, 2.39124138e-01, 2.85975143e-01, 3.32826149e-01,\n",
       "        3.79677155e-01, 4.26528160e-01, 4.73379166e-01, 5.20230171e-01,\n",
       "        5.67081177e-01, 6.13932182e-01, 6.60783188e-01, 7.07634193e-01,\n",
       "        7.54485199e-01, 8.01336205e-01, 8.48187210e-01, 8.95038216e-01,\n",
       "        9.41889221e-01, 9.88740227e-01, 1.03559123e+00, 1.08244224e+00,\n",
       "        1.12929324e+00, 1.17614425e+00, 1.22299525e+00, 1.26984626e+00,\n",
       "        1.31669727e+00, 1.36354827e+00, 1.41039928e+00, 1.45725028e+00,\n",
       "        1.50410129e+00, 1.55095229e+00, 1.59780330e+00, 1.64465430e+00,\n",
       "        1.69150531e+00, 1.73835632e+00, 1.78520732e+00, 1.83205833e+00,\n",
       "        1.87890933e+00, 1.92576034e+00, 1.97261134e+00, 2.01946235e+00,\n",
       "        2.06631335e+00, 2.11316436e+00, 2.16001537e+00, 2.20686637e+00,\n",
       "        2.25371738e+00, 2.30056838e+00, 2.34741939e+00, 2.39427039e+00,\n",
       "        2.44112140e+00, 2.48797240e+00, 2.53482341e+00, 2.58167442e+00,\n",
       "        2.62852542e+00, 2.67537643e+00, 2.72222743e+00, 2.76907844e+00,\n",
       "        2.81592944e+00, 2.86278045e+00, 2.90963145e+00, 2.95648246e+00,\n",
       "        3.00333347e+00, 3.05018447e+00, 3.09703548e+00, 3.14388648e+00,\n",
       "        3.19073749e+00, 3.23758849e+00, 3.28443950e+00, 3.33129050e+00,\n",
       "        3.37814151e+00, 3.42499252e+00, 3.47184352e+00, 3.51869453e+00,\n",
       "        3.56554553e+00, 3.61239654e+00, 3.65924754e+00, 3.70609855e+00,\n",
       "        3.75294956e+00, 3.79980056e+00, 3.84665157e+00, 3.89350257e+00,\n",
       "        3.94035358e+00, 3.98720458e+00, 4.03405559e+00, 4.08090659e+00,\n",
       "        4.12775760e+00, 4.17460861e+00, 4.22145961e+00, 4.26831062e+00,\n",
       "        4.31516162e+00, 4.36201263e+00, 4.40886363e+00, 4.45571464e+00,\n",
       "        4.50256564e+00, 4.54941665e+00, 4.59626766e+00, 4.64311866e+00,\n",
       "        4.68996967e+00, 4.73682067e+00, 4.78367168e+00, 4.83052268e+00,\n",
       "        4.87737369e+00, 4.92422469e+00, 4.97107570e+00, 5.01792671e+00,\n",
       "        5.06477771e+00, 5.11162872e+00, 5.15847972e+00, 5.20533073e+00,\n",
       "        5.25218173e+00, 5.29903274e+00, 5.34588374e+00, 5.39273475e+00,\n",
       "        5.43958576e+00, 5.48643676e+00, 5.53328777e+00, 5.58013877e+00,\n",
       "        5.62698978e+00, 5.67384078e+00, 5.72069179e+00, 5.76754279e+00,\n",
       "        5.81439380e+00, 5.86124481e+00, 5.90809581e+00, 5.95494682e+00,\n",
       "        6.00179782e+00, 6.04864883e+00, 6.09549983e+00, 6.14235084e+00,\n",
       "        6.18920184e+00, 6.23605285e+00, 6.28290386e+00, 6.32975486e+00,\n",
       "        6.37660587e+00, 6.42345687e+00, 6.47030788e+00, 6.51715888e+00,\n",
       "        6.56400989e+00, 6.61086089e+00, 6.65771190e+00, 6.70456291e+00,\n",
       "        6.75141391e+00, 6.79826492e+00, 6.84511592e+00, 6.89196693e+00,\n",
       "        6.93881793e+00, 6.98566894e+00, 7.03251994e+00, 7.07937095e+00,\n",
       "        7.12622196e+00, 7.17307296e+00, 7.21992397e+00, 7.26677497e+00,\n",
       "        7.31362598e+00, 7.36047698e+00, 7.40732799e+00, 7.45417899e+00,\n",
       "        7.50103000e+00]),\n",
       " <BarContainer object of 160 artists>)"
      ]
     },
     "execution_count": 53,
     "metadata": {},
     "output_type": "execute_result"
    },
    {
     "data": {
      "image/png": "[encoded data removed]",
      "text/plain": [
       "<Figure size 432x288 with 1 Axes>"
      ]
     },
     "metadata": {
      "needs_background": "light"
     },
     "output_type": "display_data"
    }
   ],
   "source": [
    "N=500\n",
    "xs = np.linspace(0,8,N)\n",
    "pdfs = stats.gamma.pdf(xs, 1.25, scale = 1 / 1.25) \n",
    "\n",
    "plt.plot(xs, pdfs, linewidth=2)\n",
    "\n",
    "\n",
    "\n",
    "plt.gca().set_xlabel(\"theta\")\n",
    "plt.gca().set_ylabel(\"Probability Density Function\")\n",
    "plt.show()\n",
    "\n",
    "## add histogram of theta samples with 160 bins\n",
    "theta1 = out_gamma1.stan_variable('theta')\n",
    "plt.hist(theta1, bins=160)"
   ]
  },
  {
   "cell_type": "markdown",
   "metadata": {},
   "source": [
    "### Constrained parameter"
   ]
  },
  {
   "cell_type": "code",
   "execution_count": 49,
   "metadata": {},
   "outputs": [
    {
     "name": "stderr",
     "output_type": "stream",
     "text": [
      "INFO:cmdstanpy:found newer exe file, not recompiling\n",
      "INFO:cmdstanpy:CmdStan start processing\n"
     ]
    },
    {
     "data": {
      "application/vnd.jupyter.widget-view+json": {
       "model_id": "40375555cb044da9b94dfeab1d4a76cf",
       "version_major": 2,
       "version_minor": 0
      },
      "text/plain": [
       "chain 1 |          | 00:00 Status"
      ]
     },
     "metadata": {},
     "output_type": "display_data"
    },
    {
     "data": {
      "application/vnd.jupyter.widget-view+json": {
       "model_id": "d755126374e446f49d63f8ac686080d1",
       "version_major": 2,
       "version_minor": 0
      },
      "text/plain": [
       "chain 2 |          | 00:00 Status"
      ]
     },
     "metadata": {},
     "output_type": "display_data"
    },
    {
     "data": {
      "application/vnd.jupyter.widget-view+json": {
       "model_id": "4c600fe033ce4ece97b3e909ebaa9777",
       "version_major": 2,
       "version_minor": 0
      },
      "text/plain": [
       "chain 3 |          | 00:00 Status"
      ]
     },
     "metadata": {},
     "output_type": "display_data"
    },
    {
     "data": {
      "application/vnd.jupyter.widget-view+json": {
       "model_id": "decd259c1c2844ec8813c1fb187f33c2",
       "version_major": 2,
       "version_minor": 0
      },
      "text/plain": [
       "chain 4 |          | 00:00 Status"
      ]
     },
     "metadata": {},
     "output_type": "display_data"
    },
    {
     "name": "stdout",
     "output_type": "stream",
     "text": [
      "                                                                                                                                                                                                                                                                                                                                                                                                                                                                                                                                                                                                                                                                                                                                                                                                                                                                                                                                                                                        "
     ]
    },
    {
     "name": "stderr",
     "output_type": "stream",
     "text": [
      "INFO:cmdstanpy:CmdStan done processing.\n"
     ]
    },
    {
     "name": "stdout",
     "output_type": "stream",
     "text": [
      "\n"
     ]
    },
    {
     "data": {
      "text/plain": [
       "'Processing csv files: /home/szut/DA/lab2/samples/code_5-20220309120113_1.csv, /home/szut/DA/lab2/samples/code_5-20220309120113_2.csv, /home/szut/DA/lab2/samples/code_5-20220309120113_3.csv, /home/szut/DA/lab2/samples/code_5-20220309120113_4.csv\\n\\nChecking sampler transitions treedepth.\\nTreedepth satisfactory for all transitions.\\n\\nChecking sampler transitions for divergences.\\nNo divergent transitions found.\\n\\nChecking E-BFMI - sampler transitions HMC potential energy.\\nE-BFMI satisfactory.\\n\\nEffective sample size satisfactory.\\n\\nSplit R-hat values satisfactory all parameters.\\n\\nProcessing complete, no problems detected.\\n'"
      ]
     },
     "execution_count": 49,
     "metadata": {},
     "output_type": "execute_result"
    }
   ],
   "source": [
    "model_gm2 = CmdStanModel(stan_file='code_5.stan')\n",
    "out_gamma2 = model_gm2.sample(output_dir='samples',iter_sampling=6000,iter_warmup=1000, seed=4838282)\n",
    "out_gamma2.diagnose()"
   ]
  },
  {
   "cell_type": "code",
   "execution_count": 51,
   "metadata": {},
   "outputs": [
    {
     "data": {
      "image/png": "[encoded data removed]",
      "text/plain": [
       "<Figure size 432x288 with 1 Axes>"
      ]
     },
     "metadata": {
      "needs_background": "light"
     },
     "output_type": "display_data"
    },
    {
     "data": {
      "text/plain": [
       "(array([634., 856., 850., 933., 943., 889., 854., 805., 786., 804., 792.,\n",
       "        803., 727., 735., 660., 615., 576., 589., 498., 505., 481., 448.,\n",
       "        436., 457., 399., 362., 344., 358., 338., 280., 270., 261., 270.,\n",
       "        261., 241., 215., 206., 185., 187., 173., 187., 159., 169., 156.,\n",
       "        126., 122., 127., 102.,  83., 106., 104.,  96.,  88.,  74.,  74.,\n",
       "         47.,  69.,  75.,  65.,  39.,  61.,  46.,  43.,  52.,  40.,  40.,\n",
       "         38.,  31.,  29.,  37.,  27.,  28.,  17.,  23.,  20.,  21.,  18.,\n",
       "         19.,  15.,  11.,  18.,  10.,  11.,  17.,  12.,  10.,  14.,  16.,\n",
       "         19.,   5.,   7.,  15.,   6.,   7.,   8.,   7.,  13.,   2.,   5.,\n",
       "          5.,   3.,   6.,   4.,  11.,   5.,   7.,   4.,   2.,   2.,   2.,\n",
       "          3.,   0.,   1.,   3.,   3.,   0.,   0.,   4.,   2.,   1.,   2.,\n",
       "          2.,   2.,   1.,   1.,   0.,   2.,   0.,   0.,   0.,   2.,   1.,\n",
       "          2.,   1.,   0.,   0.,   1.,   0.,   0.,   0.,   0.,   0.,   0.,\n",
       "          0.,   0.,   0.,   0.,   1.,   0.,   0.,   0.,   1.,   0.,   0.,\n",
       "          0.,   0.,   0.,   0.,   0.,   1.]),\n",
       " array([1.00470000e-03, 5.21209831e-02, 1.03237266e-01, 1.54353549e-01,\n",
       "        2.05469833e-01, 2.56586116e-01, 3.07702399e-01, 3.58818682e-01,\n",
       "        4.09934965e-01, 4.61051248e-01, 5.12167531e-01, 5.63283814e-01,\n",
       "        6.14400098e-01, 6.65516381e-01, 7.16632664e-01, 7.67748947e-01,\n",
       "        8.18865230e-01, 8.69981513e-01, 9.21097796e-01, 9.72214079e-01,\n",
       "        1.02333036e+00, 1.07444665e+00, 1.12556293e+00, 1.17667921e+00,\n",
       "        1.22779550e+00, 1.27891178e+00, 1.33002806e+00, 1.38114434e+00,\n",
       "        1.43226063e+00, 1.48337691e+00, 1.53449319e+00, 1.58560948e+00,\n",
       "        1.63672576e+00, 1.68784204e+00, 1.73895833e+00, 1.79007461e+00,\n",
       "        1.84119089e+00, 1.89230718e+00, 1.94342346e+00, 1.99453974e+00,\n",
       "        2.04565603e+00, 2.09677231e+00, 2.14788859e+00, 2.19900487e+00,\n",
       "        2.25012116e+00, 2.30123744e+00, 2.35235372e+00, 2.40347001e+00,\n",
       "        2.45458629e+00, 2.50570257e+00, 2.55681886e+00, 2.60793514e+00,\n",
       "        2.65905142e+00, 2.71016771e+00, 2.76128399e+00, 2.81240027e+00,\n",
       "        2.86351656e+00, 2.91463284e+00, 2.96574912e+00, 3.01686540e+00,\n",
       "        3.06798169e+00, 3.11909797e+00, 3.17021425e+00, 3.22133054e+00,\n",
       "        3.27244682e+00, 3.32356310e+00, 3.37467939e+00, 3.42579567e+00,\n",
       "        3.47691195e+00, 3.52802824e+00, 3.57914452e+00, 3.63026080e+00,\n",
       "        3.68137709e+00, 3.73249337e+00, 3.78360965e+00, 3.83472593e+00,\n",
       "        3.88584222e+00, 3.93695850e+00, 3.98807478e+00, 4.03919107e+00,\n",
       "        4.09030735e+00, 4.14142363e+00, 4.19253992e+00, 4.24365620e+00,\n",
       "        4.29477248e+00, 4.34588877e+00, 4.39700505e+00, 4.44812133e+00,\n",
       "        4.49923762e+00, 4.55035390e+00, 4.60147018e+00, 4.65258646e+00,\n",
       "        4.70370275e+00, 4.75481903e+00, 4.80593531e+00, 4.85705160e+00,\n",
       "        4.90816788e+00, 4.95928416e+00, 5.01040045e+00, 5.06151673e+00,\n",
       "        5.11263301e+00, 5.16374930e+00, 5.21486558e+00, 5.26598186e+00,\n",
       "        5.31709815e+00, 5.36821443e+00, 5.41933071e+00, 5.47044699e+00,\n",
       "        5.52156328e+00, 5.57267956e+00, 5.62379584e+00, 5.67491213e+00,\n",
       "        5.72602841e+00, 5.77714469e+00, 5.82826098e+00, 5.87937726e+00,\n",
       "        5.93049354e+00, 5.98160983e+00, 6.03272611e+00, 6.08384239e+00,\n",
       "        6.13495868e+00, 6.18607496e+00, 6.23719124e+00, 6.28830752e+00,\n",
       "        6.33942381e+00, 6.39054009e+00, 6.44165637e+00, 6.49277266e+00,\n",
       "        6.54388894e+00, 6.59500522e+00, 6.64612151e+00, 6.69723779e+00,\n",
       "        6.74835407e+00, 6.79947036e+00, 6.85058664e+00, 6.90170292e+00,\n",
       "        6.95281921e+00, 7.00393549e+00, 7.05505177e+00, 7.10616805e+00,\n",
       "        7.15728434e+00, 7.20840062e+00, 7.25951690e+00, 7.31063319e+00,\n",
       "        7.36174947e+00, 7.41286575e+00, 7.46398204e+00, 7.51509832e+00,\n",
       "        7.56621460e+00, 7.61733089e+00, 7.66844717e+00, 7.71956345e+00,\n",
       "        7.77067974e+00, 7.82179602e+00, 7.87291230e+00, 7.92402858e+00,\n",
       "        7.97514487e+00, 8.02626115e+00, 8.07737743e+00, 8.12849372e+00,\n",
       "        8.17961000e+00]),\n",
       " <BarContainer object of 160 artists>)"
      ]
     },
     "execution_count": 51,
     "metadata": {},
     "output_type": "execute_result"
    },
    {
     "data": {
      "image/png": "[encoded data removed]",
      "text/plain": [
       "<Figure size 432x288 with 1 Axes>"
      ]
     },
     "metadata": {
      "needs_background": "light"
     },
     "output_type": "display_data"
    }
   ],
   "source": [
    "N=500\n",
    "xs = np.linspace(0,8,N)\n",
    "pdfs = stats.gamma.pdf(xs, 1.25, scale = 1 / 1.25) \n",
    "\n",
    "plt.plot(xs, pdfs, linewidth=2)\n",
    "\n",
    "## add histogram of theta samples from the second model with 160 bins\n",
    "\n",
    "plt.gca().set_xlabel(\"theta\")\n",
    "plt.gca().set_ylabel(\"Probability Density Function\")\n",
    "plt.show()\n",
    "\n",
    "## add histogram of theta samples with 160 bins\n",
    "theta2 = out_gamma2.stan_variable('theta')\n",
    "plt.hist(theta2, bins=160)"
   ]
  },
  {
   "cell_type": "markdown",
   "metadata": {},
   "source": [
    "## Excercise 4 -  Selection of parameters using equation solving\n",
    "\n"
   ]
  },
  {
   "cell_type": "code",
   "execution_count": 58,
   "metadata": {},
   "outputs": [
    {
     "name": "stderr",
     "output_type": "stream",
     "text": [
      "INFO:cmdstanpy:found newer exe file, not recompiling\n",
      "INFO:cmdstanpy:CmdStan start processing\n"
     ]
    },
    {
     "data": {
      "application/vnd.jupyter.widget-view+json": {
       "model_id": "9cc8f196be94422e9d41abf7705baa7e",
       "version_major": 2,
       "version_minor": 0
      },
      "text/plain": [
       "chain 1 |          | 00:00 Status"
      ]
     },
     "metadata": {},
     "output_type": "display_data"
    },
    {
     "name": "stdout",
     "output_type": "stream",
     "text": [
      "                                                                                                                                                                                                                                              "
     ]
    },
    {
     "name": "stderr",
     "output_type": "stream",
     "text": [
      "INFO:cmdstanpy:CmdStan done processing.\n"
     ]
    },
    {
     "name": "stdout",
     "output_type": "stream",
     "text": [
      "\n"
     ]
    }
   ],
   "source": [
    "model_tune = CmdStanModel(stan_file='code_6.stan')\n",
    "\n",
    "F = 5 # number of letters in the first name\n",
    "L = 4 # number of letters in the last name\n",
    "y0 = 2 # initial guess for the equation solving\n",
    "\n",
    "data={'y_guess':[y0],\n",
    "        'theta':[(F+L)/2]}\n",
    "tunes = model_tune.sample(data=data, fixed_param=True, iter_sampling=1, iter_warmup=0, chains = 1)"
   ]
  },
  {
   "cell_type": "code",
   "execution_count": 60,
   "metadata": {},
   "outputs": [
    {
     "data": {
      "text/plain": [
       "array([1.74701])"
      ]
     },
     "execution_count": 60,
     "metadata": {},
     "output_type": "execute_result"
    }
   ],
   "source": [
    "tunes.stan_variable(\"sigma\")\n",
    "# From stdout: std dev = 1.74701"
   ]
  },
  {
   "cell_type": "markdown",
   "metadata": {},
   "source": [
    "## Excercise 5 - different methods of defining models\n"
   ]
  },
  {
   "cell_type": "code",
   "execution_count": null,
   "metadata": {},
   "outputs": [],
   "source": [
    "model_samp_st = CmdStanModel(stan_file='code_7.stan')\n",
    "model_log_target = CmdStanModel(stan_file='code_8.stan')\n",
    "model_log_target_ind = CmdStanModel(stan_file='code_9.stan')\n",
    "data = {'N': F}\n",
    "seed = #integer, your date of birth in the DDMMYYYY format without leading zero (or if you are GPRD weary, use any other date you wish)\n",
    "result_1 = model_samp_st.sample(data=data,seed=seed)\n",
    "result_2 = model_log_target(data=data,seed=seed)\n",
    "result_3 = model_log_target_ind(data=data,seed=seed)\n",
    "\n"
   ]
  },
  {
   "cell_type": "code",
   "execution_count": null,
   "metadata": {},
   "outputs": [],
   "source": [
    "az.plot_density([result_1,result_2,result_3])\n",
    "plt.show()"
   ]
  },
  {
   "cell_type": "markdown",
   "metadata": {},
   "source": [
    "## Excercise 6 - generated quantities post sampling"
   ]
  },
  {
   "cell_type": "code",
   "execution_count": null,
   "metadata": {},
   "outputs": [],
   "source": [
    "model_gq = CmdStanModel(stan_file='code_10.stan')\n",
    "# fill in with chosen result from previous excercise\n",
    "mean_of_y = model_gq.generate_quantities(data=data,\n",
    "                                        mcmc_sample = )\n",
    "# investigate the output and plot histogram of mean_y variableŌ"
   ]
  }
 ],
 "metadata": {
  "kernelspec": {
   "display_name": "Python 3",
   "language": "python",
   "name": "python3"
  },
  "language_info": {
   "codemirror_mode": {
    "name": "ipython",
    "version": 3
   },
   "file_extension": ".py",
   "mimetype": "text/x-python",
   "name": "python",
   "nbconvert_exporter": "python",
   "pygments_lexer": "ipython3",
   "version": "3.8.8"
  }
 },
 "nbformat": 4,
 "nbformat_minor": 2
}
